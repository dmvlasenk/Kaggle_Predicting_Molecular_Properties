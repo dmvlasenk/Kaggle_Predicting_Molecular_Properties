{
 "cells": [
  {
   "cell_type": "code",
   "execution_count": 1,
   "metadata": {},
   "outputs": [],
   "source": [
    "from Utils import *\n",
    "import pandas as pd\n",
    "import numpy as np\n",
    "from sklearn.model_selection import train_test_split\n",
    "from lightgbm import LGBMRegressor\n",
    "from sklearn.metrics import mean_absolute_error\n",
    "import matplotlib.pyplot as plt\n",
    "import os.path\n"
   ]
  },
  {
   "cell_type": "code",
   "execution_count": 2,
   "metadata": {},
   "outputs": [],
   "source": [
    "coupling_type = '1JHN'\n",
    "#XY_Data = pd.read_csv(f'{Config.INPUT_XY}/{coupling_type}.csv', index_col=0)\n",
    "#n_atoms = 11\n",
    "#train_csv = load_train()\n",
    "#XY_Data = build_XY(train_csv, coupling_type, n_atoms, False)\n",
    "XY_Data = pd.read_csv(f'{Config.INPUT_XY}/{coupling_type}.csv', index_col=0)"
   ]
  },
  {
   "cell_type": "code",
   "execution_count": 3,
   "metadata": {},
   "outputs": [],
   "source": [
    "#XY_Data, _ = train_test_split(XY_Data, test_size=0.9, random_state=42)"
   ]
  },
  {
   "cell_type": "code",
   "execution_count": 4,
   "metadata": {},
   "outputs": [],
   "source": [
    "#XY_Data = XY_Data[labels]\n",
    "#XY_Data['atom_2_6'] = 0\n",
    "#XY_Data[XY_Data.atom_2 == 6].atom_2_6 = 1\n",
    "#XY_Data.atom_2.unique()\n",
    "#labels = [col for col in XY_Data if col.startswith('atom_')]\n",
    "#labels = ['atom_2', 'atom_3']\n",
    "#bbb = XY_Data[labels]\n",
    "#XY_Data = pd.get_dummies(XY_Data, columns = labels, prefix = labels, drop_first = True)\n",
    "#aaa.head()"
   ]
  },
  {
   "cell_type": "code",
   "execution_count": 5,
   "metadata": {},
   "outputs": [
    {
     "data": {
      "text/plain": [
       "0    0.0\n",
       "1    0.0\n",
       "2    0.0\n",
       "3    0.0\n",
       "4    0.0\n",
       "Name: d_7_3, dtype: float64"
      ]
     },
     "execution_count": 5,
     "metadata": {},
     "output_type": "execute_result"
    }
   ],
   "source": [
    "XY_Data.d_7_3.head()"
   ]
  },
  {
   "cell_type": "code",
   "execution_count": 6,
   "metadata": {},
   "outputs": [
    {
     "data": {
      "text/plain": [
       "Index(['atom_2', 'atom_3', 'atom_4', 'atom_5', 'atom_6', 'atom_7', 'atom_8',\n",
       "       'atom_9', 'atom_10', 'r_x_1', 'r_x_2', 'r_x_3', 'r_x_4', 'r_x_5',\n",
       "       'r_x_6', 'r_x_7', 'r_x_8', 'r_x_9', 'r_x_10', 'r_y_2', 'r_y_3', 'r_y_4',\n",
       "       'r_y_5', 'r_y_6', 'r_y_7', 'r_y_8', 'r_y_9', 'r_y_10', 'r_z_3', 'r_z_4',\n",
       "       'r_z_5', 'r_z_6', 'r_z_7', 'r_z_8', 'r_z_9', 'r_z_10', 'd_2_0', 'd_2_1',\n",
       "       'd_3_0', 'd_3_1', 'd_3_2', 'd_4_0', 'd_4_1', 'd_4_2', 'd_4_3', 'd_5_0',\n",
       "       'd_5_1', 'd_5_2', 'd_5_3', 'd_5_4', 'd_6_0', 'd_6_1', 'd_6_2', 'd_6_3',\n",
       "       'd_6_4', 'd_6_5', 'd_7_0', 'd_7_1', 'd_7_2', 'd_7_3', 'd_7_4', 'd_7_5',\n",
       "       'd_8_0', 'd_8_1', 'd_8_2', 'd_8_3', 'd_8_4', 'd_8_5', 'd_9_0', 'd_9_1',\n",
       "       'd_9_2', 'd_9_3', 'd_9_4', 'd_9_5', 'd_10_0', 'd_10_1', 'd_10_2',\n",
       "       'd_10_3', 'd_10_4', 'd_10_5', 'scalar_coupling_constant'],\n",
       "      dtype='object')"
      ]
     },
     "execution_count": 6,
     "metadata": {},
     "output_type": "execute_result"
    }
   ],
   "source": [
    "XY_Data.columns"
   ]
  },
  {
   "cell_type": "code",
   "execution_count": 7,
   "metadata": {},
   "outputs": [],
   "source": [
    "XY_train, XY_Val =  train_test_split(XY_Data, test_size=0.1, random_state=228)\n",
    "X_val, y_val = build_x_y_data(XY_Val)    "
   ]
  },
  {
   "cell_type": "code",
   "execution_count": 8,
   "metadata": {},
   "outputs": [
    {
     "data": {
      "text/html": [
       "<div>\n",
       "<style scoped>\n",
       "    .dataframe tbody tr th:only-of-type {\n",
       "        vertical-align: middle;\n",
       "    }\n",
       "\n",
       "    .dataframe tbody tr th {\n",
       "        vertical-align: top;\n",
       "    }\n",
       "\n",
       "    .dataframe thead th {\n",
       "        text-align: right;\n",
       "    }\n",
       "</style>\n",
       "<table border=\"1\" class=\"dataframe\">\n",
       "  <thead>\n",
       "    <tr style=\"text-align: right;\">\n",
       "      <th></th>\n",
       "      <th>atom_2</th>\n",
       "      <th>atom_3</th>\n",
       "      <th>atom_4</th>\n",
       "      <th>atom_5</th>\n",
       "      <th>atom_6</th>\n",
       "      <th>atom_7</th>\n",
       "      <th>atom_8</th>\n",
       "      <th>atom_9</th>\n",
       "      <th>atom_10</th>\n",
       "      <th>r_x_1</th>\n",
       "      <th>...</th>\n",
       "      <th>d_9_2</th>\n",
       "      <th>d_9_3</th>\n",
       "      <th>d_9_4</th>\n",
       "      <th>d_9_5</th>\n",
       "      <th>d_10_0</th>\n",
       "      <th>d_10_1</th>\n",
       "      <th>d_10_2</th>\n",
       "      <th>d_10_3</th>\n",
       "      <th>d_10_4</th>\n",
       "      <th>d_10_5</th>\n",
       "    </tr>\n",
       "  </thead>\n",
       "  <tbody>\n",
       "    <tr>\n",
       "      <th>count</th>\n",
       "      <td>4337.000000</td>\n",
       "      <td>4337.000000</td>\n",
       "      <td>4337.000000</td>\n",
       "      <td>4337.000000</td>\n",
       "      <td>4337.000000</td>\n",
       "      <td>4337.000000</td>\n",
       "      <td>4337.000000</td>\n",
       "      <td>4337.000000</td>\n",
       "      <td>4337.000000</td>\n",
       "      <td>4337.000000</td>\n",
       "      <td>...</td>\n",
       "      <td>4337.000000</td>\n",
       "      <td>4337.000000</td>\n",
       "      <td>4337.000000</td>\n",
       "      <td>4337.000000</td>\n",
       "      <td>4337.000000</td>\n",
       "      <td>4337.000000</td>\n",
       "      <td>4337.000000</td>\n",
       "      <td>4337.000000</td>\n",
       "      <td>4337.000000</td>\n",
       "      <td>4337.000000</td>\n",
       "    </tr>\n",
       "    <tr>\n",
       "      <th>mean</th>\n",
       "      <td>4.195527</td>\n",
       "      <td>6.020060</td>\n",
       "      <td>4.056491</td>\n",
       "      <td>4.355545</td>\n",
       "      <td>4.483283</td>\n",
       "      <td>4.685497</td>\n",
       "      <td>4.537007</td>\n",
       "      <td>4.119668</td>\n",
       "      <td>3.975098</td>\n",
       "      <td>-0.506390</td>\n",
       "      <td>...</td>\n",
       "      <td>3.271506</td>\n",
       "      <td>2.805672</td>\n",
       "      <td>3.195402</td>\n",
       "      <td>2.993048</td>\n",
       "      <td>4.079259</td>\n",
       "      <td>3.582247</td>\n",
       "      <td>3.514811</td>\n",
       "      <td>3.018712</td>\n",
       "      <td>3.353807</td>\n",
       "      <td>3.152938</td>\n",
       "    </tr>\n",
       "    <tr>\n",
       "      <th>std</th>\n",
       "      <td>2.469472</td>\n",
       "      <td>1.017519</td>\n",
       "      <td>2.942529</td>\n",
       "      <td>2.800968</td>\n",
       "      <td>2.719812</td>\n",
       "      <td>2.571084</td>\n",
       "      <td>2.630641</td>\n",
       "      <td>2.777865</td>\n",
       "      <td>2.848792</td>\n",
       "      <td>0.002920</td>\n",
       "      <td>...</td>\n",
       "      <td>1.025852</td>\n",
       "      <td>0.769508</td>\n",
       "      <td>1.087911</td>\n",
       "      <td>1.132733</td>\n",
       "      <td>0.810863</td>\n",
       "      <td>0.749819</td>\n",
       "      <td>1.077227</td>\n",
       "      <td>0.834264</td>\n",
       "      <td>1.159281</td>\n",
       "      <td>1.176589</td>\n",
       "    </tr>\n",
       "    <tr>\n",
       "      <th>min</th>\n",
       "      <td>1.000000</td>\n",
       "      <td>1.000000</td>\n",
       "      <td>1.000000</td>\n",
       "      <td>1.000000</td>\n",
       "      <td>0.000000</td>\n",
       "      <td>0.000000</td>\n",
       "      <td>0.000000</td>\n",
       "      <td>0.000000</td>\n",
       "      <td>0.000000</td>\n",
       "      <td>-0.543186</td>\n",
       "      <td>...</td>\n",
       "      <td>0.000000</td>\n",
       "      <td>0.000000</td>\n",
       "      <td>0.000000</td>\n",
       "      <td>0.000000</td>\n",
       "      <td>0.000000</td>\n",
       "      <td>0.000000</td>\n",
       "      <td>0.000000</td>\n",
       "      <td>0.000000</td>\n",
       "      <td>0.000000</td>\n",
       "      <td>0.000000</td>\n",
       "    </tr>\n",
       "    <tr>\n",
       "      <th>25%</th>\n",
       "      <td>1.000000</td>\n",
       "      <td>6.000000</td>\n",
       "      <td>1.000000</td>\n",
       "      <td>1.000000</td>\n",
       "      <td>1.000000</td>\n",
       "      <td>1.000000</td>\n",
       "      <td>1.000000</td>\n",
       "      <td>1.000000</td>\n",
       "      <td>1.000000</td>\n",
       "      <td>-0.508722</td>\n",
       "      <td>...</td>\n",
       "      <td>2.467563</td>\n",
       "      <td>2.257185</td>\n",
       "      <td>2.385250</td>\n",
       "      <td>2.187172</td>\n",
       "      <td>3.544207</td>\n",
       "      <td>3.051775</td>\n",
       "      <td>2.609186</td>\n",
       "      <td>2.382266</td>\n",
       "      <td>2.467291</td>\n",
       "      <td>2.266688</td>\n",
       "    </tr>\n",
       "    <tr>\n",
       "      <th>50%</th>\n",
       "      <td>6.000000</td>\n",
       "      <td>6.000000</td>\n",
       "      <td>6.000000</td>\n",
       "      <td>6.000000</td>\n",
       "      <td>6.000000</td>\n",
       "      <td>6.000000</td>\n",
       "      <td>6.000000</td>\n",
       "      <td>6.000000</td>\n",
       "      <td>6.000000</td>\n",
       "      <td>-0.506053</td>\n",
       "      <td>...</td>\n",
       "      <td>3.152108</td>\n",
       "      <td>2.669174</td>\n",
       "      <td>3.111838</td>\n",
       "      <td>2.956278</td>\n",
       "      <td>4.020514</td>\n",
       "      <td>3.519808</td>\n",
       "      <td>3.471629</td>\n",
       "      <td>2.827435</td>\n",
       "      <td>3.261848</td>\n",
       "      <td>3.095590</td>\n",
       "    </tr>\n",
       "    <tr>\n",
       "      <th>75%</th>\n",
       "      <td>6.000000</td>\n",
       "      <td>6.000000</td>\n",
       "      <td>7.000000</td>\n",
       "      <td>6.000000</td>\n",
       "      <td>6.000000</td>\n",
       "      <td>6.000000</td>\n",
       "      <td>6.000000</td>\n",
       "      <td>6.000000</td>\n",
       "      <td>6.000000</td>\n",
       "      <td>-0.503906</td>\n",
       "      <td>...</td>\n",
       "      <td>4.066299</td>\n",
       "      <td>3.318454</td>\n",
       "      <td>4.015701</td>\n",
       "      <td>3.819806</td>\n",
       "      <td>4.569919</td>\n",
       "      <td>4.062215</td>\n",
       "      <td>4.326886</td>\n",
       "      <td>3.571108</td>\n",
       "      <td>4.204051</td>\n",
       "      <td>4.055685</td>\n",
       "    </tr>\n",
       "    <tr>\n",
       "      <th>max</th>\n",
       "      <td>7.000000</td>\n",
       "      <td>8.000000</td>\n",
       "      <td>9.000000</td>\n",
       "      <td>9.000000</td>\n",
       "      <td>9.000000</td>\n",
       "      <td>9.000000</td>\n",
       "      <td>9.000000</td>\n",
       "      <td>9.000000</td>\n",
       "      <td>9.000000</td>\n",
       "      <td>-0.501348</td>\n",
       "      <td>...</td>\n",
       "      <td>6.652909</td>\n",
       "      <td>5.811396</td>\n",
       "      <td>6.271825</td>\n",
       "      <td>5.910567</td>\n",
       "      <td>7.937778</td>\n",
       "      <td>6.950999</td>\n",
       "      <td>6.918053</td>\n",
       "      <td>6.204740</td>\n",
       "      <td>7.152444</td>\n",
       "      <td>6.781264</td>\n",
       "    </tr>\n",
       "  </tbody>\n",
       "</table>\n",
       "<p>8 rows × 80 columns</p>\n",
       "</div>"
      ],
      "text/plain": [
       "            atom_2       atom_3       atom_4       atom_5       atom_6  \\\n",
       "count  4337.000000  4337.000000  4337.000000  4337.000000  4337.000000   \n",
       "mean      4.195527     6.020060     4.056491     4.355545     4.483283   \n",
       "std       2.469472     1.017519     2.942529     2.800968     2.719812   \n",
       "min       1.000000     1.000000     1.000000     1.000000     0.000000   \n",
       "25%       1.000000     6.000000     1.000000     1.000000     1.000000   \n",
       "50%       6.000000     6.000000     6.000000     6.000000     6.000000   \n",
       "75%       6.000000     6.000000     7.000000     6.000000     6.000000   \n",
       "max       7.000000     8.000000     9.000000     9.000000     9.000000   \n",
       "\n",
       "            atom_7       atom_8       atom_9      atom_10        r_x_1  ...  \\\n",
       "count  4337.000000  4337.000000  4337.000000  4337.000000  4337.000000  ...   \n",
       "mean      4.685497     4.537007     4.119668     3.975098    -0.506390  ...   \n",
       "std       2.571084     2.630641     2.777865     2.848792     0.002920  ...   \n",
       "min       0.000000     0.000000     0.000000     0.000000    -0.543186  ...   \n",
       "25%       1.000000     1.000000     1.000000     1.000000    -0.508722  ...   \n",
       "50%       6.000000     6.000000     6.000000     6.000000    -0.506053  ...   \n",
       "75%       6.000000     6.000000     6.000000     6.000000    -0.503906  ...   \n",
       "max       9.000000     9.000000     9.000000     9.000000    -0.501348  ...   \n",
       "\n",
       "             d_9_2        d_9_3        d_9_4        d_9_5       d_10_0  \\\n",
       "count  4337.000000  4337.000000  4337.000000  4337.000000  4337.000000   \n",
       "mean      3.271506     2.805672     3.195402     2.993048     4.079259   \n",
       "std       1.025852     0.769508     1.087911     1.132733     0.810863   \n",
       "min       0.000000     0.000000     0.000000     0.000000     0.000000   \n",
       "25%       2.467563     2.257185     2.385250     2.187172     3.544207   \n",
       "50%       3.152108     2.669174     3.111838     2.956278     4.020514   \n",
       "75%       4.066299     3.318454     4.015701     3.819806     4.569919   \n",
       "max       6.652909     5.811396     6.271825     5.910567     7.937778   \n",
       "\n",
       "            d_10_1       d_10_2       d_10_3       d_10_4       d_10_5  \n",
       "count  4337.000000  4337.000000  4337.000000  4337.000000  4337.000000  \n",
       "mean      3.582247     3.514811     3.018712     3.353807     3.152938  \n",
       "std       0.749819     1.077227     0.834264     1.159281     1.176589  \n",
       "min       0.000000     0.000000     0.000000     0.000000     0.000000  \n",
       "25%       3.051775     2.609186     2.382266     2.467291     2.266688  \n",
       "50%       3.519808     3.471629     2.827435     3.261848     3.095590  \n",
       "75%       4.062215     4.326886     3.571108     4.204051     4.055685  \n",
       "max       6.950999     6.918053     6.204740     7.152444     6.781264  \n",
       "\n",
       "[8 rows x 80 columns]"
      ]
     },
     "execution_count": 8,
     "metadata": {},
     "output_type": "execute_result"
    }
   ],
   "source": [
    "X_val.describe()"
   ]
  },
  {
   "cell_type": "code",
   "execution_count": 9,
   "metadata": {},
   "outputs": [],
   "source": [
    "isFilter = False\n",
    "if isFilter:\n",
    "    dpOldErr = get_filtered_errors(coupling_type)\n",
    "    XY_Train_Filtered = get_filtered_xy(XY_train, dpOldErr)\n",
    "else:\n",
    "    XY_Train_Filtered = XY_train    \n",
    "X_train, y_train = build_x_y_data(XY_Train_Filtered)    \n",
    "    \n"
   ]
  },
  {
   "cell_type": "code",
   "execution_count": 10,
   "metadata": {},
   "outputs": [],
   "source": [
    "#X_data, y_data = build_x_y_data(XY_Filtered)\n",
    "#X_train, X_val, y_train, y_val = train_test_split(X_data, y_data, test_size=0.3, random_state=228)"
   ]
  },
  {
   "cell_type": "code",
   "execution_count": 16,
   "metadata": {
    "scrolled": false
   },
   "outputs": [
    {
     "name": "stdout",
     "output_type": "stream",
     "text": [
      "Wall time: 0 ns\n"
     ]
    },
    {
     "name": "stderr",
     "output_type": "stream",
     "text": [
      "C:\\ProgramFiles\\Anaconda\\lib\\site-packages\\lightgbm\\basic.py:1209: UserWarning: categorical_feature in Dataset is overridden.\n",
      "New categorical_feature is ['atom_10', 'atom_2', 'atom_3', 'atom_4', 'atom_5', 'atom_6', 'atom_7', 'atom_8', 'atom_9']\n",
      "  'New categorical_feature is {}'.format(sorted(list(categorical_feature))))\n"
     ]
    },
    {
     "name": "stdout",
     "output_type": "stream",
     "text": [
      "Training until validation scores don't improve for 1000 rounds.\n",
      "[100]\ttraining's l1: 0.541458\tvalid_1's l1: 0.597718\n",
      "[200]\ttraining's l1: 0.419288\tvalid_1's l1: 0.497061\n",
      "[300]\ttraining's l1: 0.356466\tvalid_1's l1: 0.452111\n",
      "[400]\ttraining's l1: 0.315023\tvalid_1's l1: 0.424621\n",
      "[500]\ttraining's l1: 0.284065\tvalid_1's l1: 0.405936\n",
      "[600]\ttraining's l1: 0.258355\tvalid_1's l1: 0.392395\n",
      "[700]\ttraining's l1: 0.2375\tvalid_1's l1: 0.382634\n",
      "[800]\ttraining's l1: 0.219581\tvalid_1's l1: 0.373591\n",
      "[900]\ttraining's l1: 0.204425\tvalid_1's l1: 0.367132\n",
      "[1000]\ttraining's l1: 0.190725\tvalid_1's l1: 0.360738\n",
      "[1100]\ttraining's l1: 0.178722\tvalid_1's l1: 0.355818\n",
      "[1200]\ttraining's l1: 0.168122\tvalid_1's l1: 0.351853\n",
      "[1300]\ttraining's l1: 0.158525\tvalid_1's l1: 0.348964\n",
      "[1400]\ttraining's l1: 0.149885\tvalid_1's l1: 0.346051\n",
      "[1500]\ttraining's l1: 0.141971\tvalid_1's l1: 0.34332\n",
      "[1600]\ttraining's l1: 0.134428\tvalid_1's l1: 0.340598\n",
      "[1700]\ttraining's l1: 0.127874\tvalid_1's l1: 0.338793\n",
      "[1800]\ttraining's l1: 0.121611\tvalid_1's l1: 0.336878\n",
      "[1900]\ttraining's l1: 0.116046\tvalid_1's l1: 0.33515\n",
      "[2000]\ttraining's l1: 0.110604\tvalid_1's l1: 0.333547\n",
      "[2100]\ttraining's l1: 0.105572\tvalid_1's l1: 0.332091\n",
      "[2200]\ttraining's l1: 0.100878\tvalid_1's l1: 0.330517\n",
      "[2300]\ttraining's l1: 0.09641\tvalid_1's l1: 0.329369\n",
      "[2400]\ttraining's l1: 0.0923532\tvalid_1's l1: 0.328286\n",
      "[2500]\ttraining's l1: 0.0885489\tvalid_1's l1: 0.327311\n",
      "[2600]\ttraining's l1: 0.0849238\tvalid_1's l1: 0.326532\n",
      "[2700]\ttraining's l1: 0.081539\tvalid_1's l1: 0.325883\n",
      "[2800]\ttraining's l1: 0.0784221\tvalid_1's l1: 0.325031\n",
      "[2900]\ttraining's l1: 0.0754101\tvalid_1's l1: 0.324477\n",
      "[3000]\ttraining's l1: 0.0724501\tvalid_1's l1: 0.323732\n",
      "[3100]\ttraining's l1: 0.0697503\tvalid_1's l1: 0.323327\n",
      "[3200]\ttraining's l1: 0.0671648\tvalid_1's l1: 0.322918\n",
      "[3300]\ttraining's l1: 0.0646743\tvalid_1's l1: 0.322554\n",
      "[3400]\ttraining's l1: 0.0623019\tvalid_1's l1: 0.322097\n",
      "[3500]\ttraining's l1: 0.0599757\tvalid_1's l1: 0.321724\n",
      "[3600]\ttraining's l1: 0.0578158\tvalid_1's l1: 0.321318\n",
      "[3700]\ttraining's l1: 0.0557484\tvalid_1's l1: 0.320988\n",
      "[3800]\ttraining's l1: 0.0537378\tvalid_1's l1: 0.320595\n",
      "[3900]\ttraining's l1: 0.0518905\tvalid_1's l1: 0.320313\n",
      "[4000]\ttraining's l1: 0.0500601\tvalid_1's l1: 0.320041\n",
      "[4100]\ttraining's l1: 0.0483663\tvalid_1's l1: 0.319886\n",
      "[4200]\ttraining's l1: 0.0467188\tvalid_1's l1: 0.319722\n",
      "[4300]\ttraining's l1: 0.045156\tvalid_1's l1: 0.319436\n",
      "[4400]\ttraining's l1: 0.0436579\tvalid_1's l1: 0.319165\n",
      "[4500]\ttraining's l1: 0.0422596\tvalid_1's l1: 0.318906\n",
      "[4600]\ttraining's l1: 0.040851\tvalid_1's l1: 0.318761\n",
      "[4700]\ttraining's l1: 0.0395158\tvalid_1's l1: 0.318618\n",
      "[4800]\ttraining's l1: 0.0382389\tvalid_1's l1: 0.318413\n",
      "[4900]\ttraining's l1: 0.0370056\tvalid_1's l1: 0.318205\n",
      "[5000]\ttraining's l1: 0.0358465\tvalid_1's l1: 0.318087\n",
      "[5100]\ttraining's l1: 0.0346743\tvalid_1's l1: 0.317937\n",
      "[5200]\ttraining's l1: 0.0336106\tvalid_1's l1: 0.31779\n",
      "[5300]\ttraining's l1: 0.0325448\tvalid_1's l1: 0.317702\n",
      "[5400]\ttraining's l1: 0.0315552\tvalid_1's l1: 0.317646\n",
      "[5500]\ttraining's l1: 0.0306039\tvalid_1's l1: 0.317473\n",
      "[5600]\ttraining's l1: 0.0296813\tvalid_1's l1: 0.317331\n",
      "[5700]\ttraining's l1: 0.0287666\tvalid_1's l1: 0.317239\n",
      "[5800]\ttraining's l1: 0.0279346\tvalid_1's l1: 0.317115\n",
      "[5900]\ttraining's l1: 0.0270611\tvalid_1's l1: 0.317022\n",
      "[6000]\ttraining's l1: 0.0262617\tvalid_1's l1: 0.316909\n",
      "[6100]\ttraining's l1: 0.0254529\tvalid_1's l1: 0.316803\n",
      "[6200]\ttraining's l1: 0.0246898\tvalid_1's l1: 0.316758\n",
      "[6300]\ttraining's l1: 0.0239864\tvalid_1's l1: 0.31668\n",
      "[6400]\ttraining's l1: 0.0233054\tvalid_1's l1: 0.316619\n",
      "[6500]\ttraining's l1: 0.0226362\tvalid_1's l1: 0.31649\n",
      "[6600]\ttraining's l1: 0.0219675\tvalid_1's l1: 0.316393\n",
      "[6700]\ttraining's l1: 0.0213495\tvalid_1's l1: 0.31635\n",
      "[6800]\ttraining's l1: 0.0207537\tvalid_1's l1: 0.316313\n",
      "[6900]\ttraining's l1: 0.0201622\tvalid_1's l1: 0.316277\n",
      "[7000]\ttraining's l1: 0.0195838\tvalid_1's l1: 0.316228\n",
      "[7100]\ttraining's l1: 0.0190558\tvalid_1's l1: 0.316154\n",
      "[7200]\ttraining's l1: 0.0185344\tvalid_1's l1: 0.316096\n",
      "[7300]\ttraining's l1: 0.0180289\tvalid_1's l1: 0.31608\n",
      "[7400]\ttraining's l1: 0.0175472\tvalid_1's l1: 0.316026\n",
      "[7500]\ttraining's l1: 0.0170699\tvalid_1's l1: 0.315987\n",
      "[7600]\ttraining's l1: 0.0166175\tvalid_1's l1: 0.315927\n",
      "[7700]\ttraining's l1: 0.0161662\tvalid_1's l1: 0.315899\n",
      "[7800]\ttraining's l1: 0.0157315\tvalid_1's l1: 0.315834\n",
      "[7900]\ttraining's l1: 0.0153167\tvalid_1's l1: 0.31577\n",
      "[8000]\ttraining's l1: 0.0149013\tvalid_1's l1: 0.315737\n",
      "[8100]\ttraining's l1: 0.0145079\tvalid_1's l1: 0.31568\n",
      "[8200]\ttraining's l1: 0.0141361\tvalid_1's l1: 0.315626\n",
      "[8300]\ttraining's l1: 0.0137618\tvalid_1's l1: 0.315569\n",
      "[8400]\ttraining's l1: 0.0133976\tvalid_1's l1: 0.315505\n",
      "[8500]\ttraining's l1: 0.0130434\tvalid_1's l1: 0.315462\n",
      "[8600]\ttraining's l1: 0.0127194\tvalid_1's l1: 0.315426\n",
      "[8700]\ttraining's l1: 0.0123906\tvalid_1's l1: 0.315403\n",
      "[8800]\ttraining's l1: 0.0120709\tvalid_1's l1: 0.315384\n",
      "[8900]\ttraining's l1: 0.0117824\tvalid_1's l1: 0.31536\n",
      "[9000]\ttraining's l1: 0.011496\tvalid_1's l1: 0.315339\n",
      "[9100]\ttraining's l1: 0.011181\tvalid_1's l1: 0.315336\n",
      "[9200]\ttraining's l1: 0.0108958\tvalid_1's l1: 0.315329\n",
      "[9300]\ttraining's l1: 0.0106135\tvalid_1's l1: 0.315314\n",
      "[9400]\ttraining's l1: 0.0103537\tvalid_1's l1: 0.315293\n",
      "[9500]\ttraining's l1: 0.0101017\tvalid_1's l1: 0.315272\n",
      "[9600]\ttraining's l1: 0.00985134\tvalid_1's l1: 0.315253\n",
      "[9700]\ttraining's l1: 0.00961733\tvalid_1's l1: 0.315235\n",
      "[9800]\ttraining's l1: 0.00938615\tvalid_1's l1: 0.315218\n",
      "[9900]\ttraining's l1: 0.00915548\tvalid_1's l1: 0.315204\n",
      "[10000]\ttraining's l1: 0.00893616\tvalid_1's l1: 0.315191\n",
      "Did not meet early stopping. Best iteration is:\n",
      "[10000]\ttraining's l1: 0.00893616\tvalid_1's l1: 0.315191\n",
      "0.3151913307535312\n"
     ]
    },
    {
     "data": {
      "text/plain": [
       "-1.1545754253311868"
      ]
     },
     "execution_count": 16,
     "metadata": {},
     "output_type": "execute_result"
    }
   ],
   "source": [
    "%time \n",
    "categorical_features = [col for col in X_train if col.startswith('atom_')]\n",
    "\n",
    "#X_train, X_val, y_train, y_val = train_test_split(X_data, y_data, test_size=0.3, random_state=228)\n",
    "# to record eval results for plotting\n",
    "model = LGBMRegressor(**Config.LGB_PARAMS, n_estimators=10000, n_jobs = 4)\n",
    "model.fit(X_train, y_train, \n",
    "        eval_set=[(X_train, y_train), (X_val, y_val)], eval_metric='mae',\n",
    "        verbose=100, early_stopping_rounds=1000,\n",
    "         categorical_feature = categorical_features)\n",
    "\n",
    "y_pred = model.predict(X_val)\n",
    "print(mean_absolute_error(y_val, y_pred))\n",
    "np.log(mean_absolute_error(y_val, y_pred))\n"
   ]
  },
  {
   "cell_type": "code",
   "execution_count": null,
   "metadata": {},
   "outputs": [],
   "source": [
    "model.get_params()"
   ]
  },
  {
   "cell_type": "code",
   "execution_count": null,
   "metadata": {},
   "outputs": [],
   "source": [
    "eval_results = model.evals_result_\n",
    "l1 = eval_results[\"training\"][\"l1\"]\n",
    "valid = eval_results[\"valid_1\"][\"l1\"]\n",
    "\n",
    "import matplotlib.ticker as tic\n",
    "fig1, ax1 = plt.subplots()\n",
    "ax1.plot(l1)\n",
    "ax1.plot(valid)\n",
    "#ax1.set_yscale('log')\n",
    "#ax1.set_yticks([0.1, 0.12, 0.2, 0.3])\n",
    "plt.ylim(0.2, 0.8)   \n",
    "ax1.get_yaxis().set_major_formatter(tic.ScalarFormatter())\n",
    "ax1.legend(['Train','Validation'], loc='upper left')\n",
    "plt.grid(True)\n",
    "plt.show()\n"
   ]
  },
  {
   "cell_type": "code",
   "execution_count": null,
   "metadata": {},
   "outputs": [],
   "source": [
    "dif_valid = pd.Series(valid).diff()"
   ]
  },
  {
   "cell_type": "code",
   "execution_count": null,
   "metadata": {},
   "outputs": [],
   "source": [
    "fig1, ax1 = plt.subplots()\n",
    "ax1.plot(dif_valid)\n",
    "plt.ylim(-0.0001, 0.0)   "
   ]
  },
  {
   "cell_type": "code",
   "execution_count": null,
   "metadata": {},
   "outputs": [],
   "source": [
    "d_dif_valid = pd.Series(dif_valid).diff()"
   ]
  },
  {
   "cell_type": "code",
   "execution_count": null,
   "metadata": {},
   "outputs": [],
   "source": [
    "fig1, ax1 = plt.subplots()\n",
    "ax1.plot(d_dif_valid)\n",
    "plt.ylim(0.00003, -0.00003)   "
   ]
  },
  {
   "cell_type": "code",
   "execution_count": null,
   "metadata": {},
   "outputs": [],
   "source": [
    "plt.plot(y_val, y_pred- y_val, 'ro')"
   ]
  },
  {
   "cell_type": "code",
   "execution_count": null,
   "metadata": {},
   "outputs": [],
   "source": [
    "import seaborn as sns\n",
    "cols = list(X_train.columns)\n",
    "df_importance = pd.DataFrame({'feature': cols, 'importance': model.feature_importances_})\n",
    "sns.barplot(x=\"importance\", y=\"feature\", data=df_importance.sort_values('importance', ascending=False));"
   ]
  },
  {
   "cell_type": "code",
   "execution_count": null,
   "metadata": {},
   "outputs": [],
   "source": [
    "df_importance.sort_values('importance', ascending=False)"
   ]
  },
  {
   "cell_type": "code",
   "execution_count": null,
   "metadata": {},
   "outputs": [],
   "source": [
    "X_train.describe()"
   ]
  },
  {
   "cell_type": "code",
   "execution_count": null,
   "metadata": {},
   "outputs": [],
   "source": [
    "X_train.columns"
   ]
  },
  {
   "cell_type": "code",
   "execution_count": null,
   "metadata": {},
   "outputs": [],
   "source": [
    "aaa"
   ]
  },
  {
   "cell_type": "code",
   "execution_count": null,
   "metadata": {},
   "outputs": [],
   "source": [
    "df = X_train\n",
    "#Using Pearson Correlation\n",
    "plt.figure(figsize=(12,10))\n",
    "cor = df.corr()\n",
    "sns.heatmap(cor, annot=True, cmap=plt.cm.Reds)\n",
    "plt.show()"
   ]
  },
  {
   "cell_type": "code",
   "execution_count": null,
   "metadata": {},
   "outputs": [],
   "source": []
  }
 ],
 "metadata": {
  "kernelspec": {
   "display_name": "Python 3",
   "language": "python",
   "name": "python3"
  },
  "language_info": {
   "codemirror_mode": {
    "name": "ipython",
    "version": 3
   },
   "file_extension": ".py",
   "mimetype": "text/x-python",
   "name": "python",
   "nbconvert_exporter": "python",
   "pygments_lexer": "ipython3",
   "version": "3.7.3"
  },
  "varInspector": {
   "cols": {
    "lenName": 16,
    "lenType": 16,
    "lenVar": 40
   },
   "kernels_config": {
    "python": {
     "delete_cmd_postfix": "",
     "delete_cmd_prefix": "del ",
     "library": "var_list.py",
     "varRefreshCmd": "print(var_dic_list())"
    },
    "r": {
     "delete_cmd_postfix": ") ",
     "delete_cmd_prefix": "rm(",
     "library": "var_list.r",
     "varRefreshCmd": "cat(var_dic_list()) "
    }
   },
   "oldHeight": 462.594,
   "position": {
    "height": "40px",
    "left": "996.188px",
    "right": "20px",
    "top": "-1px",
    "width": "800px"
   },
   "types_to_exclude": [
    "module",
    "function",
    "builtin_function_or_method",
    "instance",
    "_Feature"
   ],
   "varInspector_section_display": "none",
   "window_display": false
  }
 },
 "nbformat": 4,
 "nbformat_minor": 2
}
