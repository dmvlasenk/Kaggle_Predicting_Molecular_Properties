{
 "cells": [
  {
   "cell_type": "code",
   "execution_count": 1,
   "metadata": {},
   "outputs": [],
   "source": [
    "from Utils import *\n",
    "import pandas as pd\n",
    "import numpy as np\n",
    "from sklearn.model_selection import train_test_split\n",
    "from lightgbm import LGBMRegressor\n",
    "from sklearn.metrics import mean_absolute_error\n",
    "import matplotlib.pyplot as plt\n",
    "import os.path\n"
   ]
  },
  {
   "cell_type": "code",
   "execution_count": 2,
   "metadata": {},
   "outputs": [],
   "source": [
    "coupling_type = '1JHN'\n",
    "XY_Data = pd.read_csv(f'{Config.INPUT_XY}/{coupling_type}.csv', index_col=0)"
   ]
  },
  {
   "cell_type": "code",
   "execution_count": 3,
   "metadata": {},
   "outputs": [],
   "source": [
    "XY_train, XY_Val =  train_test_split(XY_Data, test_size=0.3, random_state=228)\n",
    "X_val, y_val = build_x_y_data(XY_Val)    "
   ]
  },
  {
   "cell_type": "code",
   "execution_count": 4,
   "metadata": {},
   "outputs": [],
   "source": [
    "isFilter = False\n",
    "if isFilter:\n",
    "    dpOldErr = get_filtered_errors(coupling_type)\n",
    "    XY_Train_Filtered = get_filtered_xy(XY_train, dpOldErr)\n",
    "else:\n",
    "    XY_Train_Filtered = XY_train    \n",
    "X_train, y_train = build_x_y_data(XY_Train_Filtered)    \n",
    "    \n"
   ]
  },
  {
   "cell_type": "code",
   "execution_count": 5,
   "metadata": {},
   "outputs": [],
   "source": [
    "#X_data, y_data = build_x_y_data(XY_Filtered)\n",
    "#X_train, X_val, y_train, y_val = train_test_split(X_data, y_data, test_size=0.3, random_state=228)"
   ]
  },
  {
   "cell_type": "code",
   "execution_count": 6,
   "metadata": {
    "scrolled": false
   },
   "outputs": [
    {
     "name": "stdout",
     "output_type": "stream",
     "text": [
      "Wall time: 0 ns\n",
      "Training until validation scores don't improve for 1000 rounds.\n"
     ]
    },
    {
     "name": "stderr",
     "output_type": "stream",
     "text": [
      "C:\\ProgramFiles\\Anaconda\\lib\\site-packages\\lightgbm\\basic.py:1209: UserWarning: categorical_feature in Dataset is overridden.\n",
      "New categorical_feature is ['atom_2', 'atom_3', 'atom_4', 'atom_5', 'atom_6', 'atom_7', 'atom_8', 'atom_9']\n",
      "  'New categorical_feature is {}'.format(sorted(list(categorical_feature))))\n"
     ]
    },
    {
     "name": "stdout",
     "output_type": "stream",
     "text": [
      "[100]\ttraining's l1: 0.422157\tvalid_1's l1: 0.542655\n",
      "[200]\ttraining's l1: 0.325056\tvalid_1's l1: 0.485674\n",
      "[300]\ttraining's l1: 0.274937\tvalid_1's l1: 0.462486\n",
      "[400]\ttraining's l1: 0.242853\tvalid_1's l1: 0.451641\n",
      "[500]\ttraining's l1: 0.221041\tvalid_1's l1: 0.444291\n",
      "[600]\ttraining's l1: 0.204872\tvalid_1's l1: 0.43951\n",
      "[700]\ttraining's l1: 0.192632\tvalid_1's l1: 0.435917\n",
      "[800]\ttraining's l1: 0.182768\tvalid_1's l1: 0.433922\n",
      "[900]\ttraining's l1: 0.175153\tvalid_1's l1: 0.43234\n",
      "[1000]\ttraining's l1: 0.168547\tvalid_1's l1: 0.431185\n",
      "[1100]\ttraining's l1: 0.163214\tvalid_1's l1: 0.43012\n",
      "[1200]\ttraining's l1: 0.158722\tvalid_1's l1: 0.429248\n",
      "[1300]\ttraining's l1: 0.154949\tvalid_1's l1: 0.428635\n",
      "[1400]\ttraining's l1: 0.151728\tvalid_1's l1: 0.428076\n",
      "[1500]\ttraining's l1: 0.149012\tvalid_1's l1: 0.427763\n",
      "[1600]\ttraining's l1: 0.146526\tvalid_1's l1: 0.427378\n",
      "[1700]\ttraining's l1: 0.144485\tvalid_1's l1: 0.427126\n",
      "[1800]\ttraining's l1: 0.142683\tvalid_1's l1: 0.426846\n",
      "[1900]\ttraining's l1: 0.141045\tvalid_1's l1: 0.426618\n",
      "[2000]\ttraining's l1: 0.13965\tvalid_1's l1: 0.426477\n",
      "[2100]\ttraining's l1: 0.14305\tvalid_1's l1: 0.417\n",
      "[2200]\ttraining's l1: 0.13638\tvalid_1's l1: 0.412478\n",
      "[2300]\ttraining's l1: 0.12937\tvalid_1's l1: 0.409228\n",
      "[2400]\ttraining's l1: 0.122474\tvalid_1's l1: 0.407451\n",
      "[2500]\ttraining's l1: 0.117539\tvalid_1's l1: 0.405743\n",
      "[2600]\ttraining's l1: 0.11314\tvalid_1's l1: 0.404749\n",
      "[2700]\ttraining's l1: 0.10819\tvalid_1's l1: 0.403557\n",
      "[2800]\ttraining's l1: 0.104922\tvalid_1's l1: 0.402989\n",
      "[2900]\ttraining's l1: 0.100462\tvalid_1's l1: 0.402392\n",
      "[3000]\ttraining's l1: 0.0968792\tvalid_1's l1: 0.40178\n",
      "Did not meet early stopping. Best iteration is:\n",
      "[3000]\ttraining's l1: 0.0968792\tvalid_1's l1: 0.40178\n",
      "0.4017803487875569\n"
     ]
    },
    {
     "data": {
      "text/plain": [
       "-0.9118497357426892"
      ]
     },
     "execution_count": 6,
     "metadata": {},
     "output_type": "execute_result"
    }
   ],
   "source": [
    "%time \n",
    "categorical_features = [col for col in X_train if col.startswith('atom_')]\n",
    "\n",
    "#X_train, X_val, y_train, y_val = train_test_split(X_data, y_data, test_size=0.3, random_state=228)\n",
    "# to record eval results for plotting\n",
    "model = LGBMRegressor(**Config.LGB_PARAMS, n_estimators=3000, n_jobs = -1)\n",
    "model.fit(X_train, y_train, \n",
    "        eval_set=[(X_train, y_train), (X_val, y_val)], eval_metric='mae',\n",
    "        verbose=100, early_stopping_rounds=1000,\n",
    "         categorical_feature = categorical_features)\n",
    "\n",
    "y_pred = model.predict(X_val)\n",
    "print(mean_absolute_error(y_val, y_pred))\n",
    "np.log(mean_absolute_error(y_val, y_pred))\n"
   ]
  },
  {
   "cell_type": "code",
   "execution_count": 7,
   "metadata": {},
   "outputs": [
    {
     "data": {
      "image/png": "[encoded data removed]",
      "text/plain": [
       "<Figure size 432x288 with 1 Axes>"
      ]
     },
     "metadata": {
      "needs_background": "light"
     },
     "output_type": "display_data"
    }
   ],
   "source": [
    "eval_results = model.evals_result_\n",
    "l1 = eval_results[\"training\"][\"l1\"]\n",
    "plt.plot(l1)\n",
    "\n",
    "valid = eval_results[\"valid_1\"][\"l1\"]\n",
    "plt.plot(valid)\n",
    "\n",
    "#ax.set_yticks(np.linspace(100, 1000, 10))\n",
    "plt.yscale('log')\n",
    "plt.grid(True)"
   ]
  },
  {
   "cell_type": "code",
   "execution_count": 8,
   "metadata": {},
   "outputs": [
    {
     "data": {
      "text/plain": [
       "[<matplotlib.lines.Line2D at 0x165c4fe02e8>]"
      ]
     },
     "execution_count": 8,
     "metadata": {},
     "output_type": "execute_result"
    },
    {
     "data": {
      "image/png": "[encoded data removed]",
      "text/plain": [
       "<Figure size 432x288 with 1 Axes>"
      ]
     },
     "metadata": {
      "needs_background": "light"
     },
     "output_type": "display_data"
    }
   ],
   "source": [
    "plt.plot(y_val, y_pred- y_val, 'ro')"
   ]
  },
  {
   "cell_type": "code",
   "execution_count": 9,
   "metadata": {},
   "outputs": [
    {
     "data": {
      "text/plain": [
       "count    7252.000000\n",
       "mean       -0.006066\n",
       "std         0.682985\n",
       "min       -21.666310\n",
       "25%        -0.231322\n",
       "50%         0.011497\n",
       "75%         0.255615\n",
       "max         6.824610\n",
       "Name: scalar_coupling_constant, dtype: float64"
      ]
     },
     "execution_count": 9,
     "metadata": {},
     "output_type": "execute_result"
    }
   ],
   "source": [
    "(y_pred- y_val).describe()"
   ]
  },
  {
   "cell_type": "code",
   "execution_count": null,
   "metadata": {},
   "outputs": [],
   "source": []
  }
 ],
 "metadata": {
  "kernelspec": {
   "display_name": "Python 3",
   "language": "python",
   "name": "python3"
  },
  "language_info": {
   "codemirror_mode": {
    "name": "ipython",
    "version": 3
   },
   "file_extension": ".py",
   "mimetype": "text/x-python",
   "name": "python",
   "nbconvert_exporter": "python",
   "pygments_lexer": "ipython3",
   "version": "3.7.3"
  },
  "varInspector": {
   "cols": {
    "lenName": 16,
    "lenType": 16,
    "lenVar": 40
   },
   "kernels_config": {
    "python": {
     "delete_cmd_postfix": "",
     "delete_cmd_prefix": "del ",
     "library": "var_list.py",
     "varRefreshCmd": "print(var_dic_list())"
    },
    "r": {
     "delete_cmd_postfix": ") ",
     "delete_cmd_prefix": "rm(",
     "library": "var_list.r",
     "varRefreshCmd": "cat(var_dic_list()) "
    }
   },
   "oldHeight": 462.594,
   "position": {
    "height": "40px",
    "left": "996.188px",
    "right": "20px",
    "top": "-1px",
    "width": "800px"
   },
   "types_to_exclude": [
    "module",
    "function",
    "builtin_function_or_method",
    "instance",
    "_Feature"
   ],
   "varInspector_section_display": "none",
   "window_display": true
  }
 },
 "nbformat": 4,
 "nbformat_minor": 2
}
