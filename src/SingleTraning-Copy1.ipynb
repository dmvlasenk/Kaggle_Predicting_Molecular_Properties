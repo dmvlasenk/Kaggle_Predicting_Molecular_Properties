{
 "cells": [
  {
   "cell_type": "code",
   "execution_count": 10,
   "metadata": {},
   "outputs": [],
   "source": [
    "from Utils import *\n",
    "import pandas as pd\n",
    "import numpy as np\n",
    "from sklearn.model_selection import train_test_split\n",
    "from lightgbm import LGBMRegressor\n",
    "from sklearn.metrics import mean_absolute_error\n",
    "import matplotlib.pyplot as plt\n",
    "import os.path\n"
   ]
  },
  {
   "cell_type": "code",
   "execution_count": 11,
   "metadata": {},
   "outputs": [],
   "source": [
    "coupling_type = '1JHN'\n",
    "XY_Data = pd.read_csv(f'{Config.INPUT_XY}/{coupling_type}.csv', index_col=0)"
   ]
  },
  {
   "cell_type": "code",
   "execution_count": 12,
   "metadata": {},
   "outputs": [],
   "source": [
    "XY_train, XY_Val =  train_test_split(XY_Data, test_size=0.3, random_state=228)\n",
    "X_val, y_val = build_x_y_data(XY_Val)    "
   ]
  },
  {
   "cell_type": "code",
   "execution_count": 13,
   "metadata": {},
   "outputs": [],
   "source": [
    "isFilter = True\n",
    "if isFilter:\n",
    "    dpOldErr = get_filtered_errors(coupling_type)\n",
    "    XY_Train_Filtered = get_filtered_xy(XY_train, dpOldErr)\n",
    "else:\n",
    "    XY_Train_Filtered = XY_train    \n",
    "X_train, y_train = build_x_y_data(XY_Train_Filtered)    \n",
    "    \n"
   ]
  },
  {
   "cell_type": "code",
   "execution_count": 14,
   "metadata": {},
   "outputs": [],
   "source": [
    "#X_data, y_data = build_x_y_data(XY_Filtered)\n",
    "#X_train, X_val, y_train, y_val = train_test_split(X_data, y_data, test_size=0.3, random_state=228)"
   ]
  },
  {
   "cell_type": "code",
   "execution_count": 15,
   "metadata": {
    "scrolled": false
   },
   "outputs": [
    {
     "name": "stdout",
     "output_type": "stream",
     "text": [
      "Wall time: 0 ns\n",
      "Training until validation scores don't improve for 1000 rounds.\n"
     ]
    },
    {
     "name": "stderr",
     "output_type": "stream",
     "text": [
      "C:\\ProgramFiles\\Anaconda\\lib\\site-packages\\lightgbm\\basic.py:1209: UserWarning: categorical_feature in Dataset is overridden.\n",
      "New categorical_feature is ['atom_2', 'atom_3', 'atom_4', 'atom_5', 'atom_6', 'atom_7', 'atom_8', 'atom_9']\n",
      "  'New categorical_feature is {}'.format(sorted(list(categorical_feature))))\n"
     ]
    },
    {
     "name": "stdout",
     "output_type": "stream",
     "text": [
      "[100]\ttraining's l1: 0.417056\tvalid_1's l1: 0.543976\n",
      "[200]\ttraining's l1: 0.320514\tvalid_1's l1: 0.489103\n",
      "[300]\ttraining's l1: 0.270193\tvalid_1's l1: 0.46592\n",
      "[400]\ttraining's l1: 0.238101\tvalid_1's l1: 0.453978\n",
      "[500]\ttraining's l1: 0.216384\tvalid_1's l1: 0.4476\n",
      "[600]\ttraining's l1: 0.200386\tvalid_1's l1: 0.442523\n",
      "[700]\ttraining's l1: 0.188253\tvalid_1's l1: 0.43941\n",
      "[800]\ttraining's l1: 0.178598\tvalid_1's l1: 0.437227\n",
      "[900]\ttraining's l1: 0.170778\tvalid_1's l1: 0.435524\n",
      "[1000]\ttraining's l1: 0.164314\tvalid_1's l1: 0.43424\n",
      "[1100]\ttraining's l1: 0.158918\tvalid_1's l1: 0.433237\n",
      "[1200]\ttraining's l1: 0.154385\tvalid_1's l1: 0.432474\n",
      "[1300]\ttraining's l1: 0.150794\tvalid_1's l1: 0.431947\n",
      "[1400]\ttraining's l1: 0.147766\tvalid_1's l1: 0.431478\n",
      "[1500]\ttraining's l1: 0.145123\tvalid_1's l1: 0.430994\n",
      "[1600]\ttraining's l1: 0.142925\tvalid_1's l1: 0.430634\n",
      "[1700]\ttraining's l1: 0.140826\tvalid_1's l1: 0.430432\n",
      "[1800]\ttraining's l1: 0.139068\tvalid_1's l1: 0.430178\n",
      "[1900]\ttraining's l1: 0.137473\tvalid_1's l1: 0.429977\n",
      "[2000]\ttraining's l1: 0.13615\tvalid_1's l1: 0.42986\n",
      "[2100]\ttraining's l1: 0.136421\tvalid_1's l1: 0.420162\n",
      "[2200]\ttraining's l1: 0.126759\tvalid_1's l1: 0.416486\n",
      "[2300]\ttraining's l1: 0.118838\tvalid_1's l1: 0.414715\n",
      "[2400]\ttraining's l1: 0.111443\tvalid_1's l1: 0.412744\n",
      "[2500]\ttraining's l1: 0.105474\tvalid_1's l1: 0.411658\n",
      "[2600]\ttraining's l1: 0.100054\tvalid_1's l1: 0.410576\n",
      "[2700]\ttraining's l1: 0.0956017\tvalid_1's l1: 0.410048\n",
      "[2800]\ttraining's l1: 0.0914931\tvalid_1's l1: 0.409301\n",
      "[2900]\ttraining's l1: 0.0878604\tvalid_1's l1: 0.408774\n",
      "[3000]\ttraining's l1: 0.0847792\tvalid_1's l1: 0.40842\n",
      "Did not meet early stopping. Best iteration is:\n",
      "[3000]\ttraining's l1: 0.0847792\tvalid_1's l1: 0.40842\n",
      "0.4084202172482676\n"
     ]
    },
    {
     "data": {
      "text/plain": [
       "-0.8954586903706878"
      ]
     },
     "execution_count": 15,
     "metadata": {},
     "output_type": "execute_result"
    }
   ],
   "source": [
    "%time \n",
    "categorical_features = [col for col in X_train if col.startswith('atom_')]\n",
    "\n",
    "#X_train, X_val, y_train, y_val = train_test_split(X_data, y_data, test_size=0.3, random_state=228)\n",
    "# to record eval results for plotting\n",
    "model = LGBMRegressor(**Config.LGB_PARAMS, n_estimators=3000, n_jobs = -1)\n",
    "model.fit(X_train, y_train, \n",
    "        eval_set=[(X_train, y_train), (X_val, y_val)], eval_metric='mae',\n",
    "        verbose=100, early_stopping_rounds=1000,\n",
    "         categorical_feature = categorical_features)\n",
    "\n",
    "y_pred = model.predict(X_val)\n",
    "print(mean_absolute_error(y_val, y_pred))\n",
    "np.log(mean_absolute_error(y_val, y_pred))\n"
   ]
  },
  {
   "cell_type": "code",
   "execution_count": 16,
   "metadata": {},
   "outputs": [
    {
     "data": {
      "image/png": "[encoded data removed]",
      "text/plain": [
       "<Figure size 432x288 with 1 Axes>"
      ]
     },
     "metadata": {
      "needs_background": "light"
     },
     "output_type": "display_data"
    }
   ],
   "source": [
    "eval_results = model.evals_result_\n",
    "l1 = eval_results[\"training\"][\"l1\"]\n",
    "plt.plot(l1)\n",
    "\n",
    "valid = eval_results[\"valid_1\"][\"l1\"]\n",
    "plt.plot(valid)\n",
    "\n",
    "#ax.set_yticks(np.linspace(100, 1000, 10))\n",
    "plt.yscale('log')\n",
    "plt.grid(True)"
   ]
  },
  {
   "cell_type": "code",
   "execution_count": 17,
   "metadata": {},
   "outputs": [
    {
     "data": {
      "text/plain": [
       "[<matplotlib.lines.Line2D at 0x1e2a7aed8d0>]"
      ]
     },
     "execution_count": 17,
     "metadata": {},
     "output_type": "execute_result"
    },
    {
     "data": {
      "image/png": "[encoded data removed]",
      "text/plain": [
       "<Figure size 432x288 with 1 Axes>"
      ]
     },
     "metadata": {
      "needs_background": "light"
     },
     "output_type": "display_data"
    }
   ],
   "source": [
    "plt.plot(y_val, y_pred- y_val, 'ro')"
   ]
  },
  {
   "cell_type": "code",
   "execution_count": 18,
   "metadata": {},
   "outputs": [
    {
     "data": {
      "text/plain": [
       "count    7252.000000\n",
       "mean       -0.009773\n",
       "std         0.698969\n",
       "min       -17.859352\n",
       "25%        -0.247956\n",
       "50%         0.007249\n",
       "75%         0.253004\n",
       "max        13.431165\n",
       "Name: scalar_coupling_constant, dtype: float64"
      ]
     },
     "execution_count": 18,
     "metadata": {},
     "output_type": "execute_result"
    }
   ],
   "source": [
    "(y_pred- y_val).describe()"
   ]
  },
  {
   "cell_type": "code",
   "execution_count": null,
   "metadata": {},
   "outputs": [],
   "source": []
  }
 ],
 "metadata": {
  "kernelspec": {
   "display_name": "Python 3",
   "language": "python",
   "name": "python3"
  },
  "language_info": {
   "codemirror_mode": {
    "name": "ipython",
    "version": 3
   },
   "file_extension": ".py",
   "mimetype": "text/x-python",
   "name": "python",
   "nbconvert_exporter": "python",
   "pygments_lexer": "ipython3",
   "version": "3.7.3"
  },
  "varInspector": {
   "cols": {
    "lenName": 16,
    "lenType": 16,
    "lenVar": 40
   },
   "kernels_config": {
    "python": {
     "delete_cmd_postfix": "",
     "delete_cmd_prefix": "del ",
     "library": "var_list.py",
     "varRefreshCmd": "print(var_dic_list())"
    },
    "r": {
     "delete_cmd_postfix": ") ",
     "delete_cmd_prefix": "rm(",
     "library": "var_list.r",
     "varRefreshCmd": "cat(var_dic_list()) "
    }
   },
   "oldHeight": 462.594,
   "position": {
    "height": "40px",
    "left": "996.188px",
    "right": "20px",
    "top": "-1px",
    "width": "800px"
   },
   "types_to_exclude": [
    "module",
    "function",
    "builtin_function_or_method",
    "instance",
    "_Feature"
   ],
   "varInspector_section_display": "none",
   "window_display": true
  }
 },
 "nbformat": 4,
 "nbformat_minor": 2
}
