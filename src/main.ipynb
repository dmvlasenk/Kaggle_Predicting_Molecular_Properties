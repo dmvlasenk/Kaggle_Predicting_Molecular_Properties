{
 "cells": [
  {
   "cell_type": "markdown",
   "metadata": {
    "heading_collapsed": true
   },
   "source": [
    "## Core Idea"
   ]
  },
  {
   "cell_type": "markdown",
   "metadata": {
    "hidden": true
   },
   "source": [
    "Despite a lot of creeping Physics and Chemistry knowledge introduced in the description, this competition is more about Geometry and pattern matching.\n",
    "\n",
    "The hypothesis of this kernel is next:\n",
    "1. If we have two similar sets of atoms with the same distances between them and the same types - the scalar coupling constant should be very close.\n",
    "2. More closest atoms to the pair of atoms under prediction have higher influence on scalar coupling constant then those with higher distance\n",
    "\n",
    "So, basically, this problem could be dealt with some kind of K-Nearest Neighbor algorithm or any tree-based - e.g. LightGBM, in case we can find some representation which would describe similar configurations with similar feature sets.\n",
    "\n",
    "Each atom is described with 3 cartesian coordinates. This representation is not stable. Each coupling pair is located in a different point in space and two similar coupling sets would have very different X,Y,Z.\n",
    "\n",
    "So, instead of using coordinates let's consider next system:\n",
    "1. Take each pair of atoms as two first core atoms\n",
    "2. Calculate the center between the pair\n",
    "3. Find all n-nearest atoms to the center (excluding first two atoms)\n",
    "4. Take two closest atoms from step 3 - they will be 3rd and 4th core atoms\n",
    "5. Calculate the distances from 4 core atoms to the rest of the atoms and to the core atoms as well\n",
    "\n",
    "Using this representation each atom position can be described by 4 distances from the core atoms. This representation is stable to rotation and translation. And it's suitable for pattern-matching. So, we can take a sequence of atoms, describe each by 4 distances + atom type(H,O,etc) and looking up for the same pattern we can find similar configurations and detect scalar coupling constant.\n",
    "\n",
    "Here I used LightGBM, because sklearn KNN can't deal with the amount of data. My blind guess is that hand-crafted KNN can outperform LightGBM.\n",
    "\n",
    "Let's code the solution!"
   ]
  },
  {
   "cell_type": "markdown",
   "metadata": {
    "heading_collapsed": true
   },
   "source": [
    "## Import modules, set options"
   ]
  },
  {
   "cell_type": "code",
   "execution_count": 149,
   "metadata": {
    "hidden": true
   },
   "outputs": [],
   "source": [
    "%matplotlib inline\n",
    "\n",
    "import pandas as pd\n",
    "import numpy as np\n",
    "\n",
    "import math\n",
    "import gc\n",
    "import copy\n",
    "\n",
    "from sklearn.model_selection import KFold, train_test_split\n",
    "from sklearn.metrics import mean_absolute_error\n",
    "\n",
    "import matplotlib.pyplot as plt\n",
    "import seaborn as sns\n",
    "\n",
    "from lightgbm import LGBMRegressor\n",
    "import os\n",
    "# os.listdir('../input/imputed')"
   ]
  },
  {
   "cell_type": "code",
   "execution_count": 150,
   "metadata": {
    "hidden": true
   },
   "outputs": [],
   "source": [
    "DATA_PATH = '..\\\\input'\n",
    "SUBMISSIONS_PATH = '..\\\\output'\n",
    "# use atomic numbers to recode atomic names\n",
    "ATOMIC_NUMBERS = {\n",
    "    'H': 1,\n",
    "    'C': 6,\n",
    "    'N': 7,\n",
    "    'O': 8,\n",
    "    'F': 9\n",
    "}"
   ]
  },
  {
   "cell_type": "code",
   "execution_count": 151,
   "metadata": {
    "hidden": true
   },
   "outputs": [],
   "source": [
    "pd.set_option('display.max_colwidth', -1)\n",
    "pd.set_option('display.max_rows', 120)\n",
    "pd.set_option('display.max_columns', 120)"
   ]
  },
  {
   "cell_type": "markdown",
   "metadata": {},
   "source": [
    "## Load Dataset"
   ]
  },
  {
   "cell_type": "markdown",
   "metadata": {},
   "source": [
    "By default all data is read as `float64` and `int64`. We can trade this uneeded precision for memory and higher prediction speed. So, let's read with Pandas all the data in the minimal representation: "
   ]
  },
  {
   "cell_type": "code",
   "execution_count": 152,
   "metadata": {},
   "outputs": [
    {
     "name": "stderr",
     "output_type": "stream",
     "text": [
      "C:\\ProgramFiles\\Anaconda\\lib\\site-packages\\numpy\\lib\\arraysetops.py:569: FutureWarning: elementwise comparison failed; returning scalar instead, but in the future will perform elementwise comparison\n",
      "  mask |= (ar1 == a)\n"
     ]
    },
    {
     "data": {
      "text/html": [
       "<div>\n",
       "<style scoped>\n",
       "    .dataframe tbody tr th:only-of-type {\n",
       "        vertical-align: middle;\n",
       "    }\n",
       "\n",
       "    .dataframe tbody tr th {\n",
       "        vertical-align: top;\n",
       "    }\n",
       "\n",
       "    .dataframe thead th {\n",
       "        text-align: right;\n",
       "    }\n",
       "</style>\n",
       "<table border=\"1\" class=\"dataframe\">\n",
       "  <thead>\n",
       "    <tr style=\"text-align: right;\">\n",
       "      <th></th>\n",
       "      <th>molecule_index</th>\n",
       "      <th>atom_index_0</th>\n",
       "      <th>atom_index_1</th>\n",
       "      <th>type</th>\n",
       "      <th>scalar_coupling_constant</th>\n",
       "    </tr>\n",
       "    <tr>\n",
       "      <th>id</th>\n",
       "      <th></th>\n",
       "      <th></th>\n",
       "      <th></th>\n",
       "      <th></th>\n",
       "      <th></th>\n",
       "    </tr>\n",
       "  </thead>\n",
       "  <tbody>\n",
       "    <tr>\n",
       "      <th>0</th>\n",
       "      <td>1</td>\n",
       "      <td>1</td>\n",
       "      <td>0</td>\n",
       "      <td>1JHC</td>\n",
       "      <td>84.807602</td>\n",
       "    </tr>\n",
       "    <tr>\n",
       "      <th>1</th>\n",
       "      <td>1</td>\n",
       "      <td>1</td>\n",
       "      <td>2</td>\n",
       "      <td>2JHH</td>\n",
       "      <td>-11.257000</td>\n",
       "    </tr>\n",
       "    <tr>\n",
       "      <th>2</th>\n",
       "      <td>1</td>\n",
       "      <td>1</td>\n",
       "      <td>3</td>\n",
       "      <td>2JHH</td>\n",
       "      <td>-11.254800</td>\n",
       "    </tr>\n",
       "    <tr>\n",
       "      <th>3</th>\n",
       "      <td>1</td>\n",
       "      <td>1</td>\n",
       "      <td>4</td>\n",
       "      <td>2JHH</td>\n",
       "      <td>-11.254300</td>\n",
       "    </tr>\n",
       "    <tr>\n",
       "      <th>4</th>\n",
       "      <td>1</td>\n",
       "      <td>2</td>\n",
       "      <td>0</td>\n",
       "      <td>1JHC</td>\n",
       "      <td>84.807404</td>\n",
       "    </tr>\n",
       "    <tr>\n",
       "      <th>5</th>\n",
       "      <td>1</td>\n",
       "      <td>2</td>\n",
       "      <td>3</td>\n",
       "      <td>2JHH</td>\n",
       "      <td>-11.254100</td>\n",
       "    </tr>\n",
       "    <tr>\n",
       "      <th>6</th>\n",
       "      <td>1</td>\n",
       "      <td>2</td>\n",
       "      <td>4</td>\n",
       "      <td>2JHH</td>\n",
       "      <td>-11.254800</td>\n",
       "    </tr>\n",
       "    <tr>\n",
       "      <th>7</th>\n",
       "      <td>1</td>\n",
       "      <td>3</td>\n",
       "      <td>0</td>\n",
       "      <td>1JHC</td>\n",
       "      <td>84.809303</td>\n",
       "    </tr>\n",
       "    <tr>\n",
       "      <th>8</th>\n",
       "      <td>1</td>\n",
       "      <td>3</td>\n",
       "      <td>4</td>\n",
       "      <td>2JHH</td>\n",
       "      <td>-11.254300</td>\n",
       "    </tr>\n",
       "    <tr>\n",
       "      <th>9</th>\n",
       "      <td>1</td>\n",
       "      <td>4</td>\n",
       "      <td>0</td>\n",
       "      <td>1JHC</td>\n",
       "      <td>84.809502</td>\n",
       "    </tr>\n",
       "  </tbody>\n",
       "</table>\n",
       "</div>"
      ],
      "text/plain": [
       "    molecule_index  atom_index_0  atom_index_1  type  scalar_coupling_constant\n",
       "id                                                                            \n",
       "0   1               1             0             1JHC  84.807602               \n",
       "1   1               1             2             2JHH -11.257000               \n",
       "2   1               1             3             2JHH -11.254800               \n",
       "3   1               1             4             2JHH -11.254300               \n",
       "4   1               2             0             1JHC  84.807404               \n",
       "5   1               2             3             2JHH -11.254100               \n",
       "6   1               2             4             2JHH -11.254800               \n",
       "7   1               3             0             1JHC  84.809303               \n",
       "8   1               3             4             2JHH -11.254300               \n",
       "9   1               4             0             1JHC  84.809502               "
      ]
     },
     "execution_count": 152,
     "metadata": {},
     "output_type": "execute_result"
    }
   ],
   "source": [
    "train_dtypes = {\n",
    "    'molecule_name': 'category',\n",
    "    'atom_index_0': 'int8',\n",
    "    'atom_index_1': 'int8',\n",
    "    'type': 'category',\n",
    "    'scalar_coupling_constant': 'float32'\n",
    "}\n",
    "train_csv = pd.read_csv(f'{DATA_PATH}\\\\train.csv', index_col='id', dtype=train_dtypes)\n",
    "train_csv['molecule_index'] = train_csv.molecule_name.str.replace('dsgdb9nsd_', '').astype('int32')\n",
    "train_csv = train_csv[['molecule_index', 'atom_index_0', 'atom_index_1', 'type', 'scalar_coupling_constant']]\n",
    "train_csv.head(10)"
   ]
  },
  {
   "cell_type": "markdown",
   "metadata": {},
   "source": [
    "#### Filter"
   ]
  },
  {
   "cell_type": "code",
   "execution_count": 153,
   "metadata": {},
   "outputs": [],
   "source": [
    "#train_csv, _ = train_test_split(train_csv, test_size=0.9, random_state=42)"
   ]
  },
  {
   "cell_type": "markdown",
   "metadata": {},
   "source": [
    "#### Train_CSV Params"
   ]
  },
  {
   "cell_type": "code",
   "execution_count": 154,
   "metadata": {},
   "outputs": [
    {
     "data": {
      "text/html": [
       "<div>\n",
       "<style scoped>\n",
       "    .dataframe tbody tr th:only-of-type {\n",
       "        vertical-align: middle;\n",
       "    }\n",
       "\n",
       "    .dataframe tbody tr th {\n",
       "        vertical-align: top;\n",
       "    }\n",
       "\n",
       "    .dataframe thead th {\n",
       "        text-align: right;\n",
       "    }\n",
       "</style>\n",
       "<table border=\"1\" class=\"dataframe\">\n",
       "  <thead>\n",
       "    <tr style=\"text-align: right;\">\n",
       "      <th></th>\n",
       "      <th>molecule_index</th>\n",
       "      <th>atom_index_0</th>\n",
       "      <th>atom_index_1</th>\n",
       "      <th>scalar_coupling_constant</th>\n",
       "    </tr>\n",
       "  </thead>\n",
       "  <tbody>\n",
       "    <tr>\n",
       "      <th>count</th>\n",
       "      <td>4.658147e+06</td>\n",
       "      <td>4.658147e+06</td>\n",
       "      <td>4.658147e+06</td>\n",
       "      <td>4.658147e+06</td>\n",
       "    </tr>\n",
       "    <tr>\n",
       "      <th>mean</th>\n",
       "      <td>6.915783e+04</td>\n",
       "      <td>1.335689e+01</td>\n",
       "      <td>5.883966e+00</td>\n",
       "      <td>1.589904e+01</td>\n",
       "    </tr>\n",
       "    <tr>\n",
       "      <th>std</th>\n",
       "      <td>3.661127e+04</td>\n",
       "      <td>3.267712e+00</td>\n",
       "      <td>4.993943e+00</td>\n",
       "      <td>3.477050e+01</td>\n",
       "    </tr>\n",
       "    <tr>\n",
       "      <th>min</th>\n",
       "      <td>1.000000e+00</td>\n",
       "      <td>0.000000e+00</td>\n",
       "      <td>0.000000e+00</td>\n",
       "      <td>-3.621860e+01</td>\n",
       "    </tr>\n",
       "    <tr>\n",
       "      <th>25%</th>\n",
       "      <td>3.900200e+04</td>\n",
       "      <td>1.100000e+01</td>\n",
       "      <td>2.000000e+00</td>\n",
       "      <td>-2.549780e-01</td>\n",
       "    </tr>\n",
       "    <tr>\n",
       "      <th>50%</th>\n",
       "      <td>7.160900e+04</td>\n",
       "      <td>1.300000e+01</td>\n",
       "      <td>5.000000e+00</td>\n",
       "      <td>2.281130e+00</td>\n",
       "    </tr>\n",
       "    <tr>\n",
       "      <th>75%</th>\n",
       "      <td>1.008060e+05</td>\n",
       "      <td>1.600000e+01</td>\n",
       "      <td>8.000000e+00</td>\n",
       "      <td>7.390655e+00</td>\n",
       "    </tr>\n",
       "    <tr>\n",
       "      <th>max</th>\n",
       "      <td>1.338840e+05</td>\n",
       "      <td>2.800000e+01</td>\n",
       "      <td>2.800000e+01</td>\n",
       "      <td>2.048800e+02</td>\n",
       "    </tr>\n",
       "  </tbody>\n",
       "</table>\n",
       "</div>"
      ],
      "text/plain": [
       "       molecule_index  atom_index_0  atom_index_1  scalar_coupling_constant\n",
       "count  4.658147e+06    4.658147e+06  4.658147e+06  4.658147e+06            \n",
       "mean   6.915783e+04    1.335689e+01  5.883966e+00  1.589904e+01            \n",
       "std    3.661127e+04    3.267712e+00  4.993943e+00  3.477050e+01            \n",
       "min    1.000000e+00    0.000000e+00  0.000000e+00 -3.621860e+01            \n",
       "25%    3.900200e+04    1.100000e+01  2.000000e+00 -2.549780e-01            \n",
       "50%    7.160900e+04    1.300000e+01  5.000000e+00  2.281130e+00            \n",
       "75%    1.008060e+05    1.600000e+01  8.000000e+00  7.390655e+00            \n",
       "max    1.338840e+05    2.800000e+01  2.800000e+01  2.048800e+02            "
      ]
     },
     "execution_count": 154,
     "metadata": {},
     "output_type": "execute_result"
    }
   ],
   "source": [
    "train_csv.describe()"
   ]
  },
  {
   "cell_type": "code",
   "execution_count": 155,
   "metadata": {},
   "outputs": [
    {
     "name": "stdout",
     "output_type": "stream",
     "text": [
      "Shape:  (4658147, 5)\n",
      "Total:  88505177\n"
     ]
    },
    {
     "data": {
      "text/plain": [
       "Index                       37265176\n",
       "molecule_index              18632588\n",
       "atom_index_0                4658147 \n",
       "atom_index_1                4658147 \n",
       "type                        4658531 \n",
       "scalar_coupling_constant    18632588\n",
       "dtype: int64"
      ]
     },
     "execution_count": 155,
     "metadata": {},
     "output_type": "execute_result"
    }
   ],
   "source": [
    "print('Shape: ', train_csv.shape)\n",
    "print('Total: ', train_csv.memory_usage().sum())\n",
    "train_csv.memory_usage()"
   ]
  },
  {
   "cell_type": "code",
   "execution_count": 156,
   "metadata": {},
   "outputs": [
    {
     "name": "stderr",
     "output_type": "stream",
     "text": [
      "C:\\ProgramFiles\\Anaconda\\lib\\site-packages\\numpy\\lib\\arraysetops.py:569: FutureWarning: elementwise comparison failed; returning scalar instead, but in the future will perform elementwise comparison\n",
      "  mask |= (ar1 == a)\n"
     ]
    }
   ],
   "source": [
    "submission_csv = pd.read_csv(f'{DATA_PATH}\\\\sample_submission.csv', index_col='id')"
   ]
  },
  {
   "cell_type": "code",
   "execution_count": 157,
   "metadata": {},
   "outputs": [
    {
     "data": {
      "text/html": [
       "<div>\n",
       "<style scoped>\n",
       "    .dataframe tbody tr th:only-of-type {\n",
       "        vertical-align: middle;\n",
       "    }\n",
       "\n",
       "    .dataframe tbody tr th {\n",
       "        vertical-align: top;\n",
       "    }\n",
       "\n",
       "    .dataframe thead th {\n",
       "        text-align: right;\n",
       "    }\n",
       "</style>\n",
       "<table border=\"1\" class=\"dataframe\">\n",
       "  <thead>\n",
       "    <tr style=\"text-align: right;\">\n",
       "      <th></th>\n",
       "      <th>molecule_index</th>\n",
       "      <th>atom_index_0</th>\n",
       "      <th>atom_index_1</th>\n",
       "      <th>type</th>\n",
       "    </tr>\n",
       "    <tr>\n",
       "      <th>id</th>\n",
       "      <th></th>\n",
       "      <th></th>\n",
       "      <th></th>\n",
       "      <th></th>\n",
       "    </tr>\n",
       "  </thead>\n",
       "  <tbody>\n",
       "    <tr>\n",
       "      <th>4658147</th>\n",
       "      <td>4</td>\n",
       "      <td>2</td>\n",
       "      <td>0</td>\n",
       "      <td>2JHC</td>\n",
       "    </tr>\n",
       "    <tr>\n",
       "      <th>4658148</th>\n",
       "      <td>4</td>\n",
       "      <td>2</td>\n",
       "      <td>1</td>\n",
       "      <td>1JHC</td>\n",
       "    </tr>\n",
       "    <tr>\n",
       "      <th>4658149</th>\n",
       "      <td>4</td>\n",
       "      <td>2</td>\n",
       "      <td>3</td>\n",
       "      <td>3JHH</td>\n",
       "    </tr>\n",
       "    <tr>\n",
       "      <th>4658150</th>\n",
       "      <td>4</td>\n",
       "      <td>3</td>\n",
       "      <td>0</td>\n",
       "      <td>1JHC</td>\n",
       "    </tr>\n",
       "    <tr>\n",
       "      <th>4658151</th>\n",
       "      <td>4</td>\n",
       "      <td>3</td>\n",
       "      <td>1</td>\n",
       "      <td>2JHC</td>\n",
       "    </tr>\n",
       "    <tr>\n",
       "      <th>4658152</th>\n",
       "      <td>15</td>\n",
       "      <td>3</td>\n",
       "      <td>0</td>\n",
       "      <td>1JHC</td>\n",
       "    </tr>\n",
       "    <tr>\n",
       "      <th>4658153</th>\n",
       "      <td>15</td>\n",
       "      <td>3</td>\n",
       "      <td>2</td>\n",
       "      <td>3JHC</td>\n",
       "    </tr>\n",
       "    <tr>\n",
       "      <th>4658154</th>\n",
       "      <td>15</td>\n",
       "      <td>3</td>\n",
       "      <td>4</td>\n",
       "      <td>2JHH</td>\n",
       "    </tr>\n",
       "    <tr>\n",
       "      <th>4658155</th>\n",
       "      <td>15</td>\n",
       "      <td>3</td>\n",
       "      <td>5</td>\n",
       "      <td>2JHH</td>\n",
       "    </tr>\n",
       "    <tr>\n",
       "      <th>4658156</th>\n",
       "      <td>15</td>\n",
       "      <td>4</td>\n",
       "      <td>0</td>\n",
       "      <td>1JHC</td>\n",
       "    </tr>\n",
       "  </tbody>\n",
       "</table>\n",
       "</div>"
      ],
      "text/plain": [
       "         molecule_index  atom_index_0  atom_index_1  type\n",
       "id                                                       \n",
       "4658147  4               2             0             2JHC\n",
       "4658148  4               2             1             1JHC\n",
       "4658149  4               2             3             3JHH\n",
       "4658150  4               3             0             1JHC\n",
       "4658151  4               3             1             2JHC\n",
       "4658152  15              3             0             1JHC\n",
       "4658153  15              3             2             3JHC\n",
       "4658154  15              3             4             2JHH\n",
       "4658155  15              3             5             2JHH\n",
       "4658156  15              4             0             1JHC"
      ]
     },
     "execution_count": 157,
     "metadata": {},
     "output_type": "execute_result"
    }
   ],
   "source": [
    "test_csv = pd.read_csv(f'{DATA_PATH}\\\\test.csv', index_col='id', dtype=train_dtypes)\n",
    "test_csv['molecule_index'] = test_csv['molecule_name'].str.replace('dsgdb9nsd_', '').astype('int32')\n",
    "test_csv = test_csv[['molecule_index', 'atom_index_0', 'atom_index_1', 'type']]\n",
    "test_csv.head(10)"
   ]
  },
  {
   "cell_type": "code",
   "execution_count": 158,
   "metadata": {},
   "outputs": [
    {
     "data": {
      "text/html": [
       "<div>\n",
       "<style scoped>\n",
       "    .dataframe tbody tr th:only-of-type {\n",
       "        vertical-align: middle;\n",
       "    }\n",
       "\n",
       "    .dataframe tbody tr th {\n",
       "        vertical-align: top;\n",
       "    }\n",
       "\n",
       "    .dataframe thead th {\n",
       "        text-align: right;\n",
       "    }\n",
       "</style>\n",
       "<table border=\"1\" class=\"dataframe\">\n",
       "  <thead>\n",
       "    <tr style=\"text-align: right;\">\n",
       "      <th></th>\n",
       "      <th>molecule_index</th>\n",
       "      <th>atom_index</th>\n",
       "      <th>atom</th>\n",
       "      <th>x</th>\n",
       "      <th>y</th>\n",
       "      <th>z</th>\n",
       "    </tr>\n",
       "  </thead>\n",
       "  <tbody>\n",
       "    <tr>\n",
       "      <th>0</th>\n",
       "      <td>1</td>\n",
       "      <td>0</td>\n",
       "      <td>6</td>\n",
       "      <td>-0.012698</td>\n",
       "      <td>1.085804</td>\n",
       "      <td>0.008001</td>\n",
       "    </tr>\n",
       "    <tr>\n",
       "      <th>1</th>\n",
       "      <td>1</td>\n",
       "      <td>1</td>\n",
       "      <td>1</td>\n",
       "      <td>0.002150</td>\n",
       "      <td>-0.006031</td>\n",
       "      <td>0.001976</td>\n",
       "    </tr>\n",
       "    <tr>\n",
       "      <th>2</th>\n",
       "      <td>1</td>\n",
       "      <td>2</td>\n",
       "      <td>1</td>\n",
       "      <td>1.011731</td>\n",
       "      <td>1.463751</td>\n",
       "      <td>0.000277</td>\n",
       "    </tr>\n",
       "    <tr>\n",
       "      <th>3</th>\n",
       "      <td>1</td>\n",
       "      <td>3</td>\n",
       "      <td>1</td>\n",
       "      <td>-0.540815</td>\n",
       "      <td>1.447527</td>\n",
       "      <td>-0.876644</td>\n",
       "    </tr>\n",
       "    <tr>\n",
       "      <th>4</th>\n",
       "      <td>1</td>\n",
       "      <td>4</td>\n",
       "      <td>1</td>\n",
       "      <td>-0.523814</td>\n",
       "      <td>1.437933</td>\n",
       "      <td>0.906397</td>\n",
       "    </tr>\n",
       "    <tr>\n",
       "      <th>5</th>\n",
       "      <td>2</td>\n",
       "      <td>0</td>\n",
       "      <td>7</td>\n",
       "      <td>-0.040426</td>\n",
       "      <td>1.024108</td>\n",
       "      <td>0.062564</td>\n",
       "    </tr>\n",
       "    <tr>\n",
       "      <th>6</th>\n",
       "      <td>2</td>\n",
       "      <td>1</td>\n",
       "      <td>1</td>\n",
       "      <td>0.017257</td>\n",
       "      <td>0.012545</td>\n",
       "      <td>-0.027377</td>\n",
       "    </tr>\n",
       "    <tr>\n",
       "      <th>7</th>\n",
       "      <td>2</td>\n",
       "      <td>2</td>\n",
       "      <td>1</td>\n",
       "      <td>0.915789</td>\n",
       "      <td>1.358745</td>\n",
       "      <td>-0.028758</td>\n",
       "    </tr>\n",
       "    <tr>\n",
       "      <th>8</th>\n",
       "      <td>2</td>\n",
       "      <td>3</td>\n",
       "      <td>1</td>\n",
       "      <td>-0.520278</td>\n",
       "      <td>1.343532</td>\n",
       "      <td>-0.775543</td>\n",
       "    </tr>\n",
       "    <tr>\n",
       "      <th>9</th>\n",
       "      <td>3</td>\n",
       "      <td>0</td>\n",
       "      <td>8</td>\n",
       "      <td>-0.034360</td>\n",
       "      <td>0.977540</td>\n",
       "      <td>0.007602</td>\n",
       "    </tr>\n",
       "  </tbody>\n",
       "</table>\n",
       "</div>"
      ],
      "text/plain": [
       "   molecule_index  atom_index  atom         x         y         z\n",
       "0  1               0           6    -0.012698  1.085804  0.008001\n",
       "1  1               1           1     0.002150 -0.006031  0.001976\n",
       "2  1               2           1     1.011731  1.463751  0.000277\n",
       "3  1               3           1    -0.540815  1.447527 -0.876644\n",
       "4  1               4           1    -0.523814  1.437933  0.906397\n",
       "5  2               0           7    -0.040426  1.024108  0.062564\n",
       "6  2               1           1     0.017257  0.012545 -0.027377\n",
       "7  2               2           1     0.915789  1.358745 -0.028758\n",
       "8  2               3           1    -0.520278  1.343532 -0.775543\n",
       "9  3               0           8    -0.034360  0.977540  0.007602"
      ]
     },
     "execution_count": 158,
     "metadata": {},
     "output_type": "execute_result"
    }
   ],
   "source": [
    "structures_dtypes = {\n",
    "    'molecule_name': 'category',\n",
    "    'atom_index': 'int8',\n",
    "    'atom': 'category',\n",
    "    'x': 'float32',\n",
    "    'y': 'float32',\n",
    "    'z': 'float32'\n",
    "}\n",
    "structures_csv = pd.read_csv(f'{DATA_PATH}\\\\structures.csv', dtype=structures_dtypes)\n",
    "structures_csv['molecule_index'] = structures_csv.molecule_name.str.replace('dsgdb9nsd_', '').astype('int32')\n",
    "structures_csv = structures_csv[['molecule_index', 'atom_index', 'atom', 'x', 'y', 'z']]\n",
    "structures_csv['atom'] = structures_csv['atom'].replace(ATOMIC_NUMBERS).astype('int8')\n",
    "structures_csv.head(10)"
   ]
  },
  {
   "cell_type": "code",
   "execution_count": 159,
   "metadata": {},
   "outputs": [
    {
     "name": "stdout",
     "output_type": "stream",
     "text": [
      "Shape:  (2358657, 6)\n",
      "Total:  42455906\n"
     ]
    },
    {
     "data": {
      "text/plain": [
       "Index             80     \n",
       "molecule_index    9434628\n",
       "atom_index        2358657\n",
       "atom              2358657\n",
       "x                 9434628\n",
       "y                 9434628\n",
       "z                 9434628\n",
       "dtype: int64"
      ]
     },
     "execution_count": 159,
     "metadata": {},
     "output_type": "execute_result"
    }
   ],
   "source": [
    "print('Shape: ', structures_csv.shape)\n",
    "print('Total: ', structures_csv.memory_usage().sum())\n",
    "structures_csv.memory_usage()"
   ]
  },
  {
   "cell_type": "markdown",
   "metadata": {},
   "source": [
    "## Build Distance Dataset"
   ]
  },
  {
   "cell_type": "markdown",
   "metadata": {},
   "source": [
    "### Functions"
   ]
  },
  {
   "cell_type": "code",
   "execution_count": 160,
   "metadata": {},
   "outputs": [],
   "source": [
    "def build_type_dataframes(base, structures, coupling_type):\n",
    "    base = base[base['type'] == coupling_type].drop('type', axis=1).copy()\n",
    "    base = base.reset_index()\n",
    "    base['id'] = base['id'].astype('int32')\n",
    "    structures = structures[structures['molecule_index'].isin(base['molecule_index'])]\n",
    "    return base, structures"
   ]
  },
  {
   "cell_type": "code",
   "execution_count": 161,
   "metadata": {},
   "outputs": [],
   "source": [
    "def add_coordinates(base, structures, index):\n",
    "    df = pd.merge(base, structures, how='inner',\n",
    "                  left_on=['molecule_index', f'atom_index_{index}'],\n",
    "                  right_on=['molecule_index', 'atom_index']).drop(['atom_index'], axis=1)\n",
    "    df = df.rename(columns={\n",
    "        'atom': f'atom_{index}',\n",
    "        'x': f'x_{index}',\n",
    "        'y': f'y_{index}',\n",
    "        'z': f'z_{index}'\n",
    "    })\n",
    "    return df"
   ]
  },
  {
   "cell_type": "code",
   "execution_count": 162,
   "metadata": {},
   "outputs": [],
   "source": [
    "def add_atoms(base, atoms):\n",
    "    df = pd.merge(base, atoms, how='inner',\n",
    "                  on=['molecule_index', 'atom_index_0', 'atom_index_1'])\n",
    "    return df"
   ]
  },
  {
   "cell_type": "code",
   "execution_count": 163,
   "metadata": {},
   "outputs": [],
   "source": [
    "def merge_all_atoms(base, structures):\n",
    "    df = pd.merge(base, structures, how='left',\n",
    "                  left_on=['molecule_index'],\n",
    "                  right_on=['molecule_index'])\n",
    "    df = df[(df.atom_index_0 != df.atom_index) & (df.atom_index_1 != df.atom_index)]\n",
    "    return df"
   ]
  },
  {
   "cell_type": "code",
   "execution_count": 164,
   "metadata": {},
   "outputs": [],
   "source": [
    "def add_center(df):\n",
    "    df['x_c'] = ((df['x_1'] + df['x_0']) * np.float32(0.5))\n",
    "    df['y_c'] = ((df['y_1'] + df['y_0']) * np.float32(0.5))\n",
    "    df['z_c'] = ((df['z_1'] + df['z_0']) * np.float32(0.5))\n",
    "\n",
    "\n",
    "\n",
    "def add_distance_between(df, suffix1, suffix2):\n",
    "    df[f'd_{suffix1}_{suffix2}'] = ((\n",
    "        (df[f'x_{suffix1}'] - df[f'x_{suffix2}'])**np.float32(2) +\n",
    "        (df[f'y_{suffix1}'] - df[f'y_{suffix2}'])**np.float32(2) + \n",
    "        (df[f'z_{suffix1}'] - df[f'z_{suffix2}'])**np.float32(2)\n",
    "    )**np.float32(0.5))"
   ]
  },
  {
   "cell_type": "code",
   "execution_count": 165,
   "metadata": {},
   "outputs": [],
   "source": [
    "def add_distances(df):\n",
    "    n_atoms = 1 + max([int(c.split('_')[1]) for c in df.columns if c.startswith('x_')])\n",
    "    \n",
    "    for i in range(1, n_atoms):\n",
    "        for vi in range(min(4, i)):\n",
    "            add_distance_between(df, i, vi)"
   ]
  },
  {
   "cell_type": "code",
   "execution_count": 166,
   "metadata": {},
   "outputs": [],
   "source": [
    "def add_n_atoms(base, structures):\n",
    "    dfs = structures['molecule_index'].value_counts().rename('n_atoms').to_frame()\n",
    "    return pd.merge(base, dfs, left_on='molecule_index', right_index=True)"
   ]
  },
  {
   "cell_type": "code",
   "execution_count": 167,
   "metadata": {},
   "outputs": [],
   "source": [
    "def build_couple_dataframeOld(some_csv, structures_csv, coupling_type, n_atoms=10):\n",
    "    base, structures = build_type_dataframes(some_csv, structures_csv, coupling_type)\n",
    "    base = add_coordinates(base, structures, 0)\n",
    "    base = add_coordinates(base, structures, 1)\n",
    "    \n",
    "    base = base.drop(['atom_0', 'atom_1'], axis=1)\n",
    "    atoms = base.drop('id', axis=1).copy()\n",
    "    if 'scalar_coupling_constant' in some_csv:\n",
    "        atoms = atoms.drop(['scalar_coupling_constant'], axis=1)\n",
    "        \n",
    "    add_center(atoms)\n",
    "    \n",
    "    \n",
    "    atoms = atoms.drop(['x_0', 'y_0', 'z_0', 'x_1', 'y_1', 'z_1'], axis=1)\n",
    "\n",
    "    atoms = merge_all_atoms(atoms, structures)\n",
    "    \n",
    "    add_distance_to_center(atoms)\n",
    "    \n",
    "    atoms = atoms.drop(['x_c', 'y_c', 'z_c', 'atom_index'], axis=1)\n",
    "    atoms.sort_values(['molecule_index', 'atom_index_0', 'atom_index_1', 'd_c'], inplace=True)\n",
    "    atom_groups = atoms.groupby(['molecule_index', 'atom_index_0', 'atom_index_1'])\n",
    "    atoms['num'] = atom_groups.cumcount() + 2\n",
    "    atoms = atoms.drop(['d_c'], axis=1)\n",
    "    atoms = atoms[atoms['num'] < n_atoms]\n",
    "\n",
    "    atoms = atoms.set_index(['molecule_index', 'atom_index_0', 'atom_index_1', 'num']).unstack()\n",
    "    atoms.columns = [f'{col[0]}_{col[1]}' for col in atoms.columns]\n",
    "    atoms = atoms.reset_index()\n",
    "    \n",
    "    # downcast back to int8\n",
    "    for col in atoms.columns:\n",
    "        if col.startswith('atom_'):\n",
    "            atoms[col] = atoms[col].fillna(0).astype('int8')\n",
    "            \n",
    "    atoms['molecule_index'] = atoms['molecule_index'].astype('int32')\n",
    "    \n",
    "    full = add_atoms(base, atoms)\n",
    "    add_distances(full)\n",
    "    \n",
    "    full.sort_values('id', inplace=True)\n",
    "    \n",
    "    return full"
   ]
  },
  {
   "cell_type": "code",
   "execution_count": 168,
   "metadata": {},
   "outputs": [],
   "source": [
    "def take_n_atoms(df, n_atoms, four_start=4):\n",
    "    labels = []\n",
    "    for i in range(2, n_atoms):\n",
    "        label = f'atom_{i}'\n",
    "        labels.append(label)\n",
    "\n",
    "    for i in range(n_atoms):\n",
    "        num = min(i, 4) if i < four_start else 4\n",
    "        for j in range(num):\n",
    "            labels.append(f'd_{i}_{j}')\n",
    "    if 'scalar_coupling_constant' in df:\n",
    "        labels.append('scalar_coupling_constant')\n",
    "    output = df[labels]\n",
    "    atoms_names = list([col for col in output if col.startswith('atom_')])[2:]\n",
    "    output = output.drop(atoms_names, axis=1)\n",
    "    return output"
   ]
  },
  {
   "cell_type": "code",
   "execution_count": 169,
   "metadata": {},
   "outputs": [],
   "source": [
    "def map_atom_info(df, atom_idx):\n",
    "    structures = structures_csv[['molecule_index', 'atom_index', 'atom']]\n",
    "    structures = structures_csv\n",
    "    df = pd.merge(df, structures, how = 'left',\n",
    "                  left_on  = ['molecule_index', f'atom_index_{atom_idx}'],\n",
    "                  right_on = ['molecule_index',  'atom_index'])\n",
    "    df = df.rename(columns={'atom': f'atom_{atom_idx}'});\n",
    "    #df = df.drop('atom_index', axis=1)    \n",
    "    return df"
   ]
  },
  {
   "cell_type": "markdown",
   "metadata": {
    "heading_collapsed": true
   },
   "source": [
    "### Проверяем, что для каждого типа молекулы только  atom_1 принимает только одно значение"
   ]
  },
  {
   "cell_type": "code",
   "execution_count": 170,
   "metadata": {
    "hidden": true
   },
   "outputs": [
    {
     "data": {
      "text/html": [
       "<div>\n",
       "<style scoped>\n",
       "    .dataframe tbody tr th:only-of-type {\n",
       "        vertical-align: middle;\n",
       "    }\n",
       "\n",
       "    .dataframe tbody tr th {\n",
       "        vertical-align: top;\n",
       "    }\n",
       "\n",
       "    .dataframe thead th {\n",
       "        text-align: right;\n",
       "    }\n",
       "</style>\n",
       "<table border=\"1\" class=\"dataframe\">\n",
       "  <thead>\n",
       "    <tr style=\"text-align: right;\">\n",
       "      <th></th>\n",
       "      <th>atom_1</th>\n",
       "    </tr>\n",
       "    <tr>\n",
       "      <th>type</th>\n",
       "      <th></th>\n",
       "    </tr>\n",
       "  </thead>\n",
       "  <tbody>\n",
       "    <tr>\n",
       "      <th>1JHC</th>\n",
       "      <td>6</td>\n",
       "    </tr>\n",
       "    <tr>\n",
       "      <th>1JHN</th>\n",
       "      <td>7</td>\n",
       "    </tr>\n",
       "    <tr>\n",
       "      <th>2JHC</th>\n",
       "      <td>6</td>\n",
       "    </tr>\n",
       "    <tr>\n",
       "      <th>2JHH</th>\n",
       "      <td>1</td>\n",
       "    </tr>\n",
       "    <tr>\n",
       "      <th>2JHN</th>\n",
       "      <td>7</td>\n",
       "    </tr>\n",
       "    <tr>\n",
       "      <th>3JHC</th>\n",
       "      <td>6</td>\n",
       "    </tr>\n",
       "    <tr>\n",
       "      <th>3JHH</th>\n",
       "      <td>1</td>\n",
       "    </tr>\n",
       "    <tr>\n",
       "      <th>3JHN</th>\n",
       "      <td>7</td>\n",
       "    </tr>\n",
       "  </tbody>\n",
       "</table>\n",
       "</div>"
      ],
      "text/plain": [
       "      atom_1\n",
       "type        \n",
       "1JHC  6     \n",
       "1JHN  7     \n",
       "2JHC  6     \n",
       "2JHH  1     \n",
       "2JHN  7     \n",
       "3JHC  6     \n",
       "3JHH  1     \n",
       "3JHN  7     "
      ]
     },
     "execution_count": 170,
     "metadata": {},
     "output_type": "execute_result"
    }
   ],
   "source": [
    "invest0 = map_atom_info(train_csv, 1)\n",
    "invest0 = invest0[['type','atom_1']]\n",
    "invest0.groupby(['type']).mean()"
   ]
  },
  {
   "cell_type": "markdown",
   "metadata": {},
   "source": [
    "## Check Regressions for a simple type"
   ]
  },
  {
   "cell_type": "markdown",
   "metadata": {},
   "source": [
    "## New heading"
   ]
  },
  {
   "cell_type": "code",
   "execution_count": 171,
   "metadata": {},
   "outputs": [],
   "source": [
    "def add_atoms(base, atoms):\n",
    "    df = pd.merge(base, atoms, how='inner',\n",
    "                  on=['molecule_index', 'atom_index_0', 'atom_index_1'])\n",
    "    return df\n",
    "\n",
    "\n",
    "def build_atoms(base_from, structures_from, n_atoms):\n",
    "    base = base_from\n",
    "    structures = structures_from\n",
    "\n",
    "    atoms = base.drop('id', axis=1).copy()\n",
    "    if 'scalar_coupling_constant' in atoms:\n",
    "        atoms = atoms.drop(['scalar_coupling_constant'], axis=1)\n",
    "\n",
    "    add_center(atoms)\n",
    "\n",
    "    atoms = merge_all_atoms(atoms, structures)\n",
    "        \n",
    "    add_distance_to_center(atoms)\n",
    "\n",
    "    atoms.sort_values(['molecule_index', 'atom_index_0', 'atom_index_1', 'd_c'], inplace=True)\n",
    "    atom_groups = atoms.groupby(['molecule_index', 'atom_index_0', 'atom_index_1'])\n",
    "    atoms['num'] = atom_groups.cumcount() + 2\n",
    "    atoms = atoms.drop(['d_c'], axis=1)\n",
    "    atoms = atoms[atoms['num'] < n_atoms]\n",
    "    \n",
    "    atoms = atoms.drop(['x_0', 'y_0', 'z_0', 'x_1', 'y_1', 'z_1'], axis=1)\n",
    "    atoms = atoms.drop(['atom_index'], axis=1)\n",
    "    atoms = atoms.set_index(['x_c', 'y_c', 'z_c', \n",
    "        'molecule_index', 'atom_index_0', 'atom_index_1', 'num']).unstack()\n",
    "    atoms.columns = [f'{col[0]}_{col[1]}' for col in atoms.columns]\n",
    "    atoms = atoms.reset_index()\n",
    "\n",
    "    # downcast back to int8\n",
    "    for col in atoms.columns:\n",
    "        if col.startswith('atom_'):\n",
    "            atoms[col] = atoms[col].fillna(0).astype('int8')\n",
    "            \n",
    "    atoms['molecule_index'] = atoms['molecule_index'].astype('int32')\n",
    "    \n",
    "    return atoms\n"
   ]
  },
  {
   "cell_type": "code",
   "execution_count": 172,
   "metadata": {},
   "outputs": [],
   "source": [
    "def add_distance_to_center(df):\n",
    "    df['d_c'] = ((\n",
    "        ( df['x'] -  df['x_c'])**np.float32(2) +\n",
    "        ( df['y'] -  df['y_c'])**np.float32(2) + \n",
    "        ( df['z'] -  df['z_c'])**np.float32(2)\n",
    "    )**np.float32(0.5))\n",
    "    \n",
    "\n",
    "def cross_prod(v1, v2):\n",
    "    outp0 = v1[1] * v2[2] - v1[2] * v2[1]\n",
    "    outp1 = v1[2] * v2[0] - v1[0] * v2[2]\n",
    "    outp2 = v1[0] * v2[1] - v1[1] * v2[0]\n",
    "    outp = pd.concat([outp0, outp1,outp2], axis=1)\n",
    "    return outp\n",
    "\n",
    "\n",
    "def add_axis_x(df):\n",
    "    n_x = df.x_0 - df.x_c\n",
    "    n_y = df.y_0 - df.y_c\n",
    "    n_z = df.z_0 - df.z_c\n",
    "    axisFrame = pd.concat([n_x, n_y, n_z], axis=1)\n",
    "    axisNorm = np.sqrt(np.square(axisFrame).sum(axis=1))\n",
    "    df['ax_x'] = axisFrame[0] / axisNorm\n",
    "    df['ax_y'] = axisFrame[1] / axisNorm\n",
    "    df['ax_z'] = axisFrame[2] / axisNorm\n",
    "\n",
    "\n",
    "def add_axis_y(df):\n",
    "    r_vec = pd.concat([df.x_2 - df.x_c, \n",
    "                 df.y_2 - df.y_c,\n",
    "                 df.z_2 - df.z_c], axis=1)\n",
    "    axis_vec = pd.concat([df['ax_x'], \n",
    "                          df['ax_y'], \n",
    "                          df['ax_z']], axis=1)\n",
    "    axis_vec.columns = [0, 1, 2]\n",
    "    dist =  axis_vec[0] * r_vec[0] + axis_vec[1] * r_vec[1] + axis_vec[2] * r_vec[2]\n",
    "    yDir = r_vec - axis_vec.multiply(dist, axis=\"index\")\n",
    "    yDirNorm = np.sqrt(np.square(yDir).sum(axis=1))\n",
    "    df['ay_x'] = yDir[0] / yDirNorm\n",
    "    df['ay_y'] = yDir[1] / yDirNorm\n",
    "    df['ay_z'] = yDir[2] / yDirNorm    \n",
    "\n",
    "def add_axis_z(df):    \n",
    "    r_vec = pd.concat([df.x_2 - df.x_c, \n",
    "         df.y_2 - df.y_c,\n",
    "         df.z_2 - df.z_c], axis=1)\n",
    "    axis_x_vec = pd.concat([df['ax_x'], \n",
    "                      df['ax_y'], \n",
    "                      df['ax_z']], axis=1)\n",
    "    axis_x_vec.columns = [0, 1, 2]\n",
    "    axis_y_vec = pd.concat([df['ay_x'], \n",
    "                      df['ay_y'], \n",
    "                      df['ay_z']], axis=1)\n",
    "    axis_y_vec.columns = [0, 1, 2]\n",
    "    axis_z_vec = cross_prod(axis_x_vec, axis_y_vec)\n",
    "    df['az_x'] = axis_z_vec[0] \n",
    "    df['az_y'] = axis_z_vec[1] \n",
    "    df['az_z'] = axis_z_vec[2] \n",
    "\n",
    "\n",
    "    \n",
    "#add coordinates in frame ax,ay,az\n",
    "def add_r_per_atom(df, suffix):\n",
    "    x_loc = df[f'x_{suffix}'] - df.x_c\n",
    "    y_loc = df[f'y_{suffix}'] - df.y_c\n",
    "    z_loc = df[f'z_{suffix}'] - df.z_c\n",
    "    r_x =  df['ax_x'] * x_loc + df['ax_y'] * y_loc + df['ax_z'] * z_loc\n",
    "    r_y =  df['ay_x'] * x_loc + df['ay_y'] * y_loc + df['ay_z'] * z_loc\n",
    "    r_z =  df['az_x'] * x_loc + df['az_y'] * y_loc + df['az_z'] * z_loc\n",
    "    df[f'r_x_{suffix}'] = r_x\n",
    "    df[f'r_y_{suffix}'] = r_y\n",
    "    df[f'r_z_{suffix}'] = r_z\n",
    "            \n",
    "def add_r(df):    \n",
    "    n_atoms = len([col for col in df if col.startswith('x_')]) - 1\n",
    "    for i in range(1, n_atoms):\n",
    "            add_r_per_atom(df, i)\n",
    "            \n",
    "def build_couple_dataframe(some_csv, structures_csv, coupling_type, n_atoms=10):\n",
    "    base, structures = build_type_dataframes(some_csv, structures_csv, coupling_type)\n",
    "    base = add_coordinates(base, structures, 0)\n",
    "    base = add_coordinates(base, structures, 1)\n",
    "    base = base.drop(['atom_0', 'atom_1'], axis=1)\n",
    "    \n",
    "    atoms = build_atoms(base, structures, n_atoms)\n",
    "    df = add_atoms(base, atoms)\n",
    "    \n",
    "    add_axis_x(df)\n",
    "    add_axis_y(df)\n",
    "    add_axis_z(df)\n",
    "    add_r(df)\n",
    "\n",
    "    df.sort_values('id', inplace=True)\n",
    "    return df\n"
   ]
  },
  {
   "cell_type": "code",
   "execution_count": 173,
   "metadata": {
    "scrolled": true
   },
   "outputs": [
    {
     "name": "stdout",
     "output_type": "stream",
     "text": [
      "Wall time: 127 ms\n"
     ]
    },
    {
     "data": {
      "text/html": [
       "<div>\n",
       "<style scoped>\n",
       "    .dataframe tbody tr th:only-of-type {\n",
       "        vertical-align: middle;\n",
       "    }\n",
       "\n",
       "    .dataframe tbody tr th {\n",
       "        vertical-align: top;\n",
       "    }\n",
       "\n",
       "    .dataframe thead th {\n",
       "        text-align: right;\n",
       "    }\n",
       "</style>\n",
       "<table border=\"1\" class=\"dataframe\">\n",
       "  <thead>\n",
       "    <tr style=\"text-align: right;\">\n",
       "      <th></th>\n",
       "      <th>id</th>\n",
       "      <th>molecule_index</th>\n",
       "      <th>atom_index_0</th>\n",
       "      <th>atom_index_1</th>\n",
       "      <th>scalar_coupling_constant</th>\n",
       "      <th>x_0</th>\n",
       "      <th>y_0</th>\n",
       "      <th>z_0</th>\n",
       "      <th>x_1</th>\n",
       "      <th>y_1</th>\n",
       "      <th>z_1</th>\n",
       "      <th>x_c</th>\n",
       "      <th>y_c</th>\n",
       "      <th>z_c</th>\n",
       "      <th>atom_2</th>\n",
       "      <th>atom_3</th>\n",
       "      <th>atom_4</th>\n",
       "      <th>atom_5</th>\n",
       "      <th>atom_6</th>\n",
       "      <th>atom_7</th>\n",
       "      <th>atom_8</th>\n",
       "      <th>atom_9</th>\n",
       "      <th>x_2</th>\n",
       "      <th>x_3</th>\n",
       "      <th>x_4</th>\n",
       "      <th>x_5</th>\n",
       "      <th>x_6</th>\n",
       "      <th>x_7</th>\n",
       "      <th>x_8</th>\n",
       "      <th>x_9</th>\n",
       "      <th>y_2</th>\n",
       "      <th>y_3</th>\n",
       "      <th>y_4</th>\n",
       "      <th>y_5</th>\n",
       "      <th>y_6</th>\n",
       "      <th>y_7</th>\n",
       "      <th>y_8</th>\n",
       "      <th>y_9</th>\n",
       "      <th>z_2</th>\n",
       "      <th>z_3</th>\n",
       "      <th>z_4</th>\n",
       "      <th>z_5</th>\n",
       "      <th>z_6</th>\n",
       "      <th>z_7</th>\n",
       "      <th>z_8</th>\n",
       "      <th>z_9</th>\n",
       "      <th>ax_x</th>\n",
       "      <th>ax_y</th>\n",
       "      <th>ax_z</th>\n",
       "      <th>ay_x</th>\n",
       "      <th>ay_y</th>\n",
       "      <th>ay_z</th>\n",
       "      <th>az_x</th>\n",
       "      <th>az_y</th>\n",
       "      <th>az_z</th>\n",
       "      <th>r_x_1</th>\n",
       "      <th>r_y_1</th>\n",
       "      <th>r_z_1</th>\n",
       "      <th>r_x_2</th>\n",
       "      <th>r_y_2</th>\n",
       "      <th>r_z_2</th>\n",
       "      <th>r_x_3</th>\n",
       "      <th>r_y_3</th>\n",
       "      <th>r_z_3</th>\n",
       "      <th>r_x_4</th>\n",
       "      <th>r_y_4</th>\n",
       "      <th>r_z_4</th>\n",
       "      <th>r_x_5</th>\n",
       "      <th>r_y_5</th>\n",
       "      <th>r_z_5</th>\n",
       "      <th>r_x_6</th>\n",
       "      <th>r_y_6</th>\n",
       "      <th>r_z_6</th>\n",
       "      <th>r_x_7</th>\n",
       "      <th>r_y_7</th>\n",
       "      <th>r_z_7</th>\n",
       "      <th>r_x_8</th>\n",
       "      <th>r_y_8</th>\n",
       "      <th>r_z_8</th>\n",
       "      <th>r_x_9</th>\n",
       "      <th>r_y_9</th>\n",
       "      <th>r_z_9</th>\n",
       "    </tr>\n",
       "  </thead>\n",
       "  <tbody>\n",
       "    <tr>\n",
       "      <th>0</th>\n",
       "      <td>1567330</td>\n",
       "      <td>50893</td>\n",
       "      <td>10</td>\n",
       "      <td>1</td>\n",
       "      <td>140.645004</td>\n",
       "      <td>0.634779</td>\n",
       "      <td>-0.462826</td>\n",
       "      <td>-0.739286</td>\n",
       "      <td>-0.133810</td>\n",
       "      <td>0.038041</td>\n",
       "      <td>-0.150691</td>\n",
       "      <td>0.250485</td>\n",
       "      <td>-0.212392</td>\n",
       "      <td>-0.444989</td>\n",
       "      <td>7</td>\n",
       "      <td>8</td>\n",
       "      <td>1</td>\n",
       "      <td>6</td>\n",
       "      <td>8</td>\n",
       "      <td>7</td>\n",
       "      <td>1</td>\n",
       "      <td>1</td>\n",
       "      <td>-0.256479</td>\n",
       "      <td>-1.090539</td>\n",
       "      <td>0.509465</td>\n",
       "      <td>-0.941471</td>\n",
       "      <td>-0.039216</td>\n",
       "      <td>-1.970939</td>\n",
       "      <td>-2.699512</td>\n",
       "      <td>-1.220216</td>\n",
       "      <td>1.252988</td>\n",
       "      <td>-0.831051</td>\n",
       "      <td>1.787187</td>\n",
       "      <td>-2.158229</td>\n",
       "      <td>-2.629475</td>\n",
       "      <td>-2.850358</td>\n",
       "      <td>-2.328591</td>\n",
       "      <td>-4.609975</td>\n",
       "      <td>0.143031</td>\n",
       "      <td>0.318055</td>\n",
       "      <td>-0.264027</td>\n",
       "      <td>0.003972</td>\n",
       "      <td>-0.643397</td>\n",
       "      <td>0.563172</td>\n",
       "      <td>1.023855</td>\n",
       "      <td>-0.179480</td>\n",
       "      <td>0.705145</td>\n",
       "      <td>-0.459522</td>\n",
       "      <td>-0.540008</td>\n",
       "      <td>0.459768</td>\n",
       "      <td>0.876096</td>\n",
       "      <td>-0.145150</td>\n",
       "      <td>0.539799</td>\n",
       "      <td>-0.145927</td>\n",
       "      <td>0.829049</td>\n",
       "      <td>-0.544986</td>\n",
       "      <td>8.690331e-09</td>\n",
       "      <td>-1.344103e-08</td>\n",
       "      <td>-1.348394</td>\n",
       "      <td>0.965377</td>\n",
       "      <td>1.665335e-16</td>\n",
       "      <td>-1.073379</td>\n",
       "      <td>-1.269321</td>\n",
       "      <td>-0.001004</td>\n",
       "      <td>-0.833953</td>\n",
       "      <td>1.844628</td>\n",
       "      <td>-0.001969</td>\n",
       "      <td>-0.188789</td>\n",
       "      <td>-2.317930</td>\n",
       "      <td>0.012743</td>\n",
       "      <td>1.013565</td>\n",
       "      <td>-2.221993</td>\n",
       "      <td>0.031846</td>\n",
       "      <td>-0.898638</td>\n",
       "      <td>-3.478787</td>\n",
       "      <td>0.021642</td>\n",
       "      <td>-1.900923</td>\n",
       "      <td>-3.423511</td>\n",
       "      <td>-0.065852</td>\n",
       "      <td>0.840353</td>\n",
       "      <td>-4.567426</td>\n",
       "      <td>0.067962</td>\n",
       "    </tr>\n",
       "    <tr>\n",
       "      <th>1</th>\n",
       "      <td>1567340</td>\n",
       "      <td>50893</td>\n",
       "      <td>12</td>\n",
       "      <td>6</td>\n",
       "      <td>103.942001</td>\n",
       "      <td>-1.220216</td>\n",
       "      <td>-4.609975</td>\n",
       "      <td>-0.179480</td>\n",
       "      <td>-2.127082</td>\n",
       "      <td>-4.268234</td>\n",
       "      <td>0.327516</td>\n",
       "      <td>-1.673649</td>\n",
       "      <td>-4.439105</td>\n",
       "      <td>0.074018</td>\n",
       "      <td>1</td>\n",
       "      <td>7</td>\n",
       "      <td>6</td>\n",
       "      <td>6</td>\n",
       "      <td>1</td>\n",
       "      <td>8</td>\n",
       "      <td>7</td>\n",
       "      <td>8</td>\n",
       "      <td>-2.210247</td>\n",
       "      <td>-1.970939</td>\n",
       "      <td>-3.300507</td>\n",
       "      <td>-0.941471</td>\n",
       "      <td>-2.699512</td>\n",
       "      <td>-0.039216</td>\n",
       "      <td>-4.236725</td>\n",
       "      <td>-1.090539</td>\n",
       "      <td>-4.815596</td>\n",
       "      <td>-2.850358</td>\n",
       "      <td>-4.583531</td>\n",
       "      <td>-2.158229</td>\n",
       "      <td>-2.328591</td>\n",
       "      <td>-2.629475</td>\n",
       "      <td>-4.827504</td>\n",
       "      <td>-0.831051</td>\n",
       "      <td>1.273320</td>\n",
       "      <td>0.563172</td>\n",
       "      <td>-0.501114</td>\n",
       "      <td>0.003972</td>\n",
       "      <td>1.023855</td>\n",
       "      <td>-0.643397</td>\n",
       "      <td>-1.131620</td>\n",
       "      <td>0.318055</td>\n",
       "      <td>0.829152</td>\n",
       "      <td>-0.312455</td>\n",
       "      <td>-0.463550</td>\n",
       "      <td>0.187651</td>\n",
       "      <td>-0.625536</td>\n",
       "      <td>0.757293</td>\n",
       "      <td>-0.526587</td>\n",
       "      <td>-0.714896</td>\n",
       "      <td>-0.460032</td>\n",
       "      <td>-0.546864</td>\n",
       "      <td>-3.206483e-07</td>\n",
       "      <td>-2.781151e-07</td>\n",
       "      <td>-0.883221</td>\n",
       "      <td>1.043038</td>\n",
       "      <td>-1.110223e-16</td>\n",
       "      <td>-0.969658</td>\n",
       "      <td>-0.679172</td>\n",
       "      <td>-1.204267</td>\n",
       "      <td>-1.037184</td>\n",
       "      <td>-0.650480</td>\n",
       "      <td>1.224511</td>\n",
       "      <td>-0.073115</td>\n",
       "      <td>-1.342422</td>\n",
       "      <td>-1.983922</td>\n",
       "      <td>-1.950334</td>\n",
       "      <td>-0.793401</td>\n",
       "      <td>-1.405548</td>\n",
       "      <td>1.122323</td>\n",
       "      <td>-1.368580</td>\n",
       "      <td>-1.824335</td>\n",
       "      <td>-1.444950</td>\n",
       "      <td>-1.151026</td>\n",
       "      <td>2.181979</td>\n",
       "      <td>-0.756991</td>\n",
       "      <td>-1.962738</td>\n",
       "      <td>-2.998708</td>\n",
       "    </tr>\n",
       "    <tr>\n",
       "      <th>2</th>\n",
       "      <td>1567346</td>\n",
       "      <td>50893</td>\n",
       "      <td>13</td>\n",
       "      <td>6</td>\n",
       "      <td>92.774101</td>\n",
       "      <td>-2.210247</td>\n",
       "      <td>-4.815596</td>\n",
       "      <td>1.273320</td>\n",
       "      <td>-2.127082</td>\n",
       "      <td>-4.268234</td>\n",
       "      <td>0.327516</td>\n",
       "      <td>-2.168664</td>\n",
       "      <td>-4.541915</td>\n",
       "      <td>0.800418</td>\n",
       "      <td>1</td>\n",
       "      <td>7</td>\n",
       "      <td>6</td>\n",
       "      <td>1</td>\n",
       "      <td>6</td>\n",
       "      <td>7</td>\n",
       "      <td>8</td>\n",
       "      <td>8</td>\n",
       "      <td>-1.220216</td>\n",
       "      <td>-1.970939</td>\n",
       "      <td>-3.300507</td>\n",
       "      <td>-2.699512</td>\n",
       "      <td>-0.941471</td>\n",
       "      <td>-4.236725</td>\n",
       "      <td>-0.039216</td>\n",
       "      <td>-1.090539</td>\n",
       "      <td>-4.609975</td>\n",
       "      <td>-2.850358</td>\n",
       "      <td>-4.583531</td>\n",
       "      <td>-2.328591</td>\n",
       "      <td>-2.158229</td>\n",
       "      <td>-4.827504</td>\n",
       "      <td>-2.629475</td>\n",
       "      <td>-0.831051</td>\n",
       "      <td>-0.179480</td>\n",
       "      <td>0.563172</td>\n",
       "      <td>-0.501114</td>\n",
       "      <td>1.023855</td>\n",
       "      <td>0.003972</td>\n",
       "      <td>-1.131620</td>\n",
       "      <td>-0.643397</td>\n",
       "      <td>0.318055</td>\n",
       "      <td>-0.075885</td>\n",
       "      <td>-0.499449</td>\n",
       "      <td>0.863014</td>\n",
       "      <td>0.846727</td>\n",
       "      <td>-0.489362</td>\n",
       "      <td>-0.208753</td>\n",
       "      <td>0.526587</td>\n",
       "      <td>0.714896</td>\n",
       "      <td>0.460032</td>\n",
       "      <td>-0.547966</td>\n",
       "      <td>-2.080969e-07</td>\n",
       "      <td>-1.118382e-07</td>\n",
       "      <td>-0.883646</td>\n",
       "      <td>1.040940</td>\n",
       "      <td>-1.110223e-16</td>\n",
       "      <td>-1.064597</td>\n",
       "      <td>-0.610838</td>\n",
       "      <td>1.204266</td>\n",
       "      <td>-1.016565</td>\n",
       "      <td>-0.666298</td>\n",
       "      <td>-1.224512</td>\n",
       "      <td>-0.872329</td>\n",
       "      <td>-1.579242</td>\n",
       "      <td>1.405547</td>\n",
       "      <td>-1.970999</td>\n",
       "      <td>0.038874</td>\n",
       "      <td>1.983921</td>\n",
       "      <td>-1.367803</td>\n",
       "      <td>-1.208008</td>\n",
       "      <td>-2.181981</td>\n",
       "      <td>-2.362792</td>\n",
       "      <td>1.168588</td>\n",
       "      <td>1.824335</td>\n",
       "      <td>-2.351486</td>\n",
       "      <td>-0.802381</td>\n",
       "      <td>2.998706</td>\n",
       "    </tr>\n",
       "  </tbody>\n",
       "</table>\n",
       "</div>"
      ],
      "text/plain": [
       "        id  molecule_index  atom_index_0  atom_index_1  \\\n",
       "0  1567330  50893           10            1              \n",
       "1  1567340  50893           12            6              \n",
       "2  1567346  50893           13            6              \n",
       "\n",
       "   scalar_coupling_constant       x_0       y_0       z_0       x_1       y_1  \\\n",
       "0  140.645004                0.634779 -0.462826 -0.739286 -0.133810  0.038041   \n",
       "1  103.942001               -1.220216 -4.609975 -0.179480 -2.127082 -4.268234   \n",
       "2  92.774101                -2.210247 -4.815596  1.273320 -2.127082 -4.268234   \n",
       "\n",
       "        z_1       x_c       y_c       z_c  atom_2  atom_3  atom_4  atom_5  \\\n",
       "0 -0.150691  0.250485 -0.212392 -0.444989  7       8       1       6        \n",
       "1  0.327516 -1.673649 -4.439105  0.074018  1       7       6       6        \n",
       "2  0.327516 -2.168664 -4.541915  0.800418  1       7       6       1        \n",
       "\n",
       "   atom_6  atom_7  atom_8  atom_9       x_2       x_3       x_4       x_5  \\\n",
       "0  8       7       1       1      -0.256479 -1.090539  0.509465 -0.941471   \n",
       "1  1       8       7       8      -2.210247 -1.970939 -3.300507 -0.941471   \n",
       "2  6       7       8       8      -1.220216 -1.970939 -3.300507 -2.699512   \n",
       "\n",
       "        x_6       x_7       x_8       x_9       y_2       y_3       y_4  \\\n",
       "0 -0.039216 -1.970939 -2.699512 -1.220216  1.252988 -0.831051  1.787187   \n",
       "1 -2.699512 -0.039216 -4.236725 -1.090539 -4.815596 -2.850358 -4.583531   \n",
       "2 -0.941471 -4.236725 -0.039216 -1.090539 -4.609975 -2.850358 -4.583531   \n",
       "\n",
       "        y_5       y_6       y_7       y_8       y_9       z_2       z_3  \\\n",
       "0 -2.158229 -2.629475 -2.850358 -2.328591 -4.609975  0.143031  0.318055   \n",
       "1 -2.158229 -2.328591 -2.629475 -4.827504 -0.831051  1.273320  0.563172   \n",
       "2 -2.328591 -2.158229 -4.827504 -2.629475 -0.831051 -0.179480  0.563172   \n",
       "\n",
       "        z_4       z_5       z_6       z_7       z_8       z_9      ax_x  \\\n",
       "0 -0.264027  0.003972 -0.643397  0.563172  1.023855 -0.179480  0.705145   \n",
       "1 -0.501114  0.003972  1.023855 -0.643397 -1.131620  0.318055  0.829152   \n",
       "2 -0.501114  1.023855  0.003972 -1.131620 -0.643397  0.318055 -0.075885   \n",
       "\n",
       "       ax_y      ax_z      ay_x      ay_y      ay_z      az_x      az_y  \\\n",
       "0 -0.459522 -0.540008  0.459768  0.876096 -0.145150  0.539799 -0.145927   \n",
       "1 -0.312455 -0.463550  0.187651 -0.625536  0.757293 -0.526587 -0.714896   \n",
       "2 -0.499449  0.863014  0.846727 -0.489362 -0.208753  0.526587  0.714896   \n",
       "\n",
       "       az_z     r_x_1         r_y_1         r_z_1     r_x_2     r_y_2  \\\n",
       "0  0.829049 -0.544986  8.690331e-09 -1.344103e-08 -1.348394  0.965377   \n",
       "1 -0.460032 -0.546864 -3.206483e-07 -2.781151e-07 -0.883221  1.043038   \n",
       "2  0.460032 -0.547966 -2.080969e-07 -1.118382e-07 -0.883646  1.040940   \n",
       "\n",
       "          r_z_2     r_x_3     r_y_3     r_z_3     r_x_4     r_y_4     r_z_4  \\\n",
       "0  1.665335e-16 -1.073379 -1.269321 -0.001004 -0.833953  1.844628 -0.001969   \n",
       "1 -1.110223e-16 -0.969658 -0.679172 -1.204267 -1.037184 -0.650480  1.224511   \n",
       "2 -1.110223e-16 -1.064597 -0.610838  1.204266 -1.016565 -0.666298 -1.224512   \n",
       "\n",
       "      r_x_5     r_y_5     r_z_5     r_x_6     r_y_6     r_z_6     r_x_7  \\\n",
       "0 -0.188789 -2.317930  0.012743  1.013565 -2.221993  0.031846 -0.898638   \n",
       "1 -0.073115 -1.342422 -1.983922 -1.950334 -0.793401 -1.405548  1.122323   \n",
       "2 -0.872329 -1.579242  1.405547 -1.970999  0.038874  1.983921 -1.367803   \n",
       "\n",
       "      r_y_7     r_z_7     r_x_8     r_y_8     r_z_8     r_x_9     r_y_9  \\\n",
       "0 -3.478787  0.021642 -1.900923 -3.423511 -0.065852  0.840353 -4.567426   \n",
       "1 -1.368580 -1.824335 -1.444950 -1.151026  2.181979 -0.756991 -1.962738   \n",
       "2 -1.208008 -2.181981 -2.362792  1.168588  1.824335 -2.351486 -0.802381   \n",
       "\n",
       "      r_z_9  \n",
       "0  0.067962  \n",
       "1 -2.998708  \n",
       "2  2.998706  "
      ]
     },
     "execution_count": 173,
     "metadata": {},
     "output_type": "execute_result"
    }
   ],
   "source": [
    "%%time\n",
    "molecule_index = 50893\n",
    "some_csv = train_csv[train_csv.molecule_index == molecule_index]\n",
    "#some_csv = train_csv #[:6000]\n",
    "coupling_type = '1JHC'\n",
    "n_atoms = 10\n",
    "full = build_couple_dataframe(some_csv, structures_csv, coupling_type, n_atoms)\n",
    "full.head()"
   ]
  },
  {
   "cell_type": "markdown",
   "metadata": {},
   "source": [
    "## Break!!!!!!!!!!!!!!!!!!!!!!!!!!!!!\n"
   ]
  },
  {
   "cell_type": "code",
   "execution_count": 174,
   "metadata": {},
   "outputs": [],
   "source": [
    "#aaaa"
   ]
  },
  {
   "cell_type": "markdown",
   "metadata": {},
   "source": [
    "## New heading"
   ]
  },
  {
   "cell_type": "code",
   "execution_count": 175,
   "metadata": {},
   "outputs": [
    {
     "ename": "KeyboardInterrupt",
     "evalue": "",
     "output_type": "error",
     "traceback": [
      "\u001b[1;31m---------------------------------------------------------------------------\u001b[0m",
      "\u001b[1;31mKeyboardInterrupt\u001b[0m                         Traceback (most recent call last)",
      "\u001b[1;32m<timed exec>\u001b[0m in \u001b[0;36m<module>\u001b[1;34m\u001b[0m\n",
      "\u001b[1;32m<ipython-input-172-4fa51136bbf4>\u001b[0m in \u001b[0;36mbuild_couple_dataframe\u001b[1;34m(some_csv, structures_csv, coupling_type, n_atoms)\u001b[0m\n\u001b[0;32m     83\u001b[0m     \u001b[0mbase\u001b[0m \u001b[1;33m=\u001b[0m \u001b[0mbase\u001b[0m\u001b[1;33m.\u001b[0m\u001b[0mdrop\u001b[0m\u001b[1;33m(\u001b[0m\u001b[1;33m[\u001b[0m\u001b[1;34m'atom_0'\u001b[0m\u001b[1;33m,\u001b[0m \u001b[1;34m'atom_1'\u001b[0m\u001b[1;33m]\u001b[0m\u001b[1;33m,\u001b[0m \u001b[0maxis\u001b[0m\u001b[1;33m=\u001b[0m\u001b[1;36m1\u001b[0m\u001b[1;33m)\u001b[0m\u001b[1;33m\u001b[0m\u001b[1;33m\u001b[0m\u001b[0m\n\u001b[0;32m     84\u001b[0m \u001b[1;33m\u001b[0m\u001b[0m\n\u001b[1;32m---> 85\u001b[1;33m     \u001b[0matoms\u001b[0m \u001b[1;33m=\u001b[0m \u001b[0mbuild_atoms\u001b[0m\u001b[1;33m(\u001b[0m\u001b[0mbase\u001b[0m\u001b[1;33m,\u001b[0m \u001b[0mstructures\u001b[0m\u001b[1;33m,\u001b[0m \u001b[0mn_atoms\u001b[0m\u001b[1;33m)\u001b[0m\u001b[1;33m\u001b[0m\u001b[1;33m\u001b[0m\u001b[0m\n\u001b[0m\u001b[0;32m     86\u001b[0m     \u001b[0mdf\u001b[0m \u001b[1;33m=\u001b[0m \u001b[0madd_atoms\u001b[0m\u001b[1;33m(\u001b[0m\u001b[0mbase\u001b[0m\u001b[1;33m,\u001b[0m \u001b[0matoms\u001b[0m\u001b[1;33m)\u001b[0m\u001b[1;33m\u001b[0m\u001b[1;33m\u001b[0m\u001b[0m\n\u001b[0;32m     87\u001b[0m \u001b[1;33m\u001b[0m\u001b[0m\n",
      "\u001b[1;32m<ipython-input-171-7a7908b7c0b4>\u001b[0m in \u001b[0;36mbuild_atoms\u001b[1;34m(base_from, structures_from, n_atoms)\u001b[0m\n\u001b[0;32m     19\u001b[0m     \u001b[0madd_distance_to_center\u001b[0m\u001b[1;33m(\u001b[0m\u001b[0matoms\u001b[0m\u001b[1;33m)\u001b[0m\u001b[1;33m\u001b[0m\u001b[1;33m\u001b[0m\u001b[0m\n\u001b[0;32m     20\u001b[0m \u001b[1;33m\u001b[0m\u001b[0m\n\u001b[1;32m---> 21\u001b[1;33m     \u001b[0matoms\u001b[0m\u001b[1;33m.\u001b[0m\u001b[0msort_values\u001b[0m\u001b[1;33m(\u001b[0m\u001b[1;33m[\u001b[0m\u001b[1;34m'molecule_index'\u001b[0m\u001b[1;33m,\u001b[0m \u001b[1;34m'atom_index_0'\u001b[0m\u001b[1;33m,\u001b[0m \u001b[1;34m'atom_index_1'\u001b[0m\u001b[1;33m,\u001b[0m \u001b[1;34m'd_c'\u001b[0m\u001b[1;33m]\u001b[0m\u001b[1;33m,\u001b[0m \u001b[0minplace\u001b[0m\u001b[1;33m=\u001b[0m\u001b[1;32mTrue\u001b[0m\u001b[1;33m)\u001b[0m\u001b[1;33m\u001b[0m\u001b[1;33m\u001b[0m\u001b[0m\n\u001b[0m\u001b[0;32m     22\u001b[0m     \u001b[0matom_groups\u001b[0m \u001b[1;33m=\u001b[0m \u001b[0matoms\u001b[0m\u001b[1;33m.\u001b[0m\u001b[0mgroupby\u001b[0m\u001b[1;33m(\u001b[0m\u001b[1;33m[\u001b[0m\u001b[1;34m'molecule_index'\u001b[0m\u001b[1;33m,\u001b[0m \u001b[1;34m'atom_index_0'\u001b[0m\u001b[1;33m,\u001b[0m \u001b[1;34m'atom_index_1'\u001b[0m\u001b[1;33m]\u001b[0m\u001b[1;33m)\u001b[0m\u001b[1;33m\u001b[0m\u001b[1;33m\u001b[0m\u001b[0m\n\u001b[0;32m     23\u001b[0m     \u001b[0matoms\u001b[0m\u001b[1;33m[\u001b[0m\u001b[1;34m'num'\u001b[0m\u001b[1;33m]\u001b[0m \u001b[1;33m=\u001b[0m \u001b[0matom_groups\u001b[0m\u001b[1;33m.\u001b[0m\u001b[0mcumcount\u001b[0m\u001b[1;33m(\u001b[0m\u001b[1;33m)\u001b[0m \u001b[1;33m+\u001b[0m \u001b[1;36m2\u001b[0m\u001b[1;33m\u001b[0m\u001b[1;33m\u001b[0m\u001b[0m\n",
      "\u001b[1;32mC:\\ProgramFiles\\Anaconda\\lib\\site-packages\\pandas\\core\\frame.py\u001b[0m in \u001b[0;36msort_values\u001b[1;34m(self, by, axis, ascending, inplace, kind, na_position)\u001b[0m\n\u001b[0;32m   4711\u001b[0m                     for x in by]\n\u001b[0;32m   4712\u001b[0m             indexer = lexsort_indexer(keys, orders=ascending,\n\u001b[1;32m-> 4713\u001b[1;33m                                       na_position=na_position)\n\u001b[0m\u001b[0;32m   4714\u001b[0m             \u001b[0mindexer\u001b[0m \u001b[1;33m=\u001b[0m \u001b[0mensure_platform_int\u001b[0m\u001b[1;33m(\u001b[0m\u001b[0mindexer\u001b[0m\u001b[1;33m)\u001b[0m\u001b[1;33m\u001b[0m\u001b[1;33m\u001b[0m\u001b[0m\n\u001b[0;32m   4715\u001b[0m         \u001b[1;32melse\u001b[0m\u001b[1;33m:\u001b[0m\u001b[1;33m\u001b[0m\u001b[1;33m\u001b[0m\u001b[0m\n",
      "\u001b[1;32mC:\\ProgramFiles\\Anaconda\\lib\\site-packages\\pandas\\core\\sorting.py\u001b[0m in \u001b[0;36mlexsort_indexer\u001b[1;34m(keys, orders, na_position)\u001b[0m\n\u001b[0;32m    205\u001b[0m         \u001b[1;31m# create the Categorical\u001b[0m\u001b[1;33m\u001b[0m\u001b[1;33m\u001b[0m\u001b[1;33m\u001b[0m\u001b[0m\n\u001b[0;32m    206\u001b[0m         \u001b[1;32melse\u001b[0m\u001b[1;33m:\u001b[0m\u001b[1;33m\u001b[0m\u001b[1;33m\u001b[0m\u001b[0m\n\u001b[1;32m--> 207\u001b[1;33m             \u001b[0mc\u001b[0m \u001b[1;33m=\u001b[0m \u001b[0mCategorical\u001b[0m\u001b[1;33m(\u001b[0m\u001b[0mkey\u001b[0m\u001b[1;33m,\u001b[0m \u001b[0mordered\u001b[0m\u001b[1;33m=\u001b[0m\u001b[1;32mTrue\u001b[0m\u001b[1;33m)\u001b[0m\u001b[1;33m\u001b[0m\u001b[1;33m\u001b[0m\u001b[0m\n\u001b[0m\u001b[0;32m    208\u001b[0m \u001b[1;33m\u001b[0m\u001b[0m\n\u001b[0;32m    209\u001b[0m         \u001b[1;32mif\u001b[0m \u001b[0mna_position\u001b[0m \u001b[1;32mnot\u001b[0m \u001b[1;32min\u001b[0m \u001b[1;33m[\u001b[0m\u001b[1;34m'last'\u001b[0m\u001b[1;33m,\u001b[0m \u001b[1;34m'first'\u001b[0m\u001b[1;33m]\u001b[0m\u001b[1;33m:\u001b[0m\u001b[1;33m\u001b[0m\u001b[1;33m\u001b[0m\u001b[0m\n",
      "\u001b[1;32mC:\\ProgramFiles\\Anaconda\\lib\\site-packages\\pandas\\core\\arrays\\categorical.py\u001b[0m in \u001b[0;36m__init__\u001b[1;34m(self, values, categories, ordered, dtype, fastpath)\u001b[0m\n\u001b[0;32m    356\u001b[0m         \u001b[1;32mif\u001b[0m \u001b[0mdtype\u001b[0m\u001b[1;33m.\u001b[0m\u001b[0mcategories\u001b[0m \u001b[1;32mis\u001b[0m \u001b[1;32mNone\u001b[0m\u001b[1;33m:\u001b[0m\u001b[1;33m\u001b[0m\u001b[1;33m\u001b[0m\u001b[0m\n\u001b[0;32m    357\u001b[0m             \u001b[1;32mtry\u001b[0m\u001b[1;33m:\u001b[0m\u001b[1;33m\u001b[0m\u001b[1;33m\u001b[0m\u001b[0m\n\u001b[1;32m--> 358\u001b[1;33m                 \u001b[0mcodes\u001b[0m\u001b[1;33m,\u001b[0m \u001b[0mcategories\u001b[0m \u001b[1;33m=\u001b[0m \u001b[0mfactorize\u001b[0m\u001b[1;33m(\u001b[0m\u001b[0mvalues\u001b[0m\u001b[1;33m,\u001b[0m \u001b[0msort\u001b[0m\u001b[1;33m=\u001b[0m\u001b[1;32mTrue\u001b[0m\u001b[1;33m)\u001b[0m\u001b[1;33m\u001b[0m\u001b[1;33m\u001b[0m\u001b[0m\n\u001b[0m\u001b[0;32m    359\u001b[0m             \u001b[1;32mexcept\u001b[0m \u001b[0mTypeError\u001b[0m\u001b[1;33m:\u001b[0m\u001b[1;33m\u001b[0m\u001b[1;33m\u001b[0m\u001b[0m\n\u001b[0;32m    360\u001b[0m                 \u001b[0mcodes\u001b[0m\u001b[1;33m,\u001b[0m \u001b[0mcategories\u001b[0m \u001b[1;33m=\u001b[0m \u001b[0mfactorize\u001b[0m\u001b[1;33m(\u001b[0m\u001b[0mvalues\u001b[0m\u001b[1;33m,\u001b[0m \u001b[0msort\u001b[0m\u001b[1;33m=\u001b[0m\u001b[1;32mFalse\u001b[0m\u001b[1;33m)\u001b[0m\u001b[1;33m\u001b[0m\u001b[1;33m\u001b[0m\u001b[0m\n",
      "\u001b[1;32mC:\\ProgramFiles\\Anaconda\\lib\\site-packages\\pandas\\util\\_decorators.py\u001b[0m in \u001b[0;36mwrapper\u001b[1;34m(*args, **kwargs)\u001b[0m\n\u001b[0;32m    186\u001b[0m                 \u001b[1;32melse\u001b[0m\u001b[1;33m:\u001b[0m\u001b[1;33m\u001b[0m\u001b[1;33m\u001b[0m\u001b[0m\n\u001b[0;32m    187\u001b[0m                     \u001b[0mkwargs\u001b[0m\u001b[1;33m[\u001b[0m\u001b[0mnew_arg_name\u001b[0m\u001b[1;33m]\u001b[0m \u001b[1;33m=\u001b[0m \u001b[0mnew_arg_value\u001b[0m\u001b[1;33m\u001b[0m\u001b[1;33m\u001b[0m\u001b[0m\n\u001b[1;32m--> 188\u001b[1;33m             \u001b[1;32mreturn\u001b[0m \u001b[0mfunc\u001b[0m\u001b[1;33m(\u001b[0m\u001b[1;33m*\u001b[0m\u001b[0margs\u001b[0m\u001b[1;33m,\u001b[0m \u001b[1;33m**\u001b[0m\u001b[0mkwargs\u001b[0m\u001b[1;33m)\u001b[0m\u001b[1;33m\u001b[0m\u001b[1;33m\u001b[0m\u001b[0m\n\u001b[0m\u001b[0;32m    189\u001b[0m         \u001b[1;32mreturn\u001b[0m \u001b[0mwrapper\u001b[0m\u001b[1;33m\u001b[0m\u001b[1;33m\u001b[0m\u001b[0m\n\u001b[0;32m    190\u001b[0m     \u001b[1;32mreturn\u001b[0m \u001b[0m_deprecate_kwarg\u001b[0m\u001b[1;33m\u001b[0m\u001b[1;33m\u001b[0m\u001b[0m\n",
      "\u001b[1;32mC:\\ProgramFiles\\Anaconda\\lib\\site-packages\\pandas\\core\\algorithms.py\u001b[0m in \u001b[0;36mfactorize\u001b[1;34m(values, sort, order, na_sentinel, size_hint)\u001b[0m\n\u001b[0;32m    620\u001b[0m                 \u001b[0morder\u001b[0m \u001b[1;33m=\u001b[0m \u001b[0muniques\u001b[0m\u001b[1;33m.\u001b[0m\u001b[0margsort\u001b[0m\u001b[1;33m(\u001b[0m\u001b[1;33m)\u001b[0m\u001b[1;33m\u001b[0m\u001b[1;33m\u001b[0m\u001b[0m\n\u001b[0;32m    621\u001b[0m                 \u001b[0morder2\u001b[0m \u001b[1;33m=\u001b[0m \u001b[0morder\u001b[0m\u001b[1;33m.\u001b[0m\u001b[0margsort\u001b[0m\u001b[1;33m(\u001b[0m\u001b[1;33m)\u001b[0m\u001b[1;33m\u001b[0m\u001b[1;33m\u001b[0m\u001b[0m\n\u001b[1;32m--> 622\u001b[1;33m                 \u001b[0mlabels\u001b[0m \u001b[1;33m=\u001b[0m \u001b[0mtake_1d\u001b[0m\u001b[1;33m(\u001b[0m\u001b[0morder2\u001b[0m\u001b[1;33m,\u001b[0m \u001b[0mlabels\u001b[0m\u001b[1;33m,\u001b[0m \u001b[0mfill_value\u001b[0m\u001b[1;33m=\u001b[0m\u001b[0mna_sentinel\u001b[0m\u001b[1;33m)\u001b[0m\u001b[1;33m\u001b[0m\u001b[1;33m\u001b[0m\u001b[0m\n\u001b[0m\u001b[0;32m    623\u001b[0m                 \u001b[0muniques\u001b[0m \u001b[1;33m=\u001b[0m \u001b[0muniques\u001b[0m\u001b[1;33m.\u001b[0m\u001b[0mtake\u001b[0m\u001b[1;33m(\u001b[0m\u001b[0morder\u001b[0m\u001b[1;33m)\u001b[0m\u001b[1;33m\u001b[0m\u001b[1;33m\u001b[0m\u001b[0m\n\u001b[0;32m    624\u001b[0m             \u001b[1;32mexcept\u001b[0m \u001b[0mTypeError\u001b[0m\u001b[1;33m:\u001b[0m\u001b[1;33m\u001b[0m\u001b[1;33m\u001b[0m\u001b[0m\n",
      "\u001b[1;32mC:\\ProgramFiles\\Anaconda\\lib\\site-packages\\pandas\\core\\algorithms.py\u001b[0m in \u001b[0;36mtake_nd\u001b[1;34m(arr, indexer, axis, out, fill_value, mask_info, allow_fill)\u001b[0m\n\u001b[0;32m   1653\u001b[0m     func = _get_take_nd_function(arr.ndim, arr.dtype, out.dtype, axis=axis,\n\u001b[0;32m   1654\u001b[0m                                  mask_info=mask_info)\n\u001b[1;32m-> 1655\u001b[1;33m     \u001b[0mfunc\u001b[0m\u001b[1;33m(\u001b[0m\u001b[0marr\u001b[0m\u001b[1;33m,\u001b[0m \u001b[0mindexer\u001b[0m\u001b[1;33m,\u001b[0m \u001b[0mout\u001b[0m\u001b[1;33m,\u001b[0m \u001b[0mfill_value\u001b[0m\u001b[1;33m)\u001b[0m\u001b[1;33m\u001b[0m\u001b[1;33m\u001b[0m\u001b[0m\n\u001b[0m\u001b[0;32m   1656\u001b[0m \u001b[1;33m\u001b[0m\u001b[0m\n\u001b[0;32m   1657\u001b[0m     \u001b[1;32mif\u001b[0m \u001b[0mflip_order\u001b[0m\u001b[1;33m:\u001b[0m\u001b[1;33m\u001b[0m\u001b[1;33m\u001b[0m\u001b[0m\n",
      "\u001b[1;31mKeyboardInterrupt\u001b[0m: "
     ]
    }
   ],
   "source": [
    "%%time\n",
    "full = build_couple_dataframe(train_csv, structures_csv, '1JHC', n_atoms=10)\n",
    "full.head()"
   ]
  },
  {
   "cell_type": "code",
   "execution_count": 176,
   "metadata": {},
   "outputs": [],
   "source": [
    "def take_n_atoms(df, n_atoms, four_start=4):\n",
    "    labels = []\n",
    "    for i in range(2, n_atoms):\n",
    "        label = f'atom_{i}'\n",
    "        labels.append(label)\n",
    "\n",
    "    for i in range(1, n_atoms):\n",
    "        labels.append(f'r_x_{i}')\n",
    "    for i in range(2, n_atoms):\n",
    "        labels.append(f'r_y_{i}')\n",
    "    for i in range(3, n_atoms):\n",
    "        labels.append(f'r_z_{i}')\n",
    "    if 'scalar_coupling_constant' in df:\n",
    "        labels.append('scalar_coupling_constant')\n",
    "    output = df[labels]\n",
    "    #atoms_names = list([col for col in output if col.startswith('atom_')])[2:]\n",
    "    #output = output.drop(atoms_names, axis=1)\n",
    "    return output"
   ]
  },
  {
   "cell_type": "code",
   "execution_count": 177,
   "metadata": {},
   "outputs": [
    {
     "data": {
      "text/html": [
       "<div>\n",
       "<style scoped>\n",
       "    .dataframe tbody tr th:only-of-type {\n",
       "        vertical-align: middle;\n",
       "    }\n",
       "\n",
       "    .dataframe tbody tr th {\n",
       "        vertical-align: top;\n",
       "    }\n",
       "\n",
       "    .dataframe thead th {\n",
       "        text-align: right;\n",
       "    }\n",
       "</style>\n",
       "<table border=\"1\" class=\"dataframe\">\n",
       "  <thead>\n",
       "    <tr style=\"text-align: right;\">\n",
       "      <th></th>\n",
       "      <th>atom_2</th>\n",
       "      <th>atom_3</th>\n",
       "      <th>atom_4</th>\n",
       "      <th>atom_5</th>\n",
       "      <th>atom_6</th>\n",
       "      <th>atom_7</th>\n",
       "      <th>atom_8</th>\n",
       "      <th>atom_9</th>\n",
       "      <th>r_x_1</th>\n",
       "      <th>r_x_2</th>\n",
       "      <th>r_x_3</th>\n",
       "      <th>r_x_4</th>\n",
       "      <th>r_x_5</th>\n",
       "      <th>r_x_6</th>\n",
       "      <th>r_x_7</th>\n",
       "      <th>r_x_8</th>\n",
       "      <th>r_x_9</th>\n",
       "      <th>r_y_2</th>\n",
       "      <th>r_y_3</th>\n",
       "      <th>r_y_4</th>\n",
       "      <th>r_y_5</th>\n",
       "      <th>r_y_6</th>\n",
       "      <th>r_y_7</th>\n",
       "      <th>r_y_8</th>\n",
       "      <th>r_y_9</th>\n",
       "      <th>r_z_3</th>\n",
       "      <th>r_z_4</th>\n",
       "      <th>r_z_5</th>\n",
       "      <th>r_z_6</th>\n",
       "      <th>r_z_7</th>\n",
       "      <th>r_z_8</th>\n",
       "      <th>r_z_9</th>\n",
       "      <th>scalar_coupling_constant</th>\n",
       "    </tr>\n",
       "  </thead>\n",
       "  <tbody>\n",
       "    <tr>\n",
       "      <th>0</th>\n",
       "      <td>7</td>\n",
       "      <td>8</td>\n",
       "      <td>1</td>\n",
       "      <td>6</td>\n",
       "      <td>8</td>\n",
       "      <td>7</td>\n",
       "      <td>1</td>\n",
       "      <td>1</td>\n",
       "      <td>-0.544986</td>\n",
       "      <td>-1.348394</td>\n",
       "      <td>-1.073379</td>\n",
       "      <td>-0.833953</td>\n",
       "      <td>-0.188789</td>\n",
       "      <td>1.013565</td>\n",
       "      <td>-0.898638</td>\n",
       "      <td>-1.900923</td>\n",
       "      <td>0.840353</td>\n",
       "      <td>0.965377</td>\n",
       "      <td>-1.269321</td>\n",
       "      <td>1.844628</td>\n",
       "      <td>-2.317930</td>\n",
       "      <td>-2.221993</td>\n",
       "      <td>-3.478787</td>\n",
       "      <td>-3.423511</td>\n",
       "      <td>-4.567426</td>\n",
       "      <td>-0.001004</td>\n",
       "      <td>-0.001969</td>\n",
       "      <td>0.012743</td>\n",
       "      <td>0.031846</td>\n",
       "      <td>0.021642</td>\n",
       "      <td>-0.065852</td>\n",
       "      <td>0.067962</td>\n",
       "      <td>140.645004</td>\n",
       "    </tr>\n",
       "    <tr>\n",
       "      <th>1</th>\n",
       "      <td>1</td>\n",
       "      <td>7</td>\n",
       "      <td>6</td>\n",
       "      <td>6</td>\n",
       "      <td>1</td>\n",
       "      <td>8</td>\n",
       "      <td>7</td>\n",
       "      <td>8</td>\n",
       "      <td>-0.546864</td>\n",
       "      <td>-0.883221</td>\n",
       "      <td>-0.969658</td>\n",
       "      <td>-1.037184</td>\n",
       "      <td>-0.073115</td>\n",
       "      <td>-1.950334</td>\n",
       "      <td>1.122323</td>\n",
       "      <td>-1.444950</td>\n",
       "      <td>-0.756991</td>\n",
       "      <td>1.043038</td>\n",
       "      <td>-0.679172</td>\n",
       "      <td>-0.650480</td>\n",
       "      <td>-1.342422</td>\n",
       "      <td>-0.793401</td>\n",
       "      <td>-1.368580</td>\n",
       "      <td>-1.151026</td>\n",
       "      <td>-1.962738</td>\n",
       "      <td>-1.204267</td>\n",
       "      <td>1.224511</td>\n",
       "      <td>-1.983922</td>\n",
       "      <td>-1.405548</td>\n",
       "      <td>-1.824335</td>\n",
       "      <td>2.181979</td>\n",
       "      <td>-2.998708</td>\n",
       "      <td>103.942001</td>\n",
       "    </tr>\n",
       "    <tr>\n",
       "      <th>2</th>\n",
       "      <td>1</td>\n",
       "      <td>7</td>\n",
       "      <td>6</td>\n",
       "      <td>1</td>\n",
       "      <td>6</td>\n",
       "      <td>7</td>\n",
       "      <td>8</td>\n",
       "      <td>8</td>\n",
       "      <td>-0.547966</td>\n",
       "      <td>-0.883646</td>\n",
       "      <td>-1.064597</td>\n",
       "      <td>-1.016565</td>\n",
       "      <td>-0.872329</td>\n",
       "      <td>-1.970999</td>\n",
       "      <td>-1.367803</td>\n",
       "      <td>-2.362792</td>\n",
       "      <td>-2.351486</td>\n",
       "      <td>1.040940</td>\n",
       "      <td>-0.610838</td>\n",
       "      <td>-0.666298</td>\n",
       "      <td>-1.579242</td>\n",
       "      <td>0.038874</td>\n",
       "      <td>-1.208008</td>\n",
       "      <td>1.168588</td>\n",
       "      <td>-0.802381</td>\n",
       "      <td>1.204266</td>\n",
       "      <td>-1.224512</td>\n",
       "      <td>1.405547</td>\n",
       "      <td>1.983921</td>\n",
       "      <td>-2.181981</td>\n",
       "      <td>1.824335</td>\n",
       "      <td>2.998706</td>\n",
       "      <td>92.774101</td>\n",
       "    </tr>\n",
       "  </tbody>\n",
       "</table>\n",
       "</div>"
      ],
      "text/plain": [
       "   atom_2  atom_3  atom_4  atom_5  atom_6  atom_7  atom_8  atom_9     r_x_1  \\\n",
       "0  7       8       1       6       8       7       1       1      -0.544986   \n",
       "1  1       7       6       6       1       8       7       8      -0.546864   \n",
       "2  1       7       6       1       6       7       8       8      -0.547966   \n",
       "\n",
       "      r_x_2     r_x_3     r_x_4     r_x_5     r_x_6     r_x_7     r_x_8  \\\n",
       "0 -1.348394 -1.073379 -0.833953 -0.188789  1.013565 -0.898638 -1.900923   \n",
       "1 -0.883221 -0.969658 -1.037184 -0.073115 -1.950334  1.122323 -1.444950   \n",
       "2 -0.883646 -1.064597 -1.016565 -0.872329 -1.970999 -1.367803 -2.362792   \n",
       "\n",
       "      r_x_9     r_y_2     r_y_3     r_y_4     r_y_5     r_y_6     r_y_7  \\\n",
       "0  0.840353  0.965377 -1.269321  1.844628 -2.317930 -2.221993 -3.478787   \n",
       "1 -0.756991  1.043038 -0.679172 -0.650480 -1.342422 -0.793401 -1.368580   \n",
       "2 -2.351486  1.040940 -0.610838 -0.666298 -1.579242  0.038874 -1.208008   \n",
       "\n",
       "      r_y_8     r_y_9     r_z_3     r_z_4     r_z_5     r_z_6     r_z_7  \\\n",
       "0 -3.423511 -4.567426 -0.001004 -0.001969  0.012743  0.031846  0.021642   \n",
       "1 -1.151026 -1.962738 -1.204267  1.224511 -1.983922 -1.405548 -1.824335   \n",
       "2  1.168588 -0.802381  1.204266 -1.224512  1.405547  1.983921 -2.181981   \n",
       "\n",
       "      r_z_8     r_z_9  scalar_coupling_constant  \n",
       "0 -0.065852  0.067962  140.645004                \n",
       "1  2.181979 -2.998708  103.942001                \n",
       "2  1.824335  2.998706  92.774101                 "
      ]
     },
     "execution_count": 177,
     "metadata": {},
     "output_type": "execute_result"
    }
   ],
   "source": [
    "df = take_n_atoms(full, 10)\n",
    "df.head()\n"
   ]
  },
  {
   "cell_type": "markdown",
   "metadata": {},
   "source": [
    "For experiments, full dataset can be built with higher number of atoms, and for building a training/validation sets we can trim them:"
   ]
  },
  {
   "cell_type": "code",
   "execution_count": 178,
   "metadata": {},
   "outputs": [
    {
     "data": {
      "text/plain": [
       "Index(['atom_2', 'atom_3', 'atom_4', 'atom_5', 'atom_6', 'atom_7', 'atom_8',\n",
       "       'r_x_1', 'r_x_2', 'r_x_3', 'r_x_4', 'r_x_5', 'r_x_6', 'r_x_7', 'r_x_8',\n",
       "       'r_y_2', 'r_y_3', 'r_y_4', 'r_y_5', 'r_y_6', 'r_y_7', 'r_y_8', 'r_z_3',\n",
       "       'r_z_4', 'r_z_5', 'r_z_6', 'r_z_7', 'r_z_8',\n",
       "       'scalar_coupling_constant'],\n",
       "      dtype='object')"
      ]
     },
     "execution_count": 178,
     "metadata": {},
     "output_type": "execute_result"
    }
   ],
   "source": [
    "df = take_n_atoms(full, 9)\n",
    "\n",
    "#inverse of distances\n",
    "#filter_col = [col for col in df if col.startswith('d_')]\n",
    "#df[filter_col] = 1 / (df[filter_col])\n",
    "#df.head()\n",
    "\n",
    "# LightGBM performs better with 0-s then with NaN-s\n",
    "df = df.fillna(0)\n",
    "df.columns"
   ]
  },
  {
   "cell_type": "code",
   "execution_count": 179,
   "metadata": {},
   "outputs": [],
   "source": [
    "# df.hist(bins=10, figsize = [20,20] )"
   ]
  },
  {
   "cell_type": "code",
   "execution_count": 180,
   "metadata": {},
   "outputs": [],
   "source": [
    "#df.plot.scatter(x='dist_along_1', y = 'scalar_coupling_constant') "
   ]
  },
  {
   "cell_type": "code",
   "execution_count": 181,
   "metadata": {},
   "outputs": [
    {
     "data": {
      "text/plain": [
       "((2, 28), (1, 28), (2,), (1,))"
      ]
     },
     "execution_count": 181,
     "metadata": {},
     "output_type": "execute_result"
    }
   ],
   "source": [
    "#X_data = df.drop(['scalar_coupling_constant'], axis=1).values.astype('float32')\n",
    "#y_data = df['scalar_coupling_constant'].values.astype('float32')\n",
    "X_data = df.drop(['scalar_coupling_constant'], axis=1)\n",
    "y_data = df['scalar_coupling_constant']\n",
    "\n",
    "\n",
    "X_train, X_val, y_train, y_val = train_test_split(X_data, y_data, test_size=0.2, random_state=128)\n",
    "X_train.shape, X_val.shape, y_train.shape, y_val.shape"
   ]
  },
  {
   "cell_type": "markdown",
   "metadata": {},
   "source": [
    "## CatBoost"
   ]
  },
  {
   "cell_type": "code",
   "execution_count": 182,
   "metadata": {},
   "outputs": [],
   "source": [
    "from catboost import CatBoostRegressor"
   ]
  },
  {
   "cell_type": "code",
   "execution_count": 183,
   "metadata": {},
   "outputs": [
    {
     "name": "stdout",
     "output_type": "stream",
     "text": [
      "0:\tlearn: 98.2955513\ttest: 140.5825043\tbest: 140.5825043 (0)\ttotal: 3.04ms\tremaining: 149ms\n",
      "1:\tlearn: 98.2330513\ttest: 140.5200043\tbest: 140.5200043 (1)\ttotal: 5.91ms\tremaining: 142ms\n",
      "2:\tlearn: 98.1705513\ttest: 140.4575043\tbest: 140.4575043 (2)\ttotal: 8.36ms\tremaining: 131ms\n",
      "3:\tlearn: 98.1080513\ttest: 140.3950043\tbest: 140.3950043 (3)\ttotal: 11ms\tremaining: 126ms\n",
      "4:\tlearn: 98.0455513\ttest: 140.3325043\tbest: 140.3325043 (4)\ttotal: 13.7ms\tremaining: 123ms\n",
      "5:\tlearn: 97.9830513\ttest: 140.2700043\tbest: 140.2700043 (5)\ttotal: 16.1ms\tremaining: 118ms\n",
      "6:\tlearn: 97.9205513\ttest: 140.2075043\tbest: 140.2075043 (6)\ttotal: 18.7ms\tremaining: 115ms\n",
      "7:\tlearn: 97.8580513\ttest: 140.1450043\tbest: 140.1450043 (7)\ttotal: 21.1ms\tremaining: 111ms\n",
      "8:\tlearn: 97.7955513\ttest: 140.0825043\tbest: 140.0825043 (8)\ttotal: 23.6ms\tremaining: 107ms\n",
      "9:\tlearn: 97.7330513\ttest: 140.0200043\tbest: 140.0200043 (9)\ttotal: 26.4ms\tremaining: 106ms\n",
      "10:\tlearn: 97.6705513\ttest: 139.9575043\tbest: 139.9575043 (10)\ttotal: 28.9ms\tremaining: 102ms\n",
      "11:\tlearn: 97.6080513\ttest: 139.8950043\tbest: 139.8950043 (11)\ttotal: 31.3ms\tremaining: 99ms\n",
      "12:\tlearn: 97.5455513\ttest: 139.8325043\tbest: 139.8325043 (12)\ttotal: 33.8ms\tremaining: 96.2ms\n",
      "13:\tlearn: 97.4830513\ttest: 139.7700043\tbest: 139.7700043 (13)\ttotal: 36.2ms\tremaining: 93.1ms\n",
      "14:\tlearn: 97.4205513\ttest: 139.7075043\tbest: 139.7075043 (14)\ttotal: 38.7ms\tremaining: 90.2ms\n",
      "15:\tlearn: 97.3580513\ttest: 139.6450043\tbest: 139.6450043 (15)\ttotal: 41.5ms\tremaining: 88.1ms\n",
      "16:\tlearn: 97.2955513\ttest: 139.5825043\tbest: 139.5825043 (16)\ttotal: 43.9ms\tremaining: 85.3ms\n",
      "17:\tlearn: 97.2330513\ttest: 139.5200043\tbest: 139.5200043 (17)\ttotal: 46.5ms\tremaining: 82.7ms\n",
      "18:\tlearn: 97.1705513\ttest: 139.4575043\tbest: 139.4575043 (18)\ttotal: 51.4ms\tremaining: 83.8ms\n",
      "19:\tlearn: 97.1080513\ttest: 139.3950043\tbest: 139.3950043 (19)\ttotal: 54ms\tremaining: 81ms\n",
      "20:\tlearn: 97.0455513\ttest: 139.3325043\tbest: 139.3325043 (20)\ttotal: 56.9ms\tremaining: 78.6ms\n",
      "21:\tlearn: 96.9830513\ttest: 139.2700043\tbest: 139.2700043 (21)\ttotal: 59.4ms\tremaining: 75.6ms\n",
      "22:\tlearn: 96.9205513\ttest: 139.2075043\tbest: 139.2075043 (22)\ttotal: 61.8ms\tremaining: 72.5ms\n",
      "23:\tlearn: 96.8580513\ttest: 139.1450043\tbest: 139.1450043 (23)\ttotal: 64.3ms\tremaining: 69.7ms\n",
      "24:\tlearn: 96.7955513\ttest: 139.0825043\tbest: 139.0825043 (24)\ttotal: 66.8ms\tremaining: 66.8ms\n",
      "25:\tlearn: 96.7330513\ttest: 139.0200043\tbest: 139.0200043 (25)\ttotal: 69.2ms\tremaining: 63.9ms\n",
      "26:\tlearn: 96.6705513\ttest: 138.9575043\tbest: 138.9575043 (26)\ttotal: 72.1ms\tremaining: 61.4ms\n",
      "27:\tlearn: 96.6080513\ttest: 138.8950043\tbest: 138.8950043 (27)\ttotal: 75ms\tremaining: 58.9ms\n",
      "28:\tlearn: 96.5455513\ttest: 138.8325043\tbest: 138.8325043 (28)\ttotal: 77.5ms\tremaining: 56.1ms\n",
      "29:\tlearn: 96.4830513\ttest: 138.7700043\tbest: 138.7700043 (29)\ttotal: 80ms\tremaining: 53.3ms\n",
      "30:\tlearn: 96.4205513\ttest: 138.7075043\tbest: 138.7075043 (30)\ttotal: 82.6ms\tremaining: 50.6ms\n",
      "31:\tlearn: 96.3580513\ttest: 138.6450043\tbest: 138.6450043 (31)\ttotal: 85.2ms\tremaining: 47.9ms\n",
      "32:\tlearn: 96.2955513\ttest: 138.5825043\tbest: 138.5825043 (32)\ttotal: 87.8ms\tremaining: 45.2ms\n",
      "33:\tlearn: 96.2330513\ttest: 138.5200043\tbest: 138.5200043 (33)\ttotal: 91.3ms\tremaining: 43ms\n",
      "34:\tlearn: 96.1705513\ttest: 138.4575043\tbest: 138.4575043 (34)\ttotal: 94.3ms\tremaining: 40.4ms\n",
      "35:\tlearn: 96.1080513\ttest: 138.3950043\tbest: 138.3950043 (35)\ttotal: 96.7ms\tremaining: 37.6ms\n",
      "36:\tlearn: 96.0455513\ttest: 138.3325043\tbest: 138.3325043 (36)\ttotal: 99.4ms\tremaining: 34.9ms\n",
      "37:\tlearn: 95.9830513\ttest: 138.2700043\tbest: 138.2700043 (37)\ttotal: 102ms\tremaining: 32.3ms\n",
      "38:\tlearn: 95.9205513\ttest: 138.2075043\tbest: 138.2075043 (38)\ttotal: 105ms\tremaining: 29.6ms\n",
      "39:\tlearn: 95.8580513\ttest: 138.1450043\tbest: 138.1450043 (39)\ttotal: 108ms\tremaining: 26.9ms\n",
      "40:\tlearn: 95.7955513\ttest: 138.0825043\tbest: 138.0825043 (40)\ttotal: 110ms\tremaining: 24.2ms\n",
      "41:\tlearn: 95.7330513\ttest: 138.0200043\tbest: 138.0200043 (41)\ttotal: 113ms\tremaining: 21.4ms\n",
      "42:\tlearn: 95.6705513\ttest: 137.9575043\tbest: 137.9575043 (42)\ttotal: 115ms\tremaining: 18.8ms\n",
      "43:\tlearn: 95.6080513\ttest: 137.8950043\tbest: 137.8950043 (43)\ttotal: 118ms\tremaining: 16ms\n",
      "44:\tlearn: 95.5455513\ttest: 137.8325043\tbest: 137.8325043 (44)\ttotal: 121ms\tremaining: 13.4ms\n",
      "45:\tlearn: 95.4830513\ttest: 137.7700043\tbest: 137.7700043 (45)\ttotal: 124ms\tremaining: 10.7ms\n",
      "46:\tlearn: 95.4205513\ttest: 137.7075043\tbest: 137.7075043 (46)\ttotal: 126ms\tremaining: 8.05ms\n",
      "47:\tlearn: 95.3580513\ttest: 137.6450043\tbest: 137.6450043 (47)\ttotal: 129ms\tremaining: 5.36ms\n",
      "48:\tlearn: 95.2955513\ttest: 137.5825043\tbest: 137.5825043 (48)\ttotal: 131ms\tremaining: 2.68ms\n",
      "49:\tlearn: 95.2330513\ttest: 137.5200043\tbest: 137.5200043 (49)\ttotal: 134ms\tremaining: 0us\n",
      "\n",
      "bestTest = 137.5200043\n",
      "bestIteration = 49\n",
      "\n"
     ]
    },
    {
     "data": {
      "text/plain": [
       "4.923769392142518"
      ]
     },
     "execution_count": 183,
     "metadata": {},
     "output_type": "execute_result"
    }
   ],
   "source": [
    "CAT_PARAMS = {\n",
    "          'learning_rate': 0.5,\n",
    "           'max_depth': 5,    \n",
    "           'n_estimators': 50\n",
    "         }\n",
    "#categorical features\n",
    "\n",
    "categorical_features = [col for col in X_train if col.startswith('atom_')]\n",
    "model = CatBoostRegressor(eval_metric='MAE', **CAT_PARAMS, loss_function='MAE')\n",
    "model.fit(X_train, y_train, eval_set=((X_val, y_val)), \n",
    "          cat_features = categorical_features,\n",
    "          use_best_model=True,\n",
    "          verbose=True)\n",
    "\n",
    "y_pred = model.predict(X_val)\n",
    "np.log(mean_absolute_error(y_val, y_pred))"
   ]
  },
  {
   "cell_type": "code",
   "execution_count": 184,
   "metadata": {},
   "outputs": [
    {
     "data": {
      "image/png": "[encoded data removed]",
      "text/plain": [
       "<Figure size 432x288 with 1 Axes>"
      ]
     },
     "metadata": {
      "needs_background": "light"
     },
     "output_type": "display_data"
    }
   ],
   "source": [
    "cols = list(X_train.columns)\n",
    "#cols.remove('scalar_coupling_constant')\n",
    "df_importance = pd.DataFrame({'feature': cols, 'importance': model.feature_importances_})\n",
    "sns.barplot(x=\"importance\", y=\"feature\", data=df_importance.sort_values('importance', ascending=False));"
   ]
  },
  {
   "cell_type": "code",
   "execution_count": 185,
   "metadata": {},
   "outputs": [
    {
     "data": {
      "text/plain": [
       "[<matplotlib.lines.Line2D at 0x25d063f24e0>]"
      ]
     },
     "execution_count": 185,
     "metadata": {},
     "output_type": "execute_result"
    },
    {
     "data": {
      "image/png": "[encoded data removed]",
      "text/plain": [
       "<Figure size 432x288 with 1 Axes>"
      ]
     },
     "metadata": {
      "needs_background": "light"
     },
     "output_type": "display_data"
    }
   ],
   "source": [
    "plt.plot(y_val, y_pred - y_val, 'ro')"
   ]
  },
  {
   "cell_type": "code",
   "execution_count": null,
   "metadata": {},
   "outputs": [],
   "source": []
  },
  {
   "cell_type": "markdown",
   "metadata": {},
   "source": [
    "## LGBMRegressor"
   ]
  },
  {
   "cell_type": "code",
   "execution_count": 186,
   "metadata": {},
   "outputs": [],
   "source": [
    "#aaa"
   ]
  },
  {
   "cell_type": "code",
   "execution_count": 187,
   "metadata": {},
   "outputs": [],
   "source": [
    "# configuration params are copied from @artgor kernel:\n",
    "# https://www.kaggle.com/artgor/brute-force-feature-engineering\n",
    "if False:\n",
    "    LGB_PARAMS = {\n",
    "        'objective': 'regression',\n",
    "        'metric': 'mae',\n",
    "        'verbosity': -1,\n",
    "        'boosting_type': 'gbdt',\n",
    "        'learning_rate': 0.2,\n",
    "        'num_leaves': 128,\n",
    "        'min_child_samples': 79,\n",
    "        'max_depth': 9,\n",
    "        'subsample_freq': 1,\n",
    "        'subsample': 0.9,\n",
    "        'bagging_seed': 11,\n",
    "        'reg_alpha': 0.1,\n",
    "        'reg_lambda': 0.3,\n",
    "        'colsample_bytree': 1.0\n",
    "    }\n",
    "LGB_PARAMS = {\n",
    "    'objective': 'regression',\n",
    "    'metric': 'mae',\n",
    "    'verbosity': -1,\n",
    "    'boosting_type': 'gbdt',\n",
    "    'learning_rate': 0.1,\n",
    "    'num_leaves': 25,\n",
    "    'min_child_samples': 60,\n",
    "    'max_depth': 4,\n",
    "    'subsample_freq': 1,\n",
    "    'subsample': 0.9,\n",
    "    'bagging_seed': 11,\n",
    "    'reg_alpha': 0.1,\n",
    "    'reg_lambda': 0.3,\n",
    "    'colsample_bytree': 1.0\n",
    "}"
   ]
  },
  {
   "cell_type": "code",
   "execution_count": 188,
   "metadata": {},
   "outputs": [
    {
     "name": "stdout",
     "output_type": "stream",
     "text": [
      "Training until validation scores don't improve for 500 rounds.\n",
      "[100]\ttraining's l1: 98.3581\tvalid_1's l1: 56.0711\n",
      "[200]\ttraining's l1: 98.3581\tvalid_1's l1: 56.0711\n",
      "[300]\ttraining's l1: 98.3581\tvalid_1's l1: 56.0711\n",
      "[400]\ttraining's l1: 98.3581\tvalid_1's l1: 56.0711\n",
      "[500]\ttraining's l1: 98.3581\tvalid_1's l1: 56.0711\n",
      "Early stopping, best iteration is:\n",
      "[1]\ttraining's l1: 98.3581\tvalid_1's l1: 56.0711\n"
     ]
    },
    {
     "data": {
      "text/plain": [
       "3.7444785981062103"
      ]
     },
     "execution_count": 188,
     "metadata": {},
     "output_type": "execute_result"
    }
   ],
   "source": [
    "model = LGBMRegressor(**LGB_PARAMS, n_estimators=100000, n_jobs = -1)\n",
    "model.fit(X_train, y_train, \n",
    "        eval_set=[(X_train, y_train), (X_val, y_val)], eval_metric='mae',\n",
    "        verbose=100, early_stopping_rounds=500)\n",
    "\n",
    "y_pred = model.predict(X_val)\n",
    "np.log(mean_absolute_error(y_val, y_pred))"
   ]
  },
  {
   "cell_type": "markdown",
   "metadata": {},
   "source": [
    "Not a bad score for such a simple set of features."
   ]
  },
  {
   "cell_type": "code",
   "execution_count": 189,
   "metadata": {},
   "outputs": [
    {
     "data": {
      "image/png": "[encoded data removed]",
      "text/plain": [
       "<Figure size 432x288 with 1 Axes>"
      ]
     },
     "metadata": {
      "needs_background": "light"
     },
     "output_type": "display_data"
    }
   ],
   "source": [
    "cols = list(df.columns)\n",
    "cols.remove('scalar_coupling_constant')\n",
    "cols\n",
    "df_importance = pd.DataFrame({'feature': cols, 'importance': model.feature_importances_})\n",
    "sns.barplot(x=\"importance\", y=\"feature\", data=df_importance.sort_values('importance', ascending=False));"
   ]
  },
  {
   "cell_type": "code",
   "execution_count": 190,
   "metadata": {},
   "outputs": [
    {
     "data": {
      "text/plain": [
       "[<matplotlib.lines.Line2D at 0x25d01493d68>]"
      ]
     },
     "execution_count": 190,
     "metadata": {},
     "output_type": "execute_result"
    },
    {
     "data": {
      "image/png": "[encoded data removed]",
      "text/plain": [
       "<Figure size 432x288 with 1 Axes>"
      ]
     },
     "metadata": {
      "needs_background": "light"
     },
     "output_type": "display_data"
    }
   ],
   "source": [
    "plt.plot(y_val, y_pred- y_val, 'ro')"
   ]
  },
  {
   "cell_type": "code",
   "execution_count": null,
   "metadata": {},
   "outputs": [],
   "source": []
  },
  {
   "cell_type": "markdown",
   "metadata": {},
   "source": [
    "It's funny, but looks like atom types aren't used a lot in the final decision. Quite a contrary to what a man would do."
   ]
  },
  {
   "cell_type": "markdown",
   "metadata": {},
   "source": [
    "## Submission Model\n"
   ]
  },
  {
   "cell_type": "code",
   "execution_count": 191,
   "metadata": {},
   "outputs": [],
   "source": [
    "def build_x_y_data(some_csv, coupling_type, n_atoms):\n",
    "    full = build_couple_dataframe(some_csv, structures_csv, coupling_type, n_atoms=n_atoms)\n",
    "    \n",
    "    df = take_n_atoms(full, n_atoms)\n",
    "    df = df.fillna(0)\n",
    "    print(df.columns)\n",
    "    \n",
    "    if 'scalar_coupling_constant' in df:\n",
    "        X_data = df.drop(['scalar_coupling_constant'], axis=1)\n",
    "        y_data = df['scalar_coupling_constant']\n",
    "    else:\n",
    "        X_data = df\n",
    "        y_data = None\n",
    "    \n",
    "    return X_data, y_data"
   ]
  },
  {
   "cell_type": "code",
   "execution_count": 192,
   "metadata": {},
   "outputs": [],
   "source": [
    "def train_and_predict_for_one_coupling_type(coupling_type, submission, n_atoms, n_folds=5, n_splits=5, random_state=128):\n",
    "    model_type =  'lgb' #lgb  cat\n",
    "    print(f'*** Training Model for {coupling_type} ***')\n",
    "    \n",
    "    X_data, y_data = build_x_y_data(train_csv, coupling_type, n_atoms)\n",
    "    columns = X_data.columns \n",
    "    X_test, _ = build_x_y_data(test_csv, coupling_type, n_atoms)\n",
    "    y_pred = np.zeros(X_test.shape[0], dtype='float32')\n",
    "\n",
    "    cv_score = 0\n",
    "    \n",
    "    if n_folds > n_splits:\n",
    "        n_splits = n_folds\n",
    "    \n",
    "    kfold = KFold(n_splits=n_splits, shuffle=True, random_state=random_state)\n",
    "\n",
    "    for fold, (train_index, val_index) in enumerate(kfold.split(X_data, y_data)):\n",
    "        if fold >= n_folds:\n",
    "            break\n",
    "\n",
    "        #X_train, X_val = X_data[train_index], X_data[val_index]\n",
    "        #y_train, y_val = y_data[train_index], y_data[val_index]\n",
    "        X_train, X_val = X_data[columns].iloc[train_index], X_data[columns].iloc[val_index]\n",
    "        y_train, y_val = y_data.iloc[train_index], y_data.iloc[val_index]\n",
    "\n",
    "        model = \"\"\n",
    "        if model_type == 'lgb':\n",
    "            model = LGBMRegressor(**LGB_PARAMS, n_estimators=6000, n_jobs = -1)\n",
    "            #model = LGBMRegressor(**LGB_PARAMS, n_estimators=6000, n_jobs = -1)\n",
    "            model.fit(X_train, y_train, \n",
    "                eval_set=[(X_train, y_train), (X_val, y_val)], eval_metric='mae',\n",
    "                verbose=100, early_stopping_rounds=200)\n",
    "        \n",
    "        if model_type == 'cat': \n",
    "            categorical_features = [col for col in X_train if col.startswith('atom_')]\n",
    "            model = CatBoostRegressor(eval_metric='MAE', **CAT_PARAMS, loss_function='MAE')\n",
    "            X_trainGlob = X_train\n",
    "            model.fit(X_train, y_train, eval_set=((X_val, y_val)), \n",
    "                      cat_features = categorical_features,\n",
    "                      use_best_model=True,\n",
    "                      verbose=False)\n",
    "\n",
    "        y_val_pred = model.predict(X_val)\n",
    "        val_score = np.log(mean_absolute_error(y_val, y_val_pred))\n",
    "        print(f'{coupling_type} Fold {fold}, logMAE: {val_score}')\n",
    "        \n",
    "        cv_score += val_score / n_folds\n",
    "        y_pred += model.predict(X_test) / n_folds\n",
    "        \n",
    "        \n",
    "    submission.loc[test_csv['type'] == coupling_type, 'scalar_coupling_constant'] = y_pred\n",
    "    return cv_score"
   ]
  },
  {
   "cell_type": "code",
   "execution_count": 193,
   "metadata": {
    "scrolled": true
   },
   "outputs": [
    {
     "data": {
      "text/plain": [
       "['atom_2', 'atom_3', 'atom_4', 'atom_5', 'atom_6', 'atom_7', 'atom_8']"
      ]
     },
     "execution_count": 193,
     "metadata": {},
     "output_type": "execute_result"
    }
   ],
   "source": [
    "categorical_features"
   ]
  },
  {
   "cell_type": "markdown",
   "metadata": {},
   "source": [
    "Let's build a separate model for each type of coupling. Dataset is split into 5 pieces and in this kernel we will use only 3 folds for speed up.\n",
    "\n",
    "Main tuning parameter is the number of atoms. I took good numbers, but accuracy can be improved a bit by tuning them for each type."
   ]
  },
  {
   "cell_type": "code",
   "execution_count": 194,
   "metadata": {},
   "outputs": [],
   "source": [
    "if False: \n",
    "    model_params = {\n",
    "        '1JHC': 10,\n",
    "        '1JHN': 7,    \n",
    "        '2JHH': 9,\n",
    "        '2JHN': 9,\n",
    "        '2JHC': 9,\n",
    "        '3JHH': 9,\n",
    "        '3JHC': 10,\n",
    "        '3JHN': 10\n",
    "    }\n",
    "model_params = {\n",
    "    '1JHC': 7,\n",
    "    '1JHN': 7,    \n",
    "    '2JHH': 7,\n",
    "    '2JHN': 7,\n",
    "    '2JHC': 7,\n",
    "    '3JHH': 7,\n",
    "    '3JHC': 7,\n",
    "    '3JHN': 7\n",
    "}\n"
   ]
  },
  {
   "cell_type": "markdown",
   "metadata": {},
   "source": [
    "Checking cross-validation scores for each type:"
   ]
  },
  {
   "cell_type": "code",
   "execution_count": 195,
   "metadata": {},
   "outputs": [
    {
     "name": "stdout",
     "output_type": "stream",
     "text": [
      "*** Training Model for 1JHC ***\n"
     ]
    },
    {
     "ename": "KeyboardInterrupt",
     "evalue": "",
     "output_type": "error",
     "traceback": [
      "\u001b[1;31m---------------------------------------------------------------------------\u001b[0m",
      "\u001b[1;31mKeyboardInterrupt\u001b[0m                         Traceback (most recent call last)",
      "\u001b[1;32m<ipython-input-195-ce81328e0710>\u001b[0m in \u001b[0;36m<module>\u001b[1;34m\u001b[0m\n\u001b[0;32m      5\u001b[0m \u001b[1;32mfor\u001b[0m \u001b[0mcoupling_type\u001b[0m \u001b[1;32min\u001b[0m \u001b[0mmodel_params\u001b[0m\u001b[1;33m.\u001b[0m\u001b[0mkeys\u001b[0m\u001b[1;33m(\u001b[0m\u001b[1;33m)\u001b[0m\u001b[1;33m:\u001b[0m\u001b[1;33m\u001b[0m\u001b[1;33m\u001b[0m\u001b[0m\n\u001b[0;32m      6\u001b[0m     cv_score = train_and_predict_for_one_coupling_type(\n\u001b[1;32m----> 7\u001b[1;33m         coupling_type, submission, n_atoms=model_params[coupling_type], n_folds=N_FOLDS)\n\u001b[0m\u001b[0;32m      8\u001b[0m     \u001b[0mcv_scores\u001b[0m\u001b[1;33m[\u001b[0m\u001b[0mcoupling_type\u001b[0m\u001b[1;33m]\u001b[0m \u001b[1;33m=\u001b[0m \u001b[0mcv_score\u001b[0m\u001b[1;33m\u001b[0m\u001b[1;33m\u001b[0m\u001b[0m\n",
      "\u001b[1;32m<ipython-input-192-b2b5fe2eb8d5>\u001b[0m in \u001b[0;36mtrain_and_predict_for_one_coupling_type\u001b[1;34m(coupling_type, submission, n_atoms, n_folds, n_splits, random_state)\u001b[0m\n\u001b[0;32m      3\u001b[0m     \u001b[0mprint\u001b[0m\u001b[1;33m(\u001b[0m\u001b[1;34mf'*** Training Model for {coupling_type} ***'\u001b[0m\u001b[1;33m)\u001b[0m\u001b[1;33m\u001b[0m\u001b[1;33m\u001b[0m\u001b[0m\n\u001b[0;32m      4\u001b[0m \u001b[1;33m\u001b[0m\u001b[0m\n\u001b[1;32m----> 5\u001b[1;33m     \u001b[0mX_data\u001b[0m\u001b[1;33m,\u001b[0m \u001b[0my_data\u001b[0m \u001b[1;33m=\u001b[0m \u001b[0mbuild_x_y_data\u001b[0m\u001b[1;33m(\u001b[0m\u001b[0mtrain_csv\u001b[0m\u001b[1;33m,\u001b[0m \u001b[0mcoupling_type\u001b[0m\u001b[1;33m,\u001b[0m \u001b[0mn_atoms\u001b[0m\u001b[1;33m)\u001b[0m\u001b[1;33m\u001b[0m\u001b[1;33m\u001b[0m\u001b[0m\n\u001b[0m\u001b[0;32m      6\u001b[0m     \u001b[0mcolumns\u001b[0m \u001b[1;33m=\u001b[0m \u001b[0mX_data\u001b[0m\u001b[1;33m.\u001b[0m\u001b[0mcolumns\u001b[0m\u001b[1;33m\u001b[0m\u001b[1;33m\u001b[0m\u001b[0m\n\u001b[0;32m      7\u001b[0m     \u001b[0mX_test\u001b[0m\u001b[1;33m,\u001b[0m \u001b[0m_\u001b[0m \u001b[1;33m=\u001b[0m \u001b[0mbuild_x_y_data\u001b[0m\u001b[1;33m(\u001b[0m\u001b[0mtest_csv\u001b[0m\u001b[1;33m,\u001b[0m \u001b[0mcoupling_type\u001b[0m\u001b[1;33m,\u001b[0m \u001b[0mn_atoms\u001b[0m\u001b[1;33m)\u001b[0m\u001b[1;33m\u001b[0m\u001b[1;33m\u001b[0m\u001b[0m\n",
      "\u001b[1;32m<ipython-input-191-dee05b429b9e>\u001b[0m in \u001b[0;36mbuild_x_y_data\u001b[1;34m(some_csv, coupling_type, n_atoms)\u001b[0m\n\u001b[0;32m      1\u001b[0m \u001b[1;32mdef\u001b[0m \u001b[0mbuild_x_y_data\u001b[0m\u001b[1;33m(\u001b[0m\u001b[0msome_csv\u001b[0m\u001b[1;33m,\u001b[0m \u001b[0mcoupling_type\u001b[0m\u001b[1;33m,\u001b[0m \u001b[0mn_atoms\u001b[0m\u001b[1;33m)\u001b[0m\u001b[1;33m:\u001b[0m\u001b[1;33m\u001b[0m\u001b[1;33m\u001b[0m\u001b[0m\n\u001b[1;32m----> 2\u001b[1;33m     \u001b[0mfull\u001b[0m \u001b[1;33m=\u001b[0m \u001b[0mbuild_couple_dataframe\u001b[0m\u001b[1;33m(\u001b[0m\u001b[0msome_csv\u001b[0m\u001b[1;33m,\u001b[0m \u001b[0mstructures_csv\u001b[0m\u001b[1;33m,\u001b[0m \u001b[0mcoupling_type\u001b[0m\u001b[1;33m,\u001b[0m \u001b[0mn_atoms\u001b[0m\u001b[1;33m=\u001b[0m\u001b[0mn_atoms\u001b[0m\u001b[1;33m)\u001b[0m\u001b[1;33m\u001b[0m\u001b[1;33m\u001b[0m\u001b[0m\n\u001b[0m\u001b[0;32m      3\u001b[0m \u001b[1;33m\u001b[0m\u001b[0m\n\u001b[0;32m      4\u001b[0m     \u001b[0mdf\u001b[0m \u001b[1;33m=\u001b[0m \u001b[0mtake_n_atoms\u001b[0m\u001b[1;33m(\u001b[0m\u001b[0mfull\u001b[0m\u001b[1;33m,\u001b[0m \u001b[0mn_atoms\u001b[0m\u001b[1;33m)\u001b[0m\u001b[1;33m\u001b[0m\u001b[1;33m\u001b[0m\u001b[0m\n\u001b[0;32m      5\u001b[0m     \u001b[0mdf\u001b[0m \u001b[1;33m=\u001b[0m \u001b[0mdf\u001b[0m\u001b[1;33m.\u001b[0m\u001b[0mfillna\u001b[0m\u001b[1;33m(\u001b[0m\u001b[1;36m0\u001b[0m\u001b[1;33m)\u001b[0m\u001b[1;33m\u001b[0m\u001b[1;33m\u001b[0m\u001b[0m\n",
      "\u001b[1;32m<ipython-input-172-4fa51136bbf4>\u001b[0m in \u001b[0;36mbuild_couple_dataframe\u001b[1;34m(some_csv, structures_csv, coupling_type, n_atoms)\u001b[0m\n\u001b[0;32m     83\u001b[0m     \u001b[0mbase\u001b[0m \u001b[1;33m=\u001b[0m \u001b[0mbase\u001b[0m\u001b[1;33m.\u001b[0m\u001b[0mdrop\u001b[0m\u001b[1;33m(\u001b[0m\u001b[1;33m[\u001b[0m\u001b[1;34m'atom_0'\u001b[0m\u001b[1;33m,\u001b[0m \u001b[1;34m'atom_1'\u001b[0m\u001b[1;33m]\u001b[0m\u001b[1;33m,\u001b[0m \u001b[0maxis\u001b[0m\u001b[1;33m=\u001b[0m\u001b[1;36m1\u001b[0m\u001b[1;33m)\u001b[0m\u001b[1;33m\u001b[0m\u001b[1;33m\u001b[0m\u001b[0m\n\u001b[0;32m     84\u001b[0m \u001b[1;33m\u001b[0m\u001b[0m\n\u001b[1;32m---> 85\u001b[1;33m     \u001b[0matoms\u001b[0m \u001b[1;33m=\u001b[0m \u001b[0mbuild_atoms\u001b[0m\u001b[1;33m(\u001b[0m\u001b[0mbase\u001b[0m\u001b[1;33m,\u001b[0m \u001b[0mstructures\u001b[0m\u001b[1;33m,\u001b[0m \u001b[0mn_atoms\u001b[0m\u001b[1;33m)\u001b[0m\u001b[1;33m\u001b[0m\u001b[1;33m\u001b[0m\u001b[0m\n\u001b[0m\u001b[0;32m     86\u001b[0m     \u001b[0mdf\u001b[0m \u001b[1;33m=\u001b[0m \u001b[0madd_atoms\u001b[0m\u001b[1;33m(\u001b[0m\u001b[0mbase\u001b[0m\u001b[1;33m,\u001b[0m \u001b[0matoms\u001b[0m\u001b[1;33m)\u001b[0m\u001b[1;33m\u001b[0m\u001b[1;33m\u001b[0m\u001b[0m\n\u001b[0;32m     87\u001b[0m \u001b[1;33m\u001b[0m\u001b[0m\n",
      "\u001b[1;32m<ipython-input-171-7a7908b7c0b4>\u001b[0m in \u001b[0;36mbuild_atoms\u001b[1;34m(base_from, structures_from, n_atoms)\u001b[0m\n\u001b[0;32m     19\u001b[0m     \u001b[0madd_distance_to_center\u001b[0m\u001b[1;33m(\u001b[0m\u001b[0matoms\u001b[0m\u001b[1;33m)\u001b[0m\u001b[1;33m\u001b[0m\u001b[1;33m\u001b[0m\u001b[0m\n\u001b[0;32m     20\u001b[0m \u001b[1;33m\u001b[0m\u001b[0m\n\u001b[1;32m---> 21\u001b[1;33m     \u001b[0matoms\u001b[0m\u001b[1;33m.\u001b[0m\u001b[0msort_values\u001b[0m\u001b[1;33m(\u001b[0m\u001b[1;33m[\u001b[0m\u001b[1;34m'molecule_index'\u001b[0m\u001b[1;33m,\u001b[0m \u001b[1;34m'atom_index_0'\u001b[0m\u001b[1;33m,\u001b[0m \u001b[1;34m'atom_index_1'\u001b[0m\u001b[1;33m,\u001b[0m \u001b[1;34m'd_c'\u001b[0m\u001b[1;33m]\u001b[0m\u001b[1;33m,\u001b[0m \u001b[0minplace\u001b[0m\u001b[1;33m=\u001b[0m\u001b[1;32mTrue\u001b[0m\u001b[1;33m)\u001b[0m\u001b[1;33m\u001b[0m\u001b[1;33m\u001b[0m\u001b[0m\n\u001b[0m\u001b[0;32m     22\u001b[0m     \u001b[0matom_groups\u001b[0m \u001b[1;33m=\u001b[0m \u001b[0matoms\u001b[0m\u001b[1;33m.\u001b[0m\u001b[0mgroupby\u001b[0m\u001b[1;33m(\u001b[0m\u001b[1;33m[\u001b[0m\u001b[1;34m'molecule_index'\u001b[0m\u001b[1;33m,\u001b[0m \u001b[1;34m'atom_index_0'\u001b[0m\u001b[1;33m,\u001b[0m \u001b[1;34m'atom_index_1'\u001b[0m\u001b[1;33m]\u001b[0m\u001b[1;33m)\u001b[0m\u001b[1;33m\u001b[0m\u001b[1;33m\u001b[0m\u001b[0m\n\u001b[0;32m     23\u001b[0m     \u001b[0matoms\u001b[0m\u001b[1;33m[\u001b[0m\u001b[1;34m'num'\u001b[0m\u001b[1;33m]\u001b[0m \u001b[1;33m=\u001b[0m \u001b[0matom_groups\u001b[0m\u001b[1;33m.\u001b[0m\u001b[0mcumcount\u001b[0m\u001b[1;33m(\u001b[0m\u001b[1;33m)\u001b[0m \u001b[1;33m+\u001b[0m \u001b[1;36m2\u001b[0m\u001b[1;33m\u001b[0m\u001b[1;33m\u001b[0m\u001b[0m\n",
      "\u001b[1;32mC:\\ProgramFiles\\Anaconda\\lib\\site-packages\\pandas\\core\\frame.py\u001b[0m in \u001b[0;36msort_values\u001b[1;34m(self, by, axis, ascending, inplace, kind, na_position)\u001b[0m\n\u001b[0;32m   4711\u001b[0m                     for x in by]\n\u001b[0;32m   4712\u001b[0m             indexer = lexsort_indexer(keys, orders=ascending,\n\u001b[1;32m-> 4713\u001b[1;33m                                       na_position=na_position)\n\u001b[0m\u001b[0;32m   4714\u001b[0m             \u001b[0mindexer\u001b[0m \u001b[1;33m=\u001b[0m \u001b[0mensure_platform_int\u001b[0m\u001b[1;33m(\u001b[0m\u001b[0mindexer\u001b[0m\u001b[1;33m)\u001b[0m\u001b[1;33m\u001b[0m\u001b[1;33m\u001b[0m\u001b[0m\n\u001b[0;32m   4715\u001b[0m         \u001b[1;32melse\u001b[0m\u001b[1;33m:\u001b[0m\u001b[1;33m\u001b[0m\u001b[1;33m\u001b[0m\u001b[0m\n",
      "\u001b[1;32mC:\\ProgramFiles\\Anaconda\\lib\\site-packages\\pandas\\core\\sorting.py\u001b[0m in \u001b[0;36mlexsort_indexer\u001b[1;34m(keys, orders, na_position)\u001b[0m\n\u001b[0;32m    205\u001b[0m         \u001b[1;31m# create the Categorical\u001b[0m\u001b[1;33m\u001b[0m\u001b[1;33m\u001b[0m\u001b[1;33m\u001b[0m\u001b[0m\n\u001b[0;32m    206\u001b[0m         \u001b[1;32melse\u001b[0m\u001b[1;33m:\u001b[0m\u001b[1;33m\u001b[0m\u001b[1;33m\u001b[0m\u001b[0m\n\u001b[1;32m--> 207\u001b[1;33m             \u001b[0mc\u001b[0m \u001b[1;33m=\u001b[0m \u001b[0mCategorical\u001b[0m\u001b[1;33m(\u001b[0m\u001b[0mkey\u001b[0m\u001b[1;33m,\u001b[0m \u001b[0mordered\u001b[0m\u001b[1;33m=\u001b[0m\u001b[1;32mTrue\u001b[0m\u001b[1;33m)\u001b[0m\u001b[1;33m\u001b[0m\u001b[1;33m\u001b[0m\u001b[0m\n\u001b[0m\u001b[0;32m    208\u001b[0m \u001b[1;33m\u001b[0m\u001b[0m\n\u001b[0;32m    209\u001b[0m         \u001b[1;32mif\u001b[0m \u001b[0mna_position\u001b[0m \u001b[1;32mnot\u001b[0m \u001b[1;32min\u001b[0m \u001b[1;33m[\u001b[0m\u001b[1;34m'last'\u001b[0m\u001b[1;33m,\u001b[0m \u001b[1;34m'first'\u001b[0m\u001b[1;33m]\u001b[0m\u001b[1;33m:\u001b[0m\u001b[1;33m\u001b[0m\u001b[1;33m\u001b[0m\u001b[0m\n",
      "\u001b[1;32mC:\\ProgramFiles\\Anaconda\\lib\\site-packages\\pandas\\core\\arrays\\categorical.py\u001b[0m in \u001b[0;36m__init__\u001b[1;34m(self, values, categories, ordered, dtype, fastpath)\u001b[0m\n\u001b[0;32m    372\u001b[0m \u001b[1;33m\u001b[0m\u001b[0m\n\u001b[0;32m    373\u001b[0m             \u001b[1;31m# we're inferring from values\u001b[0m\u001b[1;33m\u001b[0m\u001b[1;33m\u001b[0m\u001b[1;33m\u001b[0m\u001b[0m\n\u001b[1;32m--> 374\u001b[1;33m             \u001b[0mdtype\u001b[0m \u001b[1;33m=\u001b[0m \u001b[0mCategoricalDtype\u001b[0m\u001b[1;33m(\u001b[0m\u001b[0mcategories\u001b[0m\u001b[1;33m,\u001b[0m \u001b[0mdtype\u001b[0m\u001b[1;33m.\u001b[0m\u001b[0mordered\u001b[0m\u001b[1;33m)\u001b[0m\u001b[1;33m\u001b[0m\u001b[1;33m\u001b[0m\u001b[0m\n\u001b[0m\u001b[0;32m    375\u001b[0m \u001b[1;33m\u001b[0m\u001b[0m\n\u001b[0;32m    376\u001b[0m         \u001b[1;32melif\u001b[0m \u001b[0mis_categorical_dtype\u001b[0m\u001b[1;33m(\u001b[0m\u001b[0mvalues\u001b[0m\u001b[1;33m)\u001b[0m\u001b[1;33m:\u001b[0m\u001b[1;33m\u001b[0m\u001b[1;33m\u001b[0m\u001b[0m\n",
      "\u001b[1;32mC:\\ProgramFiles\\Anaconda\\lib\\site-packages\\pandas\\core\\dtypes\\dtypes.py\u001b[0m in \u001b[0;36m__init__\u001b[1;34m(self, categories, ordered)\u001b[0m\n\u001b[0;32m    224\u001b[0m \u001b[1;33m\u001b[0m\u001b[0m\n\u001b[0;32m    225\u001b[0m     \u001b[1;32mdef\u001b[0m \u001b[0m__init__\u001b[0m\u001b[1;33m(\u001b[0m\u001b[0mself\u001b[0m\u001b[1;33m,\u001b[0m \u001b[0mcategories\u001b[0m\u001b[1;33m=\u001b[0m\u001b[1;32mNone\u001b[0m\u001b[1;33m,\u001b[0m \u001b[0mordered\u001b[0m\u001b[1;33m=\u001b[0m\u001b[1;32mNone\u001b[0m\u001b[1;33m)\u001b[0m\u001b[1;33m:\u001b[0m\u001b[1;33m\u001b[0m\u001b[1;33m\u001b[0m\u001b[0m\n\u001b[1;32m--> 226\u001b[1;33m         \u001b[0mself\u001b[0m\u001b[1;33m.\u001b[0m\u001b[0m_finalize\u001b[0m\u001b[1;33m(\u001b[0m\u001b[0mcategories\u001b[0m\u001b[1;33m,\u001b[0m \u001b[0mordered\u001b[0m\u001b[1;33m,\u001b[0m \u001b[0mfastpath\u001b[0m\u001b[1;33m=\u001b[0m\u001b[1;32mFalse\u001b[0m\u001b[1;33m)\u001b[0m\u001b[1;33m\u001b[0m\u001b[1;33m\u001b[0m\u001b[0m\n\u001b[0m\u001b[0;32m    227\u001b[0m \u001b[1;33m\u001b[0m\u001b[0m\n\u001b[0;32m    228\u001b[0m     \u001b[1;33m@\u001b[0m\u001b[0mclassmethod\u001b[0m\u001b[1;33m\u001b[0m\u001b[1;33m\u001b[0m\u001b[0m\n",
      "\u001b[1;32mC:\\ProgramFiles\\Anaconda\\lib\\site-packages\\pandas\\core\\dtypes\\dtypes.py\u001b[0m in \u001b[0;36m_finalize\u001b[1;34m(self, categories, ordered, fastpath)\u001b[0m\n\u001b[0;32m    333\u001b[0m         \u001b[1;32mif\u001b[0m \u001b[0mcategories\u001b[0m \u001b[1;32mis\u001b[0m \u001b[1;32mnot\u001b[0m \u001b[1;32mNone\u001b[0m\u001b[1;33m:\u001b[0m\u001b[1;33m\u001b[0m\u001b[1;33m\u001b[0m\u001b[0m\n\u001b[0;32m    334\u001b[0m             categories = self.validate_categories(categories,\n\u001b[1;32m--> 335\u001b[1;33m                                                   fastpath=fastpath)\n\u001b[0m\u001b[0;32m    336\u001b[0m \u001b[1;33m\u001b[0m\u001b[0m\n\u001b[0;32m    337\u001b[0m         \u001b[0mself\u001b[0m\u001b[1;33m.\u001b[0m\u001b[0m_categories\u001b[0m \u001b[1;33m=\u001b[0m \u001b[0mcategories\u001b[0m\u001b[1;33m\u001b[0m\u001b[1;33m\u001b[0m\u001b[0m\n",
      "\u001b[1;32mC:\\ProgramFiles\\Anaconda\\lib\\site-packages\\pandas\\core\\dtypes\\dtypes.py\u001b[0m in \u001b[0;36mvalidate_categories\u001b[1;34m(categories, fastpath)\u001b[0m\n\u001b[0;32m    511\u001b[0m                 \u001b[1;32mraise\u001b[0m \u001b[0mValueError\u001b[0m\u001b[1;33m(\u001b[0m\u001b[1;34m'Categorial categories cannot be null'\u001b[0m\u001b[1;33m)\u001b[0m\u001b[1;33m\u001b[0m\u001b[1;33m\u001b[0m\u001b[0m\n\u001b[0;32m    512\u001b[0m \u001b[1;33m\u001b[0m\u001b[0m\n\u001b[1;32m--> 513\u001b[1;33m             \u001b[1;32mif\u001b[0m \u001b[1;32mnot\u001b[0m \u001b[0mcategories\u001b[0m\u001b[1;33m.\u001b[0m\u001b[0mis_unique\u001b[0m\u001b[1;33m:\u001b[0m\u001b[1;33m\u001b[0m\u001b[1;33m\u001b[0m\u001b[0m\n\u001b[0m\u001b[0;32m    514\u001b[0m                 \u001b[1;32mraise\u001b[0m \u001b[0mValueError\u001b[0m\u001b[1;33m(\u001b[0m\u001b[1;34m'Categorical categories must be unique'\u001b[0m\u001b[1;33m)\u001b[0m\u001b[1;33m\u001b[0m\u001b[1;33m\u001b[0m\u001b[0m\n\u001b[0;32m    515\u001b[0m \u001b[1;33m\u001b[0m\u001b[0m\n",
      "\u001b[1;32mpandas/_libs/properties.pyx\u001b[0m in \u001b[0;36mpandas._libs.properties.CachedProperty.__get__\u001b[1;34m()\u001b[0m\n",
      "\u001b[1;32mC:\\ProgramFiles\\Anaconda\\lib\\site-packages\\pandas\\core\\indexes\\numeric.py\u001b[0m in \u001b[0;36mis_unique\u001b[1;34m(self)\u001b[0m\n\u001b[0;32m    438\u001b[0m     \u001b[1;33m@\u001b[0m\u001b[0mcache_readonly\u001b[0m\u001b[1;33m\u001b[0m\u001b[1;33m\u001b[0m\u001b[0m\n\u001b[0;32m    439\u001b[0m     \u001b[1;32mdef\u001b[0m \u001b[0mis_unique\u001b[0m\u001b[1;33m(\u001b[0m\u001b[0mself\u001b[0m\u001b[1;33m)\u001b[0m\u001b[1;33m:\u001b[0m\u001b[1;33m\u001b[0m\u001b[1;33m\u001b[0m\u001b[0m\n\u001b[1;32m--> 440\u001b[1;33m         \u001b[1;32mreturn\u001b[0m \u001b[0msuper\u001b[0m\u001b[1;33m(\u001b[0m\u001b[0mFloat64Index\u001b[0m\u001b[1;33m,\u001b[0m \u001b[0mself\u001b[0m\u001b[1;33m)\u001b[0m\u001b[1;33m.\u001b[0m\u001b[0mis_unique\u001b[0m \u001b[1;32mand\u001b[0m \u001b[0mself\u001b[0m\u001b[1;33m.\u001b[0m\u001b[0m_nan_idxs\u001b[0m\u001b[1;33m.\u001b[0m\u001b[0msize\u001b[0m \u001b[1;33m<\u001b[0m \u001b[1;36m2\u001b[0m\u001b[1;33m\u001b[0m\u001b[1;33m\u001b[0m\u001b[0m\n\u001b[0m\u001b[0;32m    441\u001b[0m \u001b[1;33m\u001b[0m\u001b[0m\n\u001b[0;32m    442\u001b[0m     \u001b[1;33m@\u001b[0m\u001b[0mAppender\u001b[0m\u001b[1;33m(\u001b[0m\u001b[0mIndex\u001b[0m\u001b[1;33m.\u001b[0m\u001b[0misin\u001b[0m\u001b[1;33m.\u001b[0m\u001b[0m__doc__\u001b[0m\u001b[1;33m)\u001b[0m\u001b[1;33m\u001b[0m\u001b[1;33m\u001b[0m\u001b[0m\n",
      "\u001b[1;32mpandas/_libs/properties.pyx\u001b[0m in \u001b[0;36mpandas._libs.properties.CachedProperty.__get__\u001b[1;34m()\u001b[0m\n",
      "\u001b[1;32mC:\\ProgramFiles\\Anaconda\\lib\\site-packages\\pandas\\core\\indexes\\base.py\u001b[0m in \u001b[0;36mis_unique\u001b[1;34m(self)\u001b[0m\n\u001b[0;32m   1661\u001b[0m         \u001b[0mReturn\u001b[0m \u001b[1;32mif\u001b[0m \u001b[0mthe\u001b[0m \u001b[0mindex\u001b[0m \u001b[0mhas\u001b[0m \u001b[0munique\u001b[0m \u001b[0mvalues\u001b[0m\u001b[1;33m.\u001b[0m\u001b[1;33m\u001b[0m\u001b[1;33m\u001b[0m\u001b[0m\n\u001b[0;32m   1662\u001b[0m         \"\"\"\n\u001b[1;32m-> 1663\u001b[1;33m         \u001b[1;32mreturn\u001b[0m \u001b[0mself\u001b[0m\u001b[1;33m.\u001b[0m\u001b[0m_engine\u001b[0m\u001b[1;33m.\u001b[0m\u001b[0mis_unique\u001b[0m\u001b[1;33m\u001b[0m\u001b[1;33m\u001b[0m\u001b[0m\n\u001b[0m\u001b[0;32m   1664\u001b[0m \u001b[1;33m\u001b[0m\u001b[0m\n\u001b[0;32m   1665\u001b[0m     \u001b[1;33m@\u001b[0m\u001b[0mproperty\u001b[0m\u001b[1;33m\u001b[0m\u001b[1;33m\u001b[0m\u001b[0m\n",
      "\u001b[1;31mKeyboardInterrupt\u001b[0m: "
     ]
    }
   ],
   "source": [
    "N_FOLDS = 3\n",
    "submission = submission_csv.copy()\n",
    "\n",
    "cv_scores = {}\n",
    "for coupling_type in model_params.keys():\n",
    "    cv_score = train_and_predict_for_one_coupling_type(\n",
    "        coupling_type, submission, n_atoms=model_params[coupling_type], n_folds=N_FOLDS)\n",
    "    cv_scores[coupling_type] = cv_score"
   ]
  },
  {
   "cell_type": "code",
   "execution_count": null,
   "metadata": {},
   "outputs": [],
   "source": [
    "pd.DataFrame({'type': list(cv_scores.keys()), 'cv_score': list(cv_scores.values())})"
   ]
  },
  {
   "cell_type": "markdown",
   "metadata": {},
   "source": [
    "And cv mean score:"
   ]
  },
  {
   "cell_type": "code",
   "execution_count": null,
   "metadata": {},
   "outputs": [],
   "source": [
    "np.mean(list(cv_scores.values()))"
   ]
  },
  {
   "cell_type": "markdown",
   "metadata": {},
   "source": [
    "Sanity check for all cells to be filled with predictions:"
   ]
  },
  {
   "cell_type": "code",
   "execution_count": null,
   "metadata": {},
   "outputs": [],
   "source": [
    "submission[submission['scalar_coupling_constant'] == 0].shape"
   ]
  },
  {
   "cell_type": "code",
   "execution_count": null,
   "metadata": {},
   "outputs": [],
   "source": [
    "submission.head(10)"
   ]
  },
  {
   "cell_type": "code",
   "execution_count": null,
   "metadata": {},
   "outputs": [],
   "source": [
    "submission.to_csv(f'{SUBMISSIONS_PATH}/submission.csv')"
   ]
  },
  {
   "cell_type": "markdown",
   "metadata": {},
   "source": [
    "## a!!!"
   ]
  },
  {
   "cell_type": "code",
   "execution_count": null,
   "metadata": {},
   "outputs": [],
   "source": []
  }
 ],
 "metadata": {
  "kernelspec": {
   "display_name": "Python 3",
   "language": "python",
   "name": "python3"
  },
  "language_info": {
   "codemirror_mode": {
    "name": "ipython",
    "version": 3
   },
   "file_extension": ".py",
   "mimetype": "text/x-python",
   "name": "python",
   "nbconvert_exporter": "python",
   "pygments_lexer": "ipython3",
   "version": "3.7.3"
  },
  "varInspector": {
   "cols": {
    "lenName": 16,
    "lenType": 16,
    "lenVar": 40
   },
   "kernels_config": {
    "python": {
     "delete_cmd_postfix": "",
     "delete_cmd_prefix": "del ",
     "library": "var_list.py",
     "varRefreshCmd": "print(var_dic_list())"
    },
    "r": {
     "delete_cmd_postfix": ") ",
     "delete_cmd_prefix": "rm(",
     "library": "var_list.r",
     "varRefreshCmd": "cat(var_dic_list()) "
    }
   },
   "oldHeight": 630,
   "position": {
    "height": "40px",
    "left": "1388px",
    "right": "20px",
    "top": "8px",
    "width": "516px"
   },
   "types_to_exclude": [
    "module",
    "function",
    "builtin_function_or_method",
    "instance",
    "_Feature"
   ],
   "varInspector_section_display": "none",
   "window_display": true
  }
 },
 "nbformat": 4,
 "nbformat_minor": 1
}
